{
 "cells": [
  {
   "cell_type": "markdown",
   "id": "bc9b6b50-bd94-46df-92a5-e76fb8b8d44a",
   "metadata": {
    "canvas": {
     "comments": [],
     "componentType": "CodeCell",
     "copiedOriginId": null,
     "diskcache": false,
     "headerColor": "inherit",
     "id": "a373ed20-cc85-4fd3-b060-14ff9490ac3f",
     "isComponent": false,
     "name": "",
     "parents": []
    },
    "tags": []
   },
   "source": [
    "<img src=\"img/logo_p8.png\">"
   ]
  },
  {
   "cell_type": "markdown",
   "id": "fbe05103-69fb-4da0-a011-e03a445ab99e",
   "metadata": {
    "canvas": {
     "comments": [],
     "componentType": "CodeCell",
     "copiedOriginId": null,
     "diskcache": false,
     "headerColor": "inherit",
     "id": "4e4da988-1edb-4ce8-b8c6-6338abcb955e",
     "isComponent": false,
     "name": "",
     "parents": []
    }
   },
   "source": [
    "# Importation des librairies"
   ]
  },
  {
   "cell_type": "code",
   "execution_count": 1,
   "id": "cf6bceb7-623a-41e7-b1a3-4d6c6e5a06c7",
   "metadata": {
    "canvas": {
     "comments": [],
     "componentType": "CodeCell",
     "copiedOriginId": null,
     "diskcache": false,
     "headerColor": "inherit",
     "id": "aa247623-114b-4b89-b649-184f420ecc1d",
     "isComponent": false,
     "name": "",
     "parents": []
    }
   },
   "outputs": [
    {
     "name": "stdout",
     "output_type": "stream",
     "text": [
      "Version numpy : 1.23.5\n",
      "Version pandas : 1.4.4\n"
     ]
    }
   ],
   "source": [
    "import numpy as np\n",
    "import pandas as pd\n",
    "from mylib.fonction_exploration import exploration1, exploration2, exploration3, exploration4\n",
    "from mylib.fonction_pk import test_pk\n",
    "from mylib.fonction_merge import df_merge\n",
    "import warnings\n",
    "warnings.filterwarnings('ignore')\n",
    "#!pip install fuzzywuzzy\n",
    "from fuzzywuzzy import fuzz\n",
    "from fuzzywuzzy import process\n",
    "\n",
    "print(\"Version numpy : \" + np.__version__)\n",
    "print(\"Version pandas : \" + pd.__version__)\n",
    "\n",
    "bold = \"\\033[1m\"\n",
    "red = \"\\033[31m\"\n",
    "end = \"\\033[0;0m\"\n",
    "\n",
    "chemin1 = 'src/BasicAndSafelyManagedDrinkingWaterServices.csv'\n",
    "chemin2 = 'src/MortalityRateAttributedToWater.csv'\n",
    "chemin3 = 'src/PoliticalStability.csv'\n",
    "chemin4 = 'src/Population.csv'\n",
    "chemin5 = 'src/RegionCountry.csv'"
   ]
  },
  {
   "cell_type": "markdown",
   "id": "938b5beb-44cb-4f51-8816-62f3a76e0ba8",
   "metadata": {
    "canvas": {
     "comments": [],
     "componentType": "CodeCell",
     "copiedOriginId": null,
     "diskcache": false,
     "headerColor": "inherit",
     "id": "8e2883a0-6855-4f8e-8956-50f0323b90dc",
     "isComponent": false,
     "name": "",
     "parents": []
    }
   },
   "source": [
    "# Chargement des fichiers"
   ]
  },
  {
   "cell_type": "code",
   "execution_count": 2,
   "id": "cffe3f61-19eb-48c6-b3c7-89af3bc20216",
   "metadata": {
    "canvas": {
     "comments": [],
     "componentType": "CodeCell",
     "copiedOriginId": null,
     "diskcache": false,
     "headerColor": "inherit",
     "id": "9e41ea50-92c8-4f6d-af78-a359523de147",
     "isComponent": false,
     "name": "",
     "parents": []
    }
   },
   "outputs": [],
   "source": [
    "water = pd.read_csv(chemin1)\n",
    "mortal = pd.read_csv(chemin2)\n",
    "stab = pd.read_csv(chemin3)\n",
    "pop = pd.read_csv(chemin4)\n",
    "country = pd.read_csv(chemin5)"
   ]
  },
  {
   "cell_type": "markdown",
   "id": "c585f50f-c5e8-4e89-b3df-644212520d9d",
   "metadata": {
    "canvas": {
     "comments": [],
     "componentType": "CodeCell",
     "copiedOriginId": "e694fc81-1b59-46d2-99eb-edf593035222",
     "diskcache": false,
     "headerColor": "inherit",
     "id": "f24e6a5b-40e6-4dfb-995e-09bb85c33bde",
     "isComponent": false,
     "name": "",
     "parents": []
    },
    "tags": []
   },
   "source": [
    "# **Countries**"
   ]
  },
  {
   "cell_type": "markdown",
   "id": "ce7d14fb-d35f-43e2-977f-77c8da663501",
   "metadata": {
    "canvas": {
     "comments": [],
     "componentType": "CodeCell",
     "copiedOriginId": "ef409bba-6365-4f95-9c8e-2bb41fab3f3f",
     "diskcache": false,
     "headerColor": "none",
     "id": "1ad2943d-7e6a-40b9-b289-7fd32df90742",
     "isComponent": false,
     "name": "",
     "parents": []
    }
   },
   "source": [
    "## Observations uniques"
   ]
  },
  {
   "cell_type": "code",
   "execution_count": 3,
   "id": "68b0bfc4",
   "metadata": {
    "canvas": {
     "comments": [],
     "componentType": "CodeCell",
     "copiedOriginId": "db5df400-d102-44a7-834c-691df4ea6f93",
     "diskcache": false,
     "headerColor": "none",
     "id": "3f86dbba-3c83-4370-a2ea-6b835ff65754",
     "isComponent": false,
     "name": "",
     "parents": []
    }
   },
   "outputs": [
    {
     "name": "stdout",
     "output_type": "stream",
     "text": [
      "\u001b[1mREGION (DISPLAY)\u001b[0;0m \n",
      " ['Europe' 'Western Pacific' 'Eastern Mediterranean' 'South-East Asia'\n",
      " 'Africa' 'Americas'] \n",
      "\n",
      "\u001b[1mCOUNTRY (DISPLAY)\u001b[0;0m \n",
      " ['Albania' 'Andorra' 'Armenia' 'Australia' 'Austria' 'Azerbaijan'\n",
      " 'Bahrain' 'Bangladesh' 'Belarus' 'Belgium' 'Bhutan'\n",
      " 'Bosnia and Herzegovina' 'Botswana' 'Brazil' 'Bulgaria' 'Cambodia'\n",
      " 'Canada' 'Chile' 'China' 'Colombia' 'Congo' 'Costa Rica' 'Croatia'\n",
      " 'Cyprus' 'Czechia'] \n",
      "\n"
     ]
    }
   ],
   "source": [
    "for i in country.columns:\n",
    "    print(bold + i + end, \"\\n\", country[i].unique()[0:25], \"\\n\")"
   ]
  },
  {
   "cell_type": "markdown",
   "id": "a6881ebb-26dc-487f-9fff-c4b3adef02de",
   "metadata": {
    "canvas": {
     "comments": [],
     "componentType": "CodeCell",
     "copiedOriginId": "4584184a-51fc-42b3-8f01-ef2f78568481",
     "diskcache": false,
     "headerColor": "none",
     "id": "316d7773-9b2f-46d5-aa67-1ffc7b21ec84",
     "isComponent": false,
     "name": "",
     "parents": []
    }
   },
   "source": [
    "## Exploration"
   ]
  },
  {
   "cell_type": "code",
   "execution_count": 4,
   "id": "e4e1e03a-bfb6-4d34-9b27-e0ac069c0978",
   "metadata": {
    "canvas": {
     "comments": [],
     "componentType": "CodeCell",
     "copiedOriginId": "b5260f90-8b60-4b48-ae1d-2763f14ac54c",
     "diskcache": false,
     "headerColor": "inherit",
     "id": "679afc02-6fc9-41f9-96d2-32a3e745d9db",
     "isComponent": false,
     "name": "",
     "parents": []
    }
   },
   "outputs": [
    {
     "data": {
      "text/html": [
       "<style type=\"text/css\">\n",
       "</style>\n",
       "<table id=\"T_34a7c\" style='display:grid'>\n",
       "  <caption>__________ Head __________</caption>\n",
       "  <thead>\n",
       "    <tr>\n",
       "      <th class=\"blank level0\" >&nbsp;</th>\n",
       "      <th id=\"T_34a7c_level0_col0\" class=\"col_heading level0 col0\" >REGION (DISPLAY)</th>\n",
       "      <th id=\"T_34a7c_level0_col1\" class=\"col_heading level0 col1\" >COUNTRY (DISPLAY)</th>\n",
       "    </tr>\n",
       "  </thead>\n",
       "  <tbody>\n",
       "    <tr>\n",
       "      <th id=\"T_34a7c_level0_row0\" class=\"row_heading level0 row0\" >0</th>\n",
       "      <td id=\"T_34a7c_row0_col0\" class=\"data row0 col0\" >Europe</td>\n",
       "      <td id=\"T_34a7c_row0_col1\" class=\"data row0 col1\" >Albania</td>\n",
       "    </tr>\n",
       "    <tr>\n",
       "      <th id=\"T_34a7c_level0_row1\" class=\"row_heading level0 row1\" >1</th>\n",
       "      <td id=\"T_34a7c_row1_col0\" class=\"data row1 col0\" >Europe</td>\n",
       "      <td id=\"T_34a7c_row1_col1\" class=\"data row1 col1\" >Andorra</td>\n",
       "    </tr>\n",
       "    <tr>\n",
       "      <th id=\"T_34a7c_level0_row2\" class=\"row_heading level0 row2\" >2</th>\n",
       "      <td id=\"T_34a7c_row2_col0\" class=\"data row2 col0\" >Europe</td>\n",
       "      <td id=\"T_34a7c_row2_col1\" class=\"data row2 col1\" >Armenia</td>\n",
       "    </tr>\n",
       "  </tbody>\n",
       "</table>\n",
       " <style type=\"text/css\">\n",
       "</style>\n",
       "<table id=\"T_3eb63\" style='display:grid'>\n",
       "  <caption>__________ Tail __________</caption>\n",
       "  <thead>\n",
       "    <tr>\n",
       "      <th class=\"blank level0\" >&nbsp;</th>\n",
       "      <th id=\"T_3eb63_level0_col0\" class=\"col_heading level0 col0\" >REGION (DISPLAY)</th>\n",
       "      <th id=\"T_3eb63_level0_col1\" class=\"col_heading level0 col1\" >COUNTRY (DISPLAY)</th>\n",
       "    </tr>\n",
       "  </thead>\n",
       "  <tbody>\n",
       "    <tr>\n",
       "      <th id=\"T_3eb63_level0_row0\" class=\"row_heading level0 row0\" >191</th>\n",
       "      <td id=\"T_3eb63_row0_col0\" class=\"data row0 col0\" >Western Pacific</td>\n",
       "      <td id=\"T_3eb63_row0_col1\" class=\"data row0 col1\" >Viet Nam</td>\n",
       "    </tr>\n",
       "    <tr>\n",
       "      <th id=\"T_3eb63_level0_row1\" class=\"row_heading level0 row1\" >192</th>\n",
       "      <td id=\"T_3eb63_row1_col0\" class=\"data row1 col0\" >Eastern Mediterranean</td>\n",
       "      <td id=\"T_3eb63_row1_col1\" class=\"data row1 col1\" >Yemen</td>\n",
       "    </tr>\n",
       "    <tr>\n",
       "      <th id=\"T_3eb63_level0_row2\" class=\"row_heading level0 row2\" >193</th>\n",
       "      <td id=\"T_3eb63_row2_col0\" class=\"data row2 col0\" >Africa</td>\n",
       "      <td id=\"T_3eb63_row2_col1\" class=\"data row2 col1\" >Zimbabwe</td>\n",
       "    </tr>\n",
       "  </tbody>\n",
       "</table>\n",
       " <style type=\"text/css\">\n",
       "</style>\n",
       "<table id=\"T_90d79\" style='display:grid'>\n",
       "  <caption>__________ Sample __________</caption>\n",
       "  <thead>\n",
       "    <tr>\n",
       "      <th class=\"blank level0\" >&nbsp;</th>\n",
       "      <th id=\"T_90d79_level0_col0\" class=\"col_heading level0 col0\" >REGION (DISPLAY)</th>\n",
       "      <th id=\"T_90d79_level0_col1\" class=\"col_heading level0 col1\" >COUNTRY (DISPLAY)</th>\n",
       "    </tr>\n",
       "  </thead>\n",
       "  <tbody>\n",
       "    <tr>\n",
       "      <th id=\"T_90d79_level0_row0\" class=\"row_heading level0 row0\" >50</th>\n",
       "      <td id=\"T_90d79_row0_col0\" class=\"data row0 col0\" >Europe</td>\n",
       "      <td id=\"T_90d79_row0_col1\" class=\"data row0 col1\" >Italy</td>\n",
       "    </tr>\n",
       "    <tr>\n",
       "      <th id=\"T_90d79_level0_row1\" class=\"row_heading level0 row1\" >65</th>\n",
       "      <td id=\"T_90d79_row1_col0\" class=\"data row1 col0\" >Europe</td>\n",
       "      <td id=\"T_90d79_row1_col1\" class=\"data row1 col1\" >Monaco</td>\n",
       "    </tr>\n",
       "    <tr>\n",
       "      <th id=\"T_90d79_level0_row2\" class=\"row_heading level0 row2\" >13</th>\n",
       "      <td id=\"T_90d79_row2_col0\" class=\"data row2 col0\" >Americas</td>\n",
       "      <td id=\"T_90d79_row2_col1\" class=\"data row2 col1\" >Brazil</td>\n",
       "    </tr>\n",
       "  </tbody>\n",
       "</table>\n"
      ]
     },
     "metadata": {},
     "output_type": "display_data"
    }
   ],
   "source": [
    "# La fonction est visible dans le fichier mylib\n",
    "exploration1(country)"
   ]
  },
  {
   "cell_type": "code",
   "execution_count": 5,
   "id": "58e0aeda-2f95-4d4a-9961-9efa43e94eeb",
   "metadata": {
    "canvas": {
     "comments": [],
     "componentType": "CodeCell",
     "copiedOriginId": "b5260f90-8b60-4b48-ae1d-2763f14ac54c",
     "diskcache": false,
     "headerColor": "inherit",
     "id": "28a9d095-8be0-4dda-8fd7-6f1e33770b07",
     "isComponent": false,
     "name": "",
     "parents": []
    }
   },
   "outputs": [
    {
     "data": {
      "text/html": [
       "<div>\n",
       "<style scoped>\n",
       "    .dataframe tbody tr th:only-of-type {\n",
       "        vertical-align: middle;\n",
       "    }\n",
       "\n",
       "    .dataframe tbody tr th {\n",
       "        vertical-align: top;\n",
       "    }\n",
       "\n",
       "    .dataframe thead th {\n",
       "        text-align: right;\n",
       "    }\n",
       "</style>\n",
       "<table border=\"1\" class=\"dataframe\">\n",
       "  <thead>\n",
       "    <tr style=\"text-align: right;\">\n",
       "      <th></th>\n",
       "      <th>Type des données</th>\n",
       "      <th>Nombre de valeurs totales</th>\n",
       "      <th>Nombre de NaN</th>\n",
       "      <th>NaN (%)</th>\n",
       "      <th>Nombre de valeurs uniques</th>\n",
       "      <th>Valeurs uniques (%)</th>\n",
       "    </tr>\n",
       "  </thead>\n",
       "  <tbody>\n",
       "    <tr>\n",
       "      <th>REGION (DISPLAY)</th>\n",
       "      <td>object</td>\n",
       "      <td>194</td>\n",
       "      <td>0</td>\n",
       "      <td>0.0</td>\n",
       "      <td>6</td>\n",
       "      <td>3.092784</td>\n",
       "    </tr>\n",
       "    <tr>\n",
       "      <th>COUNTRY (DISPLAY)</th>\n",
       "      <td>object</td>\n",
       "      <td>194</td>\n",
       "      <td>0</td>\n",
       "      <td>0.0</td>\n",
       "      <td>194</td>\n",
       "      <td>100.0</td>\n",
       "    </tr>\n",
       "  </tbody>\n",
       "</table>\n",
       "</div>"
      ],
      "text/plain": [
       "                  Type des données Nombre de valeurs totales Nombre de NaN  \\\n",
       "REGION (DISPLAY)            object                       194             0   \n",
       "COUNTRY (DISPLAY)           object                       194             0   \n",
       "\n",
       "                  NaN (%) Nombre de valeurs uniques Valeurs uniques (%)  \n",
       "REGION (DISPLAY)      0.0                         6            3.092784  \n",
       "COUNTRY (DISPLAY)     0.0                       194               100.0  "
      ]
     },
     "execution_count": 5,
     "metadata": {},
     "output_type": "execute_result"
    }
   ],
   "source": [
    "# La fonction est visible dans le fichier mylib\n",
    "exploration2(country)"
   ]
  },
  {
   "cell_type": "code",
   "execution_count": 6,
   "id": "1a7ee714-64a1-429e-956b-8d4ad0e8dc2f",
   "metadata": {
    "canvas": {
     "comments": [],
     "componentType": "CodeCell",
     "copiedOriginId": "b5260f90-8b60-4b48-ae1d-2763f14ac54c",
     "diskcache": false,
     "headerColor": "inherit",
     "id": "76f9a927-e23a-41ea-bb74-0f885f8776d2",
     "isComponent": false,
     "name": "",
     "parents": []
    }
   },
   "outputs": [
    {
     "name": "stdout",
     "output_type": "stream",
     "text": [
      "\n",
      "---------------------------------------\n",
      "Nombre de lignes et de colonnes (shape)\n",
      "--------------------------------------- \n",
      "\n",
      "(194, 2) \n",
      "\n",
      "--------------------------------------\n",
      "Affichage des NaN (isna().any(axis=1))\n",
      "-------------------------------------- \n",
      "\n",
      "Empty DataFrame\n",
      "Columns: [REGION (DISPLAY), COUNTRY (DISPLAY)]\n",
      "Index: [] \n",
      "\n",
      "---------------------------------------\n",
      "Nombre de doublons (duplicated().sum())\n",
      "--------------------------------------- \n",
      "\n",
      "0 \n",
      "\n",
      "-----------------------------------------------------\n",
      "Affichage des doublons (df[df.duplicated()].head(10))\n",
      "----------------------------------------------------- \n",
      "\n",
      "Empty DataFrame\n",
      "Columns: [REGION (DISPLAY), COUNTRY (DISPLAY)]\n",
      "Index: [] \n",
      "\n"
     ]
    }
   ],
   "source": [
    "# La fonction est visible dans le fichier mylib\n",
    "exploration3(country)"
   ]
  },
  {
   "cell_type": "code",
   "execution_count": 7,
   "id": "11898875-cd2a-461c-8eea-7b67ff7d8c89",
   "metadata": {
    "canvas": {
     "comments": [],
     "componentType": "CodeCell",
     "copiedOriginId": "b5260f90-8b60-4b48-ae1d-2763f14ac54c",
     "diskcache": false,
     "headerColor": "inherit",
     "id": "7329e0b8-a088-4709-9076-c240eb3b8c5a",
     "isComponent": false,
     "name": "",
     "parents": []
    }
   },
   "outputs": [
    {
     "data": {
      "text/html": [
       "<div>\n",
       "<style scoped>\n",
       "    .dataframe tbody tr th:only-of-type {\n",
       "        vertical-align: middle;\n",
       "    }\n",
       "\n",
       "    .dataframe tbody tr th {\n",
       "        vertical-align: top;\n",
       "    }\n",
       "\n",
       "    .dataframe thead th {\n",
       "        text-align: right;\n",
       "    }\n",
       "</style>\n",
       "<table border=\"1\" class=\"dataframe\">\n",
       "  <thead>\n",
       "    <tr style=\"text-align: right;\">\n",
       "      <th></th>\n",
       "      <th>count</th>\n",
       "      <th>unique</th>\n",
       "      <th>top</th>\n",
       "      <th>freq</th>\n",
       "    </tr>\n",
       "  </thead>\n",
       "  <tbody>\n",
       "    <tr>\n",
       "      <th>REGION (DISPLAY)</th>\n",
       "      <td>194</td>\n",
       "      <td>6</td>\n",
       "      <td>Europe</td>\n",
       "      <td>53</td>\n",
       "    </tr>\n",
       "    <tr>\n",
       "      <th>COUNTRY (DISPLAY)</th>\n",
       "      <td>194</td>\n",
       "      <td>194</td>\n",
       "      <td>Albania</td>\n",
       "      <td>1</td>\n",
       "    </tr>\n",
       "  </tbody>\n",
       "</table>\n",
       "</div>"
      ],
      "text/plain": [
       "                  count unique      top freq\n",
       "REGION (DISPLAY)    194      6   Europe   53\n",
       "COUNTRY (DISPLAY)   194    194  Albania    1"
      ]
     },
     "execution_count": 7,
     "metadata": {},
     "output_type": "execute_result"
    }
   ],
   "source": [
    "# La fonction est visible dans le fichier mylib\n",
    "exploration4(country)"
   ]
  },
  {
   "cell_type": "code",
   "execution_count": 8,
   "id": "28a6e593",
   "metadata": {
    "canvas": {
     "comments": [],
     "componentType": "CodeCell",
     "copiedOriginId": "b1431016-51a1-44a5-9b14-2cef9ef82ab5",
     "diskcache": false,
     "headerColor": "none",
     "id": "c0ad8f63-f16e-4156-bc48-32e783a79ec2",
     "isComponent": false,
     "name": "",
     "parents": []
    }
   },
   "outputs": [],
   "source": [
    "# Renommage de colonne\n",
    "country.rename(columns={'REGION (DISPLAY)': 'Region', 'COUNTRY (DISPLAY)': 'Country' }, inplace=True)"
   ]
  },
  {
   "cell_type": "code",
   "execution_count": 9,
   "id": "6ea378ba",
   "metadata": {
    "canvas": {
     "comments": [],
     "componentType": "CodeCell",
     "copiedOriginId": "ed1afb8f-173d-4fd5-bce5-e5eaec826961",
     "diskcache": false,
     "headerColor": "none",
     "id": "bc7c04b2-54a1-47ac-bab1-c9a3d91a684d",
     "isComponent": false,
     "name": "",
     "parents": []
    }
   },
   "outputs": [
    {
     "data": {
      "text/html": [
       "<div>\n",
       "<style scoped>\n",
       "    .dataframe tbody tr th:only-of-type {\n",
       "        vertical-align: middle;\n",
       "    }\n",
       "\n",
       "    .dataframe tbody tr th {\n",
       "        vertical-align: top;\n",
       "    }\n",
       "\n",
       "    .dataframe thead th {\n",
       "        text-align: right;\n",
       "    }\n",
       "</style>\n",
       "<table border=\"1\" class=\"dataframe\">\n",
       "  <thead>\n",
       "    <tr style=\"text-align: right;\">\n",
       "      <th></th>\n",
       "      <th>Region</th>\n",
       "      <th>Country</th>\n",
       "    </tr>\n",
       "  </thead>\n",
       "  <tbody>\n",
       "    <tr>\n",
       "      <th>121</th>\n",
       "      <td>Americas</td>\n",
       "      <td>Barbados</td>\n",
       "    </tr>\n",
       "  </tbody>\n",
       "</table>\n",
       "</div>"
      ],
      "text/plain": [
       "       Region   Country\n",
       "121  Americas  Barbados"
      ]
     },
     "execution_count": 9,
     "metadata": {},
     "output_type": "execute_result"
    }
   ],
   "source": [
    "country.sample()"
   ]
  },
  {
   "cell_type": "markdown",
   "id": "0d32e506-3da1-403a-9043-ad2f7149a97b",
   "metadata": {
    "canvas": {
     "comments": [],
     "componentType": "CodeCell",
     "copiedOriginId": null,
     "diskcache": false,
     "headerColor": "inherit",
     "id": "d4c142cc-5b59-407c-88b0-80fd0772634f",
     "isComponent": false,
     "name": "",
     "parents": []
    }
   },
   "source": [
    "## Vérification des incohérences dans les noms des pays"
   ]
  },
  {
   "cell_type": "markdown",
   "id": "1532d81e-3305-4dc6-8307-f19660270b9a",
   "metadata": {
    "canvas": {
     "comments": [],
     "componentType": "CodeCell",
     "copiedOriginId": null,
     "diskcache": false,
     "headerColor": "inherit",
     "id": "28b743d3-87e4-4c9f-a455-9d0dc7e65495",
     "isComponent": false,
     "name": "",
     "parents": []
    }
   },
   "source": [
    "### Pays absents du DataFrame 'country'"
   ]
  },
  {
   "cell_type": "code",
   "execution_count": 10,
   "id": "c5153179-f588-42eb-8e8d-c76f25ad8084",
   "metadata": {
    "canvas": {
     "comments": [],
     "componentType": "CodeCell",
     "copiedOriginId": null,
     "diskcache": false,
     "headerColor": "inherit",
     "id": "3411d7b7-7044-4ee3-9762-9445c4af5a42",
     "isComponent": false,
     "name": "",
     "parents": []
    }
   },
   "outputs": [
    {
     "name": "stdout",
     "output_type": "stream",
     "text": [
      "\u001b[1mIl n'y a pas d'incohérences dans le DataFrame 'country'\n",
      "\u001b[0;0m\n",
      "\u001b[1m\u001b[31m46 incohérences dans le DataFrame 'pop':\u001b[0;0m\n",
      "['American Samoa' 'Anguilla' 'Aruba' 'Bermuda'\n",
      " 'Bonaire, Sint Eustatius and Saba' 'British Virgin Islands'\n",
      " 'Cayman Islands' 'Channel Islands' 'China, Hong Kong SAR'\n",
      " 'China, Macao SAR' 'China, mainland' 'China, Taiwan Province of'\n",
      " 'Curaçao' 'Falkland Islands (Malvinas)' 'Faroe Islands' 'French Guyana'\n",
      " 'French Polynesia' 'Gibraltar' 'Greenland' 'Guadeloupe' 'Guam' 'Holy See'\n",
      " 'Isle of Man' 'Liechtenstein' 'Martinique' 'Mayotte' 'Montserrat'\n",
      " 'Netherlands Antilles (former)' 'New Caledonia' 'North Macedonia'\n",
      " 'Northern Mariana Islands' 'Palestine' 'Puerto Rico' 'Réunion'\n",
      " 'Saint Barthélemy' 'Saint Helena, Ascension and Tristan da Cunha'\n",
      " 'Saint Pierre and Miquelon' 'Saint-Martin (French part)'\n",
      " 'Serbia and Montenegro' 'Sint Maarten  (Dutch part)' 'Sudan (former)'\n",
      " 'Tokelau' 'Turks and Caicos Islands' 'United States Virgin Islands'\n",
      " 'Wallis and Futuna Islands' 'Western Sahara'] \n",
      "\n",
      "\u001b[1mIl n'y a pas d'incohérences dans le DataFrame 'water'\n",
      "\u001b[0;0m\n",
      "\u001b[1m\u001b[31m10 incohérences dans le DataFrame 'stab':\u001b[0;0m\n",
      "['American Samoa' 'Bermuda' 'China, Hong Kong SAR' 'China, Macao SAR'\n",
      " 'China, mainland' 'China, Taiwan Province of' 'Greenland'\n",
      " 'North Macedonia' 'Palestine' 'Puerto Rico'] \n",
      "\n",
      "\u001b[1mIl n'y a pas d'incohérences dans le DataFrame 'mortal'\n",
      "\u001b[0;0m\n"
     ]
    }
   ],
   "source": [
    "# Crée un dictionnaire pour stocker les colonnes 'Country' de chaque DataFrame\n",
    "dataframes = {'country': country['Country'],\n",
    "              'pop': pop['Country'],\n",
    "              'water': water['Country'],\n",
    "              'stab': stab['Country'],\n",
    "              'mortal': mortal['Country']}\n",
    "\n",
    "# Vérifie les incohérences par rapport au DataFrame 'country'\n",
    "inconsistencies = {}\n",
    "\n",
    "# Parcourt chaque DataFrame et compare les pays avec le DataFrame 'country'\n",
    "for name, df_countries in dataframes.items():\n",
    "    inconsistencies[name] = df_countries[~df_countries.isin(dataframes['country'])]\n",
    "\n",
    "# Affiche les incohérences sous forme de valeurs uniques\n",
    "for name, inconsistency in inconsistencies.items():\n",
    "    if not inconsistency.empty:\n",
    "        print(bold + red + f\"{inconsistency.nunique()} incohérences dans le DataFrame '{name}':\" + end)\n",
    "        print(inconsistency.unique(), '\\n')\n",
    "    else:\n",
    "        print(bold + f\"Il n'y a pas d'incohérences dans le DataFrame '{name}'\\n\" + end)"
   ]
  },
  {
   "cell_type": "markdown",
   "id": "b3d85083-d2f4-4cd5-a32f-d5a6015d782c",
   "metadata": {
    "canvas": {
     "comments": [],
     "componentType": "CodeCell",
     "copiedOriginId": null,
     "diskcache": false,
     "headerColor": "inherit",
     "id": "81000733-93db-4c11-b204-7d4b963b31fb",
     "isComponent": false,
     "name": "",
     "parents": []
    }
   },
   "source": [
    "### Pays du DataFrame 'country' absents des autres DataFrames"
   ]
  },
  {
   "cell_type": "code",
   "execution_count": 11,
   "id": "6fd010d8-7cd1-4291-8840-2cd43f422fd5",
   "metadata": {
    "canvas": {
     "comments": [],
     "componentType": "CodeCell",
     "copiedOriginId": null,
     "diskcache": false,
     "headerColor": "inherit",
     "id": "ca77bae3-8506-4380-b667-e296b7ca7e2a",
     "isComponent": false,
     "name": "",
     "parents": []
    },
    "tags": []
   },
   "outputs": [
    {
     "name": "stdout",
     "output_type": "stream",
     "text": [
      "\u001b[1m\u001b[31m1 pays manquant dans le DataFrame 'pop':\u001b[0;0m\n",
      "Republic of North Macedonia \n",
      "\n",
      "\u001b[1m\u001b[31m4 pays manquants dans le DataFrame 'stab':\u001b[0;0m\n",
      "China, San Marino, Republic of North Macedonia, Monaco \n",
      "\n",
      "\u001b[1m\u001b[31m11 pays manquants dans le DataFrame 'mortal':\u001b[0;0m\n",
      "San Marino, Cook Islands, Nauru, Saint Kitts and Nevis, Andorra, Palau, Marshall Islands, Tuvalu, Niue, Dominica, Monaco \n",
      "\n"
     ]
    }
   ],
   "source": [
    "# Crée un dictionnaire pour stocker les colonnes 'Country' de chaque DataFrame\n",
    "dataframes = {'country': country['Country'],\n",
    "              'pop': pop['Country'],\n",
    "              'water': water['Country'],\n",
    "              'stab': stab['Country'],\n",
    "              'mortal': mortal['Country']}\n",
    "\n",
    "# Vérifie si les pays du DataFrame 'country' sont tous présents dans les autres DataFrames\n",
    "country_countries = set(dataframes['country'])\n",
    "missing_countries = {}\n",
    "\n",
    "# Parcourt chaque DataFrame et vérifie si les pays du DataFrame 'country' sont présents\n",
    "for name, df_countries in dataframes.items():\n",
    "    if name != 'country':\n",
    "        missing_countries[name] = list(country_countries - set(df_countries))\n",
    "\n",
    "# Affiche les pays manquants dans les autres DataFrames\n",
    "for name, missing in missing_countries.items():\n",
    "    if missing:\n",
    "        if len(missing) == 1:\n",
    "            print(bold + red + f\"{len(missing)} pays manquant dans le DataFrame '{name}':\" + end)\n",
    "            print(', '.join(missing), '\\n')\n",
    "        else:\n",
    "            print(bold + red + f\"{len(missing)} pays manquants dans le DataFrame '{name}':\" + end)\n",
    "            print(', '.join(missing), '\\n')"
   ]
  },
  {
   "cell_type": "code",
   "execution_count": 12,
   "id": "90723f8f-c025-4a6f-ac79-ab540af59a50",
   "metadata": {
    "canvas": {
     "comments": [],
     "componentType": "CodeCell",
     "copiedOriginId": "016fd119-87bb-4c76-920c-dfced5e98338",
     "diskcache": false,
     "headerColor": "inherit",
     "id": "125d0074-3bb8-41e8-99d3-4102cb5d81b8",
     "isComponent": false,
     "name": "",
     "parents": []
    }
   },
   "outputs": [
    {
     "data": {
      "text/html": [
       "<div>\n",
       "<style scoped>\n",
       "    .dataframe tbody tr th:only-of-type {\n",
       "        vertical-align: middle;\n",
       "    }\n",
       "\n",
       "    .dataframe tbody tr th {\n",
       "        vertical-align: top;\n",
       "    }\n",
       "\n",
       "    .dataframe thead th {\n",
       "        text-align: right;\n",
       "    }\n",
       "</style>\n",
       "<table border=\"1\" class=\"dataframe\">\n",
       "  <thead>\n",
       "    <tr style=\"text-align: right;\">\n",
       "      <th></th>\n",
       "      <th>Country</th>\n",
       "      <th>Granularity</th>\n",
       "      <th>Year</th>\n",
       "      <th>Population</th>\n",
       "    </tr>\n",
       "  </thead>\n",
       "  <tbody>\n",
       "    <tr>\n",
       "      <th>3866</th>\n",
       "      <td>China</td>\n",
       "      <td>Total</td>\n",
       "      <td>2016</td>\n",
       "      <td>1445523.929</td>\n",
       "    </tr>\n",
       "    <tr>\n",
       "      <th>3867</th>\n",
       "      <td>China</td>\n",
       "      <td>Male</td>\n",
       "      <td>2016</td>\n",
       "      <td>741481.549</td>\n",
       "    </tr>\n",
       "    <tr>\n",
       "      <th>3868</th>\n",
       "      <td>China</td>\n",
       "      <td>Female</td>\n",
       "      <td>2016</td>\n",
       "      <td>704042.370</td>\n",
       "    </tr>\n",
       "    <tr>\n",
       "      <th>3869</th>\n",
       "      <td>China</td>\n",
       "      <td>Rural</td>\n",
       "      <td>2016</td>\n",
       "      <td>612549.421</td>\n",
       "    </tr>\n",
       "    <tr>\n",
       "      <th>3870</th>\n",
       "      <td>China</td>\n",
       "      <td>Urban</td>\n",
       "      <td>2016</td>\n",
       "      <td>822422.660</td>\n",
       "    </tr>\n",
       "    <tr>\n",
       "      <th>4151</th>\n",
       "      <td>China, mainland</td>\n",
       "      <td>Total</td>\n",
       "      <td>2016</td>\n",
       "      <td>1414049.351</td>\n",
       "    </tr>\n",
       "    <tr>\n",
       "      <th>4152</th>\n",
       "      <td>China, mainland</td>\n",
       "      <td>Male</td>\n",
       "      <td>2016</td>\n",
       "      <td>726052.413</td>\n",
       "    </tr>\n",
       "    <tr>\n",
       "      <th>4153</th>\n",
       "      <td>China, mainland</td>\n",
       "      <td>Female</td>\n",
       "      <td>2016</td>\n",
       "      <td>687996.940</td>\n",
       "    </tr>\n",
       "    <tr>\n",
       "      <th>4154</th>\n",
       "      <td>China, mainland</td>\n",
       "      <td>Rural</td>\n",
       "      <td>2016</td>\n",
       "      <td>607210.874</td>\n",
       "    </tr>\n",
       "    <tr>\n",
       "      <th>4155</th>\n",
       "      <td>China, mainland</td>\n",
       "      <td>Urban</td>\n",
       "      <td>2016</td>\n",
       "      <td>796289.491</td>\n",
       "    </tr>\n",
       "  </tbody>\n",
       "</table>\n",
       "</div>"
      ],
      "text/plain": [
       "              Country Granularity  Year   Population\n",
       "3866            China       Total  2016  1445523.929\n",
       "3867            China        Male  2016   741481.549\n",
       "3868            China      Female  2016   704042.370\n",
       "3869            China       Rural  2016   612549.421\n",
       "3870            China       Urban  2016   822422.660\n",
       "4151  China, mainland       Total  2016  1414049.351\n",
       "4152  China, mainland        Male  2016   726052.413\n",
       "4153  China, mainland      Female  2016   687996.940\n",
       "4154  China, mainland       Rural  2016   607210.874\n",
       "4155  China, mainland       Urban  2016   796289.491"
      ]
     },
     "execution_count": 12,
     "metadata": {},
     "output_type": "execute_result"
    }
   ],
   "source": [
    "# Aperçu des intitulés, on sélectionne les observations \"China\" et \"China, mainland\" pour l'année 2016\n",
    "china_pop_2016 = pop.loc[(pop['Country'].isin(['China', 'China, mainland'])) & (pop['Year'] == 2016)]\n",
    "china_stab_2016 = stab.loc[(stab['Country'].isin(['China', 'China, mainland'])) & (stab['Year'] == 2016)]\n",
    "\n",
    "# Affiche les observations correspondantes\n",
    "china_pop_2016"
   ]
  },
  {
   "cell_type": "code",
   "execution_count": 13,
   "id": "0bc92559-3106-4423-8019-16ca997b07f3",
   "metadata": {
    "canvas": {
     "comments": [],
     "componentType": "CodeCell",
     "copiedOriginId": null,
     "diskcache": false,
     "headerColor": "inherit",
     "id": "30d47a97-d579-44f9-9d90-e65b1822c1dd",
     "isComponent": false,
     "name": "",
     "parents": []
    }
   },
   "outputs": [
    {
     "data": {
      "text/html": [
       "<div>\n",
       "<style scoped>\n",
       "    .dataframe tbody tr th:only-of-type {\n",
       "        vertical-align: middle;\n",
       "    }\n",
       "\n",
       "    .dataframe tbody tr th {\n",
       "        vertical-align: top;\n",
       "    }\n",
       "\n",
       "    .dataframe thead th {\n",
       "        text-align: right;\n",
       "    }\n",
       "</style>\n",
       "<table border=\"1\" class=\"dataframe\">\n",
       "  <thead>\n",
       "    <tr style=\"text-align: right;\">\n",
       "      <th></th>\n",
       "      <th>Country</th>\n",
       "      <th>Year</th>\n",
       "      <th>Political_Stability</th>\n",
       "      <th>Granularity</th>\n",
       "    </tr>\n",
       "  </thead>\n",
       "  <tbody>\n",
       "    <tr>\n",
       "      <th>714</th>\n",
       "      <td>China, mainland</td>\n",
       "      <td>2016</td>\n",
       "      <td>-0.5</td>\n",
       "      <td>Total</td>\n",
       "    </tr>\n",
       "  </tbody>\n",
       "</table>\n",
       "</div>"
      ],
      "text/plain": [
       "             Country  Year  Political_Stability Granularity\n",
       "714  China, mainland  2016                 -0.5       Total"
      ]
     },
     "execution_count": 13,
     "metadata": {},
     "output_type": "execute_result"
    }
   ],
   "source": [
    "china_stab_2016"
   ]
  },
  {
   "cell_type": "markdown",
   "id": "bcf6c5c9-c60b-4d8e-a795-db36bee36cb8",
   "metadata": {
    "canvas": {
     "comments": [],
     "componentType": "CodeCell",
     "copiedOriginId": null,
     "diskcache": false,
     "headerColor": "inherit",
     "id": "7a798a3b-8a6d-4136-8469-63d3ee5e0a79",
     "isComponent": false,
     "name": "",
     "parents": []
    }
   },
   "source": [
    "### Correction des incohérences"
   ]
  },
  {
   "cell_type": "markdown",
   "id": "342b4600-8970-4771-adc5-a06c0ae9ae2f",
   "metadata": {
    "canvas": {
     "comments": [],
     "componentType": "CodeCell",
     "copiedOriginId": null,
     "diskcache": false,
     "headerColor": "inherit",
     "id": "ab6404d7-aa10-4a67-957a-b8a59be8c27c",
     "isComponent": false,
     "name": "",
     "parents": []
    }
   },
   "source": [
    "#### Pop"
   ]
  },
  {
   "cell_type": "code",
   "execution_count": 14,
   "id": "4e47de61-6c7e-4c09-a6ef-460f35e9f241",
   "metadata": {
    "canvas": {
     "comments": [],
     "componentType": "CodeCell",
     "copiedOriginId": "55112ca4-be89-4723-93d5-c5e849c75d47",
     "diskcache": false,
     "headerColor": "inherit",
     "id": "b7132308-b851-46b8-bc6e-fc451b30c882",
     "isComponent": false,
     "name": "",
     "parents": []
    }
   },
   "outputs": [
    {
     "data": {
      "text/html": [
       "<div>\n",
       "<style scoped>\n",
       "    .dataframe tbody tr th:only-of-type {\n",
       "        vertical-align: middle;\n",
       "    }\n",
       "\n",
       "    .dataframe tbody tr th {\n",
       "        vertical-align: top;\n",
       "    }\n",
       "\n",
       "    .dataframe thead th {\n",
       "        text-align: right;\n",
       "    }\n",
       "</style>\n",
       "<table border=\"1\" class=\"dataframe\">\n",
       "  <thead>\n",
       "    <tr style=\"text-align: right;\">\n",
       "      <th></th>\n",
       "      <th>Country</th>\n",
       "      <th>Granularity</th>\n",
       "      <th>Year</th>\n",
       "      <th>Population</th>\n",
       "    </tr>\n",
       "  </thead>\n",
       "  <tbody>\n",
       "    <tr>\n",
       "      <th>3866</th>\n",
       "      <td>China</td>\n",
       "      <td>Total</td>\n",
       "      <td>2016</td>\n",
       "      <td>1445523.929</td>\n",
       "    </tr>\n",
       "    <tr>\n",
       "      <th>3867</th>\n",
       "      <td>China</td>\n",
       "      <td>Male</td>\n",
       "      <td>2016</td>\n",
       "      <td>741481.549</td>\n",
       "    </tr>\n",
       "    <tr>\n",
       "      <th>3868</th>\n",
       "      <td>China</td>\n",
       "      <td>Female</td>\n",
       "      <td>2016</td>\n",
       "      <td>704042.370</td>\n",
       "    </tr>\n",
       "    <tr>\n",
       "      <th>3869</th>\n",
       "      <td>China</td>\n",
       "      <td>Rural</td>\n",
       "      <td>2016</td>\n",
       "      <td>612549.421</td>\n",
       "    </tr>\n",
       "    <tr>\n",
       "      <th>3870</th>\n",
       "      <td>China</td>\n",
       "      <td>Urban</td>\n",
       "      <td>2016</td>\n",
       "      <td>822422.660</td>\n",
       "    </tr>\n",
       "  </tbody>\n",
       "</table>\n",
       "</div>"
      ],
      "text/plain": [
       "     Country Granularity  Year   Population\n",
       "3866   China       Total  2016  1445523.929\n",
       "3867   China        Male  2016   741481.549\n",
       "3868   China      Female  2016   704042.370\n",
       "3869   China       Rural  2016   612549.421\n",
       "3870   China       Urban  2016   822422.660"
      ]
     },
     "execution_count": 14,
     "metadata": {},
     "output_type": "execute_result"
    }
   ],
   "source": [
    "# Supprime les observations pour le pays \"China, mainland\" pour éviter les doublons, on garde \"China\"\n",
    "pop = pop.drop(pop[pop['Country'] == 'China, mainland'].index)\n",
    "\n",
    "# Vérification\n",
    "china_pop_2016 = pop.loc[(pop['Country'].isin(['China', 'China, mainland'])) & (pop['Year'] == 2016)]\n",
    "china_pop_2016"
   ]
  },
  {
   "cell_type": "code",
   "execution_count": 15,
   "id": "d7e62b5d-aa78-472c-a1d0-ee4b067a4120",
   "metadata": {
    "canvas": {
     "comments": [],
     "componentType": "CodeCell",
     "copiedOriginId": null,
     "diskcache": false,
     "headerColor": "inherit",
     "id": "d54050c2-8c61-4f2d-b37b-ddc620a61d5d",
     "isComponent": false,
     "name": "",
     "parents": []
    }
   },
   "outputs": [],
   "source": [
    "# Crée un dictionnaire de correspondance entre les anciens noms de pays et les nouveaux noms\n",
    "country_mapping = {\n",
    "    'China, Hong Kong SAR': 'Hong Kong',\n",
    "    'Serbia and Montenegro': 'Serbia',\n",
    "    'China, Macao SAR': 'Macao',\n",
    "    'China, Taiwan Province of': 'Taiwan',\n",
    "    'North Macedonia': 'Republic of North Macedonia'\n",
    "}\n",
    "\n",
    "# Remplace les anciens noms de pays par les nouveaux noms dans la colonne 'Country' du DataFrame pop\n",
    "pop['Country'] = pop['Country'].replace(country_mapping)\n",
    "\n",
    "# Vérifie les modifications\n",
    "#print(pop['Country'].unique())"
   ]
  },
  {
   "cell_type": "markdown",
   "id": "c29e7c10-176f-4c72-844a-1a30e2e422dc",
   "metadata": {
    "canvas": {
     "comments": [],
     "componentType": "CodeCell",
     "copiedOriginId": null,
     "diskcache": false,
     "headerColor": "inherit",
     "id": "a4034270-610b-4ec2-b0ef-6709c616d3a6",
     "isComponent": false,
     "name": "",
     "parents": []
    }
   },
   "source": [
    "#### Stab"
   ]
  },
  {
   "cell_type": "code",
   "execution_count": 16,
   "id": "8fb580dd-156a-4943-905a-6f581432f5f7",
   "metadata": {
    "canvas": {
     "comments": [],
     "componentType": "CodeCell",
     "copiedOriginId": "d54050c2-8c61-4f2d-b37b-ddc620a61d5d",
     "diskcache": false,
     "headerColor": "inherit",
     "id": "e5f5b5da-0fba-4623-bfdd-0de1e5c840c6",
     "isComponent": false,
     "name": "",
     "parents": []
    }
   },
   "outputs": [],
   "source": [
    "# Crée un dictionnaire de correspondance entre les anciens noms de pays et les nouveaux noms\n",
    "country_mapping = {\n",
    "    'China, Hong Kong SAR': 'Hong Kong',\n",
    "    'China, mainland': 'China',\n",
    "    'China, Macao SAR': 'Macao',\n",
    "    'China, Taiwan Province of': 'Taiwan',\n",
    "    'North Macedonia': 'Republic of North Macedonia'\n",
    "}\n",
    "\n",
    "# Remplace les anciens noms de pays par les nouveaux noms dans la colonne 'Country' du DataFrame pop\n",
    "stab['Country'] = stab['Country'].replace(country_mapping)"
   ]
  },
  {
   "cell_type": "markdown",
   "id": "f00dfabc-76ff-4f97-88f3-46a63b012ee5",
   "metadata": {
    "canvas": {
     "comments": [],
     "componentType": "CodeCell",
     "copiedOriginId": null,
     "diskcache": false,
     "headerColor": "inherit",
     "id": "9232906a-5083-472b-976f-422f0946886d",
     "isComponent": false,
     "name": "",
     "parents": []
    }
   },
   "source": [
    "#### Country"
   ]
  },
  {
   "cell_type": "code",
   "execution_count": 17,
   "id": "18138c6f-9174-49b4-8cff-4ab4f294b717",
   "metadata": {
    "canvas": {
     "comments": [],
     "componentType": "CodeCell",
     "copiedOriginId": null,
     "diskcache": false,
     "headerColor": "inherit",
     "id": "3156584a-9f27-4fb1-937f-26ee7ae407a0",
     "isComponent": false,
     "name": "",
     "parents": []
    }
   },
   "outputs": [
    {
     "data": {
      "text/plain": [
       "(194, 2)"
      ]
     },
     "execution_count": 17,
     "metadata": {},
     "output_type": "execute_result"
    }
   ],
   "source": [
    "# Nombre de pays avant concaténation\n",
    "country.shape"
   ]
  },
  {
   "cell_type": "code",
   "execution_count": 18,
   "id": "91444016-eb84-4463-8a5c-f3731a2e6a35",
   "metadata": {
    "canvas": {
     "comments": [],
     "componentType": "CodeCell",
     "copiedOriginId": "213fed75-fef8-44b4-9102-c49d34d276c6",
     "diskcache": false,
     "headerColor": "inherit",
     "id": "769e27b5-477e-4c2e-b601-c771b814341e",
     "isComponent": false,
     "name": "",
     "parents": []
    }
   },
   "outputs": [
    {
     "data": {
      "text/html": [
       "<div>\n",
       "<style scoped>\n",
       "    .dataframe tbody tr th:only-of-type {\n",
       "        vertical-align: middle;\n",
       "    }\n",
       "\n",
       "    .dataframe tbody tr th {\n",
       "        vertical-align: top;\n",
       "    }\n",
       "\n",
       "    .dataframe thead th {\n",
       "        text-align: right;\n",
       "    }\n",
       "</style>\n",
       "<table border=\"1\" class=\"dataframe\">\n",
       "  <thead>\n",
       "    <tr style=\"text-align: right;\">\n",
       "      <th></th>\n",
       "      <th>Region</th>\n",
       "      <th>Country</th>\n",
       "    </tr>\n",
       "  </thead>\n",
       "  <tbody>\n",
       "    <tr>\n",
       "      <th>25</th>\n",
       "      <td>Africa</td>\n",
       "      <td>Côte d'Ivoire</td>\n",
       "    </tr>\n",
       "  </tbody>\n",
       "</table>\n",
       "</div>"
      ],
      "text/plain": [
       "    Region        Country\n",
       "25  Africa  Côte d'Ivoire"
      ]
     },
     "execution_count": 18,
     "metadata": {},
     "output_type": "execute_result"
    }
   ],
   "source": [
    "# Obtient la liste des pays présents dans pop mais absents de country\n",
    "missing_countries = list(set(pop['Country']) - set(country['Country']))\n",
    "\n",
    "# Crée un DataFrame avec les pays manquants\n",
    "missing_rows = pop[pop['Country'].isin(missing_countries)]\n",
    "\n",
    "# Supprime les doublons des lignes manquantes\n",
    "missing_rows = missing_rows.drop_duplicates(subset='Country')\n",
    "\n",
    "# Ajoute les lignes manquantes à country\n",
    "country = pd.concat([country, missing_rows], ignore_index=True)\n",
    "country.drop(columns=['Granularity', 'Year', 'Population'], inplace=True)\n",
    "country.sample()"
   ]
  },
  {
   "cell_type": "code",
   "execution_count": 19,
   "id": "ef64c944-b4ef-44e1-a0e9-e018bbc388f4",
   "metadata": {
    "canvas": {
     "comments": [],
     "componentType": "CodeCell",
     "copiedOriginId": null,
     "diskcache": false,
     "headerColor": "inherit",
     "id": "9d60dd5c-2f7a-4200-b516-c698286bc898",
     "isComponent": false,
     "name": "",
     "parents": []
    }
   },
   "outputs": [
    {
     "data": {
      "text/plain": [
       "(237, 2)"
      ]
     },
     "execution_count": 19,
     "metadata": {},
     "output_type": "execute_result"
    }
   ],
   "source": [
    "# Nombre de pays après concaténation\n",
    "country.shape"
   ]
  },
  {
   "cell_type": "code",
   "execution_count": 20,
   "id": "51d2d8db-e2a3-4e12-a399-fd2f1c1aed9e",
   "metadata": {
    "canvas": {
     "comments": [],
     "componentType": "CodeCell",
     "copiedOriginId": null,
     "diskcache": false,
     "headerColor": "inherit",
     "id": "796c23a7-00f7-49c0-93f9-a0a82368bea6",
     "isComponent": false,
     "name": "",
     "parents": []
    }
   },
   "outputs": [
    {
     "name": "stdout",
     "output_type": "stream",
     "text": [
      "\u001b[1m\u001b[31m43 pays avec des valeurs NaN dans la colonne 'Region':\u001b[0;0m\n",
      "American Samoa, Anguilla, Aruba, Bermuda, Bonaire, Sint Eustatius and Saba, British Virgin Islands, Cayman Islands, Channel Islands, Hong Kong, Macao, Taiwan, Curaçao, Falkland Islands (Malvinas), Faroe Islands, French Guyana, French Polynesia, Gibraltar, Greenland, Guadeloupe, Guam, Holy See, Isle of Man, Liechtenstein, Martinique, Mayotte, Montserrat, Netherlands Antilles (former), New Caledonia, Northern Mariana Islands, Palestine, Puerto Rico, Réunion, Saint Barthélemy, Saint Helena, Ascension and Tristan da Cunha, Saint Pierre and Miquelon, Saint-Martin (French part), Sint Maarten  (Dutch part), Sudan (former), Tokelau, Turks and Caicos Islands, United States Virgin Islands, Wallis and Futuna Islands, Western Sahara\n"
     ]
    }
   ],
   "source": [
    "# Liste les valeurs NaN dans la colonne 'Region'\n",
    "nan_values = country.loc[country['Region'].isnull(), 'Country'].unique()\n",
    "\n",
    "# Affiche les pays uniques ayant des valeurs NaN dans la colonne 'Region'\n",
    "print(bold + red + f\"{len(nan_values)} pays avec des valeurs NaN dans la colonne 'Region':\" + end)\n",
    "print(', '.join(nan_values))"
   ]
  },
  {
   "cell_type": "code",
   "execution_count": 21,
   "id": "807d0e07-1f0c-4595-86cc-a5e0699cec87",
   "metadata": {
    "canvas": {
     "comments": [],
     "componentType": "CodeCell",
     "copiedOriginId": null,
     "diskcache": false,
     "headerColor": "inherit",
     "id": "4503ce78-84f7-4beb-bfa5-35b58658a95c",
     "isComponent": false,
     "name": "",
     "parents": []
    }
   },
   "outputs": [
    {
     "data": {
      "text/plain": [
       "array(['Europe', 'Western Pacific', 'Eastern Mediterranean',\n",
       "       'South-East Asia', 'Africa', 'Americas', nan], dtype=object)"
      ]
     },
     "execution_count": 21,
     "metadata": {},
     "output_type": "execute_result"
    }
   ],
   "source": [
    "country['Region'].unique()"
   ]
  },
  {
   "cell_type": "code",
   "execution_count": 22,
   "id": "b4354ccf-a677-4f9f-bb20-a0b1fed25d15",
   "metadata": {
    "canvas": {
     "comments": [],
     "componentType": "CodeCell",
     "copiedOriginId": null,
     "diskcache": false,
     "headerColor": "inherit",
     "id": "c11323e7-46ee-4a7c-aee3-3f3e3b5c65c5",
     "isComponent": false,
     "name": "",
     "parents": []
    }
   },
   "outputs": [],
   "source": [
    "# Définit le mapping pour compléter les valeurs NaN en fonction des pays\n",
    "region_mapping = {'American Samoa': 'Americas',\n",
    "                  'Anguilla': 'Americas',\n",
    "                  'Aruba': 'Americas',\n",
    "                  'Bermuda': 'Americas',\n",
    "                  'Bonaire, Sint Eustatius and Saba': 'Americas',\n",
    "                  'British Virgin Islands': 'Americas',\n",
    "                  'Cayman Islands': 'Americas',\n",
    "                  'Channel Islands': 'Europe',\n",
    "                  'Hong Kong': 'South-East Asia',\n",
    "                  'Macao': 'South-East Asia',\n",
    "                  'Taiwan': 'South-East Asia',\n",
    "                  'Curaçao': 'Americas',\n",
    "                  'Falkland Islands (Malvinas)': 'Americas',\n",
    "                  'Faroe Islands': 'Europe',\n",
    "                  'French Guyana': 'Americas',\n",
    "                  'French Polynesia': 'Western Pacific',\n",
    "                  'Gibraltar': 'Europe',\n",
    "                  'Greenland': 'Americas',\n",
    "                  'Guadeloupe': 'Americas',\n",
    "                  'Guam': 'Western Pacific',\n",
    "                  'Holy See': 'Europe',\n",
    "                  'Isle of Man': 'Europe',\n",
    "                  'Liechtenstein': 'Europe',\n",
    "                  'Martinique': 'Americas',\n",
    "                  'Mayotte': 'Africa',\n",
    "                  'Montserrat': 'Americas',\n",
    "                  'Netherlands Antilles (former)': 'Americas',\n",
    "                  'New Caledonia': 'Western Pacific',\n",
    "                  'Northern Mariana Islands': 'Western Pacific',\n",
    "                  'Palestine': 'Eastern Mediterranean',\n",
    "                  'Puerto Rico': 'Americas',\n",
    "                  'Réunion': 'Africa',\n",
    "                  'Saint Barthélemy': 'Americas',\n",
    "                  'Saint Helena, Ascension and Tristan da Cunha': 'Africa',\n",
    "                  'Saint Pierre and Miquelon': 'Americas',\n",
    "                  'Saint-Martin (French part)': 'Americas',\n",
    "                  'Sint Maarten  (Dutch part)': 'Americas',\n",
    "                  'Sudan (former)': 'Africa',\n",
    "                  'Tokelau': 'Western Pacific',\n",
    "                  'Turks and Caicos Islands': 'Americas',\n",
    "                  'United States Virgin Islands': 'Americas',\n",
    "                  'Wallis and Futuna Islands': 'Western Pacific',\n",
    "                  'Western Sahara': 'Africa'}\n",
    "\n",
    "# Complète les valeurs NaN dans la colonne 'Region' en fonction du mapping\n",
    "country['Region'] = country['Region'].fillna(country['Country'].map(region_mapping))"
   ]
  },
  {
   "cell_type": "markdown",
   "id": "ac775dd8-eff7-4fb3-ba38-c9a97929e6cd",
   "metadata": {
    "canvas": {
     "comments": [],
     "componentType": "CodeCell",
     "copiedOriginId": null,
     "diskcache": false,
     "headerColor": "inherit",
     "id": "0760b230-3f6f-4b61-8dbf-58dd477a44c6",
     "isComponent": false,
     "name": "",
     "parents": []
    }
   },
   "source": [
    "### Vérification après nettoyage de la variable 'Country'"
   ]
  },
  {
   "cell_type": "code",
   "execution_count": 23,
   "id": "02d46245-65f7-469f-9508-75be9009dc04",
   "metadata": {
    "canvas": {
     "comments": [],
     "componentType": "CodeCell",
     "copiedOriginId": null,
     "diskcache": false,
     "headerColor": "inherit",
     "id": "fa83d978-05d7-4de8-b7ba-612e08bd2c2d",
     "isComponent": false,
     "name": "",
     "parents": []
    }
   },
   "outputs": [
    {
     "name": "stdout",
     "output_type": "stream",
     "text": [
      "\u001b[1m0 pays avec des valeurs NaN dans la colonne 'Region'\u001b[0;0m\n",
      "\n"
     ]
    }
   ],
   "source": [
    "# Liste les valeurs NaN dans la colonne 'Region'\n",
    "nan_values = country.loc[country['Region'].isnull(), 'Country'].unique()\n",
    "\n",
    "# Affiche les pays ayant des valeurs NaN dans la colonne 'Region'\n",
    "print(bold + f\"{len(nan_values)} pays avec des valeurs NaN dans la colonne 'Region'\" + end)\n",
    "print(', '.join(nan_values))"
   ]
  },
  {
   "cell_type": "code",
   "execution_count": 24,
   "id": "b72f7597-a655-45d7-b2d1-69f505247fc6",
   "metadata": {
    "canvas": {
     "comments": [],
     "componentType": "CodeCell",
     "copiedOriginId": "3411d7b7-7044-4ee3-9762-9445c4af5a42",
     "diskcache": false,
     "headerColor": "inherit",
     "id": "3ed43af2-7ae2-40d3-96ac-5ac7a168076e",
     "isComponent": false,
     "name": "",
     "parents": []
    }
   },
   "outputs": [
    {
     "name": "stdout",
     "output_type": "stream",
     "text": [
      "\u001b[1mIl n'y a pas d'incohérences dans le DataFrame 'country'\u001b[0;0m\n",
      "\u001b[1mIl n'y a pas d'incohérences dans le DataFrame 'pop'\u001b[0;0m\n",
      "\u001b[1mIl n'y a pas d'incohérences dans le DataFrame 'water'\u001b[0;0m\n",
      "\u001b[1mIl n'y a pas d'incohérences dans le DataFrame 'stab'\u001b[0;0m\n",
      "\u001b[1mIl n'y a pas d'incohérences dans le DataFrame 'mortal'\u001b[0;0m\n"
     ]
    }
   ],
   "source": [
    "# Crée un dictionnaire pour stocker les colonnes 'Country' de chaque DataFrame\n",
    "dataframes = {'country': country['Country'],\n",
    "              'pop': pop['Country'],\n",
    "              'water': water['Country'],\n",
    "              'stab': stab['Country'],\n",
    "              'mortal': mortal['Country']}\n",
    "\n",
    "# Vérifie les incohérences par rapport au DataFrame 'country'\n",
    "inconsistencies = {}\n",
    "\n",
    "# Parcourt chaque DataFrame et compare les pays avec le DataFrame 'country'\n",
    "for name, df_countries in dataframes.items():\n",
    "    inconsistencies[name] = df_countries[~df_countries.isin(dataframes['country'])]\n",
    "\n",
    "# Affiche les incohérences sous forme de valeurs uniques\n",
    "for name, inconsistency in inconsistencies.items():\n",
    "    if not inconsistency.empty:\n",
    "        print(bold + red + f\"{inconsistency.nunique()} incohérences dans le DataFrame '{name}':\")\n",
    "        print(inconsistency.unique(), '\\n')\n",
    "    else:\n",
    "        print(bold + f\"Il n'y a pas d'incohérences dans le DataFrame '{name}'\" + end)"
   ]
  },
  {
   "cell_type": "code",
   "execution_count": 25,
   "id": "32fe811d-bb73-42b2-a14e-15370e38127e",
   "metadata": {
    "canvas": {
     "comments": [],
     "componentType": "CodeCell",
     "copiedOriginId": "ca77bae3-8506-4380-b667-e296b7ca7e2a",
     "diskcache": false,
     "headerColor": "inherit",
     "id": "dd77a2c6-1d00-4f06-9eb9-550e20877248",
     "isComponent": false,
     "name": "",
     "parents": []
    },
    "tags": []
   },
   "outputs": [
    {
     "name": "stdout",
     "output_type": "stream",
     "text": [
      "\u001b[1m\u001b[31mPays manquants dans le DataFrame 'water':\u001b[0;0m\n",
      "Turks and Caicos Islands, Gibraltar, Hong Kong, Saint-Martin (French part), United States Virgin Islands, Anguilla, American Samoa, Aruba, Puerto Rico, Netherlands Antilles (former), Sint Maarten  (Dutch part), Cayman Islands, Guadeloupe, Northern Mariana Islands, Tokelau, Faroe Islands, Saint Pierre and Miquelon, Wallis and Futuna Islands, Bonaire, Sint Eustatius and Saba, Saint Helena, Ascension and Tristan da Cunha, Sudan (former), Isle of Man, Mayotte, Martinique, Guam, Taiwan, Saint Barthélemy, Curaçao, Réunion, Channel Islands, Falkland Islands (Malvinas), Liechtenstein, Macao, Montserrat, French Polynesia, New Caledonia, Greenland, British Virgin Islands, Bermuda, Palestine, Holy See, Western Sahara, French Guyana \n",
      "\n",
      "\u001b[1m\u001b[31mPays manquants dans le DataFrame 'stab':\u001b[0;0m\n",
      "Turks and Caicos Islands, Gibraltar, Saint-Martin (French part), United States Virgin Islands, Anguilla, Aruba, Netherlands Antilles (former), San Marino, Sint Maarten  (Dutch part), Cayman Islands, Guadeloupe, Northern Mariana Islands, Tokelau, Faroe Islands, Saint Pierre and Miquelon, Wallis and Futuna Islands, Bonaire, Sint Eustatius and Saba, Saint Helena, Ascension and Tristan da Cunha, Sudan (former), Isle of Man, Mayotte, Martinique, Guam, Saint Barthélemy, Liechtenstein, Curaçao, Réunion, Channel Islands, Falkland Islands (Malvinas), Montserrat, French Polynesia, New Caledonia, British Virgin Islands, Holy See, Western Sahara, Monaco, French Guyana \n",
      "\n",
      "\u001b[1m\u001b[31mPays manquants dans le DataFrame 'mortal':\u001b[0;0m\n",
      "Turks and Caicos Islands, Gibraltar, Hong Kong, Palau, Saint-Martin (French part), United States Virgin Islands, Anguilla, American Samoa, Aruba, Puerto Rico, Netherlands Antilles (former), San Marino, Cook Islands, Sint Maarten  (Dutch part), Cayman Islands, Guadeloupe, Northern Mariana Islands, Niue, Dominica, Tokelau, Faroe Islands, Saint Pierre and Miquelon, Wallis and Futuna Islands, Bonaire, Sint Eustatius and Saba, Saint Helena, Ascension and Tristan da Cunha, Sudan (former), Saint Kitts and Nevis, Isle of Man, Mayotte, Martinique, Guam, Taiwan, Saint Barthélemy, Curaçao, Réunion, Channel Islands, Falkland Islands (Malvinas), Liechtenstein, Macao, Montserrat, French Polynesia, Nauru, New Caledonia, Andorra, Greenland, British Virgin Islands, Bermuda, Marshall Islands, Tuvalu, Palestine, Holy See, Western Sahara, Monaco, French Guyana \n",
      "\n"
     ]
    }
   ],
   "source": [
    "# Crée un dictionnaire pour stocker les colonnes 'Country' de chaque DataFrame\n",
    "dataframes = {'country': country['Country'],\n",
    "              'pop': pop['Country'],\n",
    "              'water': water['Country'],\n",
    "              'stab': stab['Country'],\n",
    "              'mortal': mortal['Country']}\n",
    "\n",
    "# Vérifie si les pays du DataFrame 'country' sont tous présents dans les autres DataFrames\n",
    "country_countries = set(dataframes['country'])\n",
    "missing_countries = {}\n",
    "\n",
    "# Parcourt chaque DataFrame et vérifie si les pays du DataFrame 'country' sont présents\n",
    "for name, df_countries in dataframes.items():\n",
    "    if name != 'country':\n",
    "        missing_countries[name] = list(country_countries - set(df_countries))\n",
    "\n",
    "# Affiche les pays manquants dans les autres DataFrames\n",
    "for name, missing in missing_countries.items():\n",
    "    if missing:\n",
    "        print(bold + red + f\"Pays manquants dans le DataFrame '{name}':\" + end)\n",
    "        print(', '.join(missing), '\\n')"
   ]
  },
  {
   "cell_type": "markdown",
   "id": "ff38b7f5-7b5e-42f9-aaf9-cfab3d57084d",
   "metadata": {
    "canvas": {
     "comments": [],
     "componentType": "CodeCell",
     "copiedOriginId": null,
     "diskcache": false,
     "headerColor": "inherit",
     "id": "faf0c5b6-3bd4-407b-a8e5-101ea58dafdc",
     "isComponent": false,
     "name": "",
     "parents": []
    }
   },
   "source": [
    "**=> Ce résultat est normal car nous avons complété le DataFrame 'country'**"
   ]
  },
  {
   "cell_type": "markdown",
   "id": "fb82adb4-9cd8-4649-a133-e422826f2660",
   "metadata": {
    "canvas": {
     "comments": [],
     "componentType": "CodeCell",
     "copiedOriginId": "f1232932-05c7-414b-8f18-d1355cfab3eb",
     "diskcache": false,
     "headerColor": "inherit",
     "id": "f1cfc1fb-7739-4901-88b8-6039d50f5a68",
     "isComponent": false,
     "name": "",
     "parents": []
    }
   },
   "source": [
    "# **Population**"
   ]
  },
  {
   "cell_type": "markdown",
   "id": "f0909a98-f6af-45f0-9cc6-fd838c76e171",
   "metadata": {
    "canvas": {
     "comments": [],
     "componentType": "CodeCell",
     "copiedOriginId": "8c00a6a0-8a58-4b36-8b0e-198cbd4fbc3c",
     "diskcache": false,
     "headerColor": "none",
     "id": "0331cd34-b92c-4f0a-b9f6-42bc7cab54f2",
     "isComponent": false,
     "name": "",
     "parents": []
    }
   },
   "source": [
    "## Observations uniques"
   ]
  },
  {
   "cell_type": "code",
   "execution_count": 26,
   "id": "d0986eab",
   "metadata": {
    "canvas": {
     "comments": [],
     "componentType": "CodeCell",
     "copiedOriginId": "c0167eef-14b0-4c66-9028-1f1f3ca731c4",
     "diskcache": false,
     "headerColor": "none",
     "id": "dcc38434-5ca2-4dcc-a84c-a4fb80e323df",
     "isComponent": false,
     "name": "",
     "parents": []
    }
   },
   "outputs": [
    {
     "name": "stdout",
     "output_type": "stream",
     "text": [
      "\u001b[1mCountry\u001b[0;0m \n",
      " ['Afghanistan' 'Albania' 'Algeria' 'American Samoa' 'Andorra' 'Angola'\n",
      " 'Anguilla' 'Antigua and Barbuda' 'Argentina' 'Armenia' 'Aruba'\n",
      " 'Australia' 'Austria' 'Azerbaijan' 'Bahamas' 'Bahrain' 'Bangladesh'\n",
      " 'Barbados' 'Belarus' 'Belgium' 'Belize' 'Benin' 'Bermuda' 'Bhutan'\n",
      " 'Bolivia (Plurinational State of)'] \n",
      "\n",
      "\u001b[1mGranularity\u001b[0;0m \n",
      " ['Total' 'Male' 'Female' 'Rural' 'Urban'] \n",
      "\n",
      "\u001b[1mYear\u001b[0;0m \n",
      " [2000 2001 2002 2003 2004 2005 2006 2007 2008 2009 2010 2011 2012 2013\n",
      " 2014 2015 2016 2017 2018] \n",
      "\n",
      "\u001b[1mPopulation\u001b[0;0m \n",
      " [20779.953 10689.508 10090.449 15657.474  4436.282 21606.988 11117.754\n",
      " 10489.238 16318.324  4648.139 22600.77  11642.106 10958.668 17086.91\n",
      "  4893.013 23680.871 12214.634 11466.237 17909.063  5155.788 24726.684\n",
      " 12763.726 11962.963 18692.107  5426.872] \n",
      "\n"
     ]
    }
   ],
   "source": [
    "for i in pop.columns:\n",
    "    print(bold + i + end, \"\\n\", pop[i].unique()[0:25], \"\\n\")"
   ]
  },
  {
   "cell_type": "markdown",
   "id": "f751f9c9-b121-4b44-b0e2-4d479f2acfaf",
   "metadata": {
    "canvas": {
     "comments": [],
     "componentType": "CodeCell",
     "copiedOriginId": "46141291-a690-4d0f-bcca-dd6b0858e973",
     "diskcache": false,
     "headerColor": "none",
     "id": "4d749f24-b661-4cef-b7f2-1c51bfe03da3",
     "isComponent": false,
     "name": "",
     "parents": []
    }
   },
   "source": [
    "## Exploration"
   ]
  },
  {
   "cell_type": "code",
   "execution_count": 27,
   "id": "b13a9237-2412-4cf0-9767-5925c350d8b6",
   "metadata": {
    "canvas": {
     "comments": [],
     "componentType": "CodeCell",
     "copiedOriginId": "b5260f90-8b60-4b48-ae1d-2763f14ac54c",
     "diskcache": false,
     "headerColor": "inherit",
     "id": "23b59a1e-fdbf-459b-8703-055d7e23c3ca",
     "isComponent": false,
     "name": "",
     "parents": []
    }
   },
   "outputs": [
    {
     "data": {
      "text/html": [
       "<style type=\"text/css\">\n",
       "</style>\n",
       "<table id=\"T_9e876\" style='display:grid'>\n",
       "  <caption>__________ Head __________</caption>\n",
       "  <thead>\n",
       "    <tr>\n",
       "      <th class=\"blank level0\" >&nbsp;</th>\n",
       "      <th id=\"T_9e876_level0_col0\" class=\"col_heading level0 col0\" >Country</th>\n",
       "      <th id=\"T_9e876_level0_col1\" class=\"col_heading level0 col1\" >Granularity</th>\n",
       "      <th id=\"T_9e876_level0_col2\" class=\"col_heading level0 col2\" >Year</th>\n",
       "      <th id=\"T_9e876_level0_col3\" class=\"col_heading level0 col3\" >Population</th>\n",
       "    </tr>\n",
       "  </thead>\n",
       "  <tbody>\n",
       "    <tr>\n",
       "      <th id=\"T_9e876_level0_row0\" class=\"row_heading level0 row0\" >0</th>\n",
       "      <td id=\"T_9e876_row0_col0\" class=\"data row0 col0\" >Afghanistan</td>\n",
       "      <td id=\"T_9e876_row0_col1\" class=\"data row0 col1\" >Total</td>\n",
       "      <td id=\"T_9e876_row0_col2\" class=\"data row0 col2\" >2000</td>\n",
       "      <td id=\"T_9e876_row0_col3\" class=\"data row0 col3\" >20779.953000</td>\n",
       "    </tr>\n",
       "    <tr>\n",
       "      <th id=\"T_9e876_level0_row1\" class=\"row_heading level0 row1\" >1</th>\n",
       "      <td id=\"T_9e876_row1_col0\" class=\"data row1 col0\" >Afghanistan</td>\n",
       "      <td id=\"T_9e876_row1_col1\" class=\"data row1 col1\" >Male</td>\n",
       "      <td id=\"T_9e876_row1_col2\" class=\"data row1 col2\" >2000</td>\n",
       "      <td id=\"T_9e876_row1_col3\" class=\"data row1 col3\" >10689.508000</td>\n",
       "    </tr>\n",
       "    <tr>\n",
       "      <th id=\"T_9e876_level0_row2\" class=\"row_heading level0 row2\" >2</th>\n",
       "      <td id=\"T_9e876_row2_col0\" class=\"data row2 col0\" >Afghanistan</td>\n",
       "      <td id=\"T_9e876_row2_col1\" class=\"data row2 col1\" >Female</td>\n",
       "      <td id=\"T_9e876_row2_col2\" class=\"data row2 col2\" >2000</td>\n",
       "      <td id=\"T_9e876_row2_col3\" class=\"data row2 col3\" >10090.449000</td>\n",
       "    </tr>\n",
       "  </tbody>\n",
       "</table>\n",
       " <style type=\"text/css\">\n",
       "</style>\n",
       "<table id=\"T_dbc0c\" style='display:grid'>\n",
       "  <caption>__________ Tail __________</caption>\n",
       "  <thead>\n",
       "    <tr>\n",
       "      <th class=\"blank level0\" >&nbsp;</th>\n",
       "      <th id=\"T_dbc0c_level0_col0\" class=\"col_heading level0 col0\" >Country</th>\n",
       "      <th id=\"T_dbc0c_level0_col1\" class=\"col_heading level0 col1\" >Granularity</th>\n",
       "      <th id=\"T_dbc0c_level0_col2\" class=\"col_heading level0 col2\" >Year</th>\n",
       "      <th id=\"T_dbc0c_level0_col3\" class=\"col_heading level0 col3\" >Population</th>\n",
       "    </tr>\n",
       "  </thead>\n",
       "  <tbody>\n",
       "    <tr>\n",
       "      <th id=\"T_dbc0c_level0_row0\" class=\"row_heading level0 row0\" >20911</th>\n",
       "      <td id=\"T_dbc0c_row0_col0\" class=\"data row0 col0\" >Zimbabwe</td>\n",
       "      <td id=\"T_dbc0c_row0_col1\" class=\"data row0 col1\" >Female</td>\n",
       "      <td id=\"T_dbc0c_row0_col2\" class=\"data row0 col2\" >2018</td>\n",
       "      <td id=\"T_dbc0c_row0_col3\" class=\"data row0 col3\" >7559.693000</td>\n",
       "    </tr>\n",
       "    <tr>\n",
       "      <th id=\"T_dbc0c_level0_row1\" class=\"row_heading level0 row1\" >20912</th>\n",
       "      <td id=\"T_dbc0c_row1_col0\" class=\"data row1 col0\" >Zimbabwe</td>\n",
       "      <td id=\"T_dbc0c_row1_col1\" class=\"data row1 col1\" >Rural</td>\n",
       "      <td id=\"T_dbc0c_row1_col2\" class=\"data row1 col2\" >2018</td>\n",
       "      <td id=\"T_dbc0c_row1_col3\" class=\"data row1 col3\" >11465.748000</td>\n",
       "    </tr>\n",
       "    <tr>\n",
       "      <th id=\"T_dbc0c_level0_row2\" class=\"row_heading level0 row2\" >20913</th>\n",
       "      <td id=\"T_dbc0c_row2_col0\" class=\"data row2 col0\" >Zimbabwe</td>\n",
       "      <td id=\"T_dbc0c_row2_col1\" class=\"data row2 col1\" >Urban</td>\n",
       "      <td id=\"T_dbc0c_row2_col2\" class=\"data row2 col2\" >2018</td>\n",
       "      <td id=\"T_dbc0c_row2_col3\" class=\"data row2 col3\" >5447.513000</td>\n",
       "    </tr>\n",
       "  </tbody>\n",
       "</table>\n",
       " <style type=\"text/css\">\n",
       "</style>\n",
       "<table id=\"T_ed3ed\" style='display:grid'>\n",
       "  <caption>__________ Sample __________</caption>\n",
       "  <thead>\n",
       "    <tr>\n",
       "      <th class=\"blank level0\" >&nbsp;</th>\n",
       "      <th id=\"T_ed3ed_level0_col0\" class=\"col_heading level0 col0\" >Country</th>\n",
       "      <th id=\"T_ed3ed_level0_col1\" class=\"col_heading level0 col1\" >Granularity</th>\n",
       "      <th id=\"T_ed3ed_level0_col2\" class=\"col_heading level0 col2\" >Year</th>\n",
       "      <th id=\"T_ed3ed_level0_col3\" class=\"col_heading level0 col3\" >Population</th>\n",
       "    </tr>\n",
       "  </thead>\n",
       "  <tbody>\n",
       "    <tr>\n",
       "      <th id=\"T_ed3ed_level0_row0\" class=\"row_heading level0 row0\" >6805</th>\n",
       "      <td id=\"T_ed3ed_row0_col0\" class=\"data row0 col0\" >Finland</td>\n",
       "      <td id=\"T_ed3ed_row0_col1\" class=\"data row0 col1\" >Male</td>\n",
       "      <td id=\"T_ed3ed_row0_col2\" class=\"data row0 col2\" >2018</td>\n",
       "      <td id=\"T_ed3ed_row0_col3\" class=\"data row0 col3\" >2721.488000</td>\n",
       "    </tr>\n",
       "    <tr>\n",
       "      <th id=\"T_ed3ed_level0_row1\" class=\"row_heading level0 row1\" >8956</th>\n",
       "      <td id=\"T_ed3ed_row1_col0\" class=\"data row1 col0\" >India</td>\n",
       "      <td id=\"T_ed3ed_row1_col1\" class=\"data row1 col1\" >Male</td>\n",
       "      <td id=\"T_ed3ed_row1_col2\" class=\"data row1 col2\" >2015</td>\n",
       "      <td id=\"T_ed3ed_row1_col3\" class=\"data row1 col3\" >681223.332000</td>\n",
       "    </tr>\n",
       "    <tr>\n",
       "      <th id=\"T_ed3ed_level0_row2\" class=\"row_heading level0 row2\" >16250</th>\n",
       "      <td id=\"T_ed3ed_row2_col0\" class=\"data row2 col0\" >Saint Vincent and the Grenadines</td>\n",
       "      <td id=\"T_ed3ed_row2_col1\" class=\"data row2 col1\" >Rural</td>\n",
       "      <td id=\"T_ed3ed_row2_col2\" class=\"data row2 col2\" >2011</td>\n",
       "      <td id=\"T_ed3ed_row2_col3\" class=\"data row2 col3\" >55.375000</td>\n",
       "    </tr>\n",
       "  </tbody>\n",
       "</table>\n"
      ]
     },
     "metadata": {},
     "output_type": "display_data"
    }
   ],
   "source": [
    "# La fonction est visible dans le fichier mylib\n",
    "exploration1(pop)"
   ]
  },
  {
   "cell_type": "code",
   "execution_count": 28,
   "id": "b3b4a165-37b3-427c-8481-3d627a1d68c1",
   "metadata": {
    "canvas": {
     "comments": [],
     "componentType": "CodeCell",
     "copiedOriginId": "b5260f90-8b60-4b48-ae1d-2763f14ac54c",
     "diskcache": false,
     "headerColor": "inherit",
     "id": "95d568bc-8ac4-4f62-af4e-2e2d3854dd45",
     "isComponent": false,
     "name": "",
     "parents": []
    }
   },
   "outputs": [
    {
     "data": {
      "text/html": [
       "<div>\n",
       "<style scoped>\n",
       "    .dataframe tbody tr th:only-of-type {\n",
       "        vertical-align: middle;\n",
       "    }\n",
       "\n",
       "    .dataframe tbody tr th {\n",
       "        vertical-align: top;\n",
       "    }\n",
       "\n",
       "    .dataframe thead th {\n",
       "        text-align: right;\n",
       "    }\n",
       "</style>\n",
       "<table border=\"1\" class=\"dataframe\">\n",
       "  <thead>\n",
       "    <tr style=\"text-align: right;\">\n",
       "      <th></th>\n",
       "      <th>Type des données</th>\n",
       "      <th>Nombre de valeurs totales</th>\n",
       "      <th>Nombre de NaN</th>\n",
       "      <th>NaN (%)</th>\n",
       "      <th>Nombre de valeurs uniques</th>\n",
       "      <th>Valeurs uniques (%)</th>\n",
       "    </tr>\n",
       "  </thead>\n",
       "  <tbody>\n",
       "    <tr>\n",
       "      <th>Country</th>\n",
       "      <td>object</td>\n",
       "      <td>20819</td>\n",
       "      <td>0</td>\n",
       "      <td>0.0</td>\n",
       "      <td>237</td>\n",
       "      <td>1.138383</td>\n",
       "    </tr>\n",
       "    <tr>\n",
       "      <th>Granularity</th>\n",
       "      <td>object</td>\n",
       "      <td>20819</td>\n",
       "      <td>0</td>\n",
       "      <td>0.0</td>\n",
       "      <td>5</td>\n",
       "      <td>0.024017</td>\n",
       "    </tr>\n",
       "    <tr>\n",
       "      <th>Year</th>\n",
       "      <td>int64</td>\n",
       "      <td>20819</td>\n",
       "      <td>0</td>\n",
       "      <td>0.0</td>\n",
       "      <td>19</td>\n",
       "      <td>0.091263</td>\n",
       "    </tr>\n",
       "    <tr>\n",
       "      <th>Population</th>\n",
       "      <td>float64</td>\n",
       "      <td>20819</td>\n",
       "      <td>0</td>\n",
       "      <td>0.0</td>\n",
       "      <td>20420</td>\n",
       "      <td>98.083481</td>\n",
       "    </tr>\n",
       "  </tbody>\n",
       "</table>\n",
       "</div>"
      ],
      "text/plain": [
       "            Type des données Nombre de valeurs totales Nombre de NaN NaN (%)  \\\n",
       "Country               object                     20819             0     0.0   \n",
       "Granularity           object                     20819             0     0.0   \n",
       "Year                   int64                     20819             0     0.0   \n",
       "Population           float64                     20819             0     0.0   \n",
       "\n",
       "            Nombre de valeurs uniques Valeurs uniques (%)  \n",
       "Country                           237            1.138383  \n",
       "Granularity                         5            0.024017  \n",
       "Year                               19            0.091263  \n",
       "Population                      20420           98.083481  "
      ]
     },
     "execution_count": 28,
     "metadata": {},
     "output_type": "execute_result"
    }
   ],
   "source": [
    "# La fonction est visible dans le fichier mylib\n",
    "exploration2(pop)"
   ]
  },
  {
   "cell_type": "code",
   "execution_count": 29,
   "id": "0adc9b8c-3c99-4095-b317-488c17740e14",
   "metadata": {
    "canvas": {
     "comments": [],
     "componentType": "CodeCell",
     "copiedOriginId": "b5260f90-8b60-4b48-ae1d-2763f14ac54c",
     "diskcache": false,
     "headerColor": "inherit",
     "id": "b886b5b4-3fd3-4475-9b4b-5668348bc123",
     "isComponent": false,
     "name": "",
     "parents": []
    }
   },
   "outputs": [
    {
     "name": "stdout",
     "output_type": "stream",
     "text": [
      "\n",
      "---------------------------------------\n",
      "Nombre de lignes et de colonnes (shape)\n",
      "--------------------------------------- \n",
      "\n",
      "(20819, 4) \n",
      "\n",
      "--------------------------------------\n",
      "Affichage des NaN (isna().any(axis=1))\n",
      "-------------------------------------- \n",
      "\n",
      "Empty DataFrame\n",
      "Columns: [Country, Granularity, Year, Population]\n",
      "Index: [] \n",
      "\n",
      "---------------------------------------\n",
      "Nombre de doublons (duplicated().sum())\n",
      "--------------------------------------- \n",
      "\n",
      "0 \n",
      "\n",
      "-----------------------------------------------------\n",
      "Affichage des doublons (df[df.duplicated()].head(10))\n",
      "----------------------------------------------------- \n",
      "\n",
      "Empty DataFrame\n",
      "Columns: [Country, Granularity, Year, Population]\n",
      "Index: [] \n",
      "\n"
     ]
    }
   ],
   "source": [
    "# La fonction est visible dans le fichier mylib\n",
    "exploration3(pop)"
   ]
  },
  {
   "cell_type": "code",
   "execution_count": 30,
   "id": "e70da913-78ba-419d-9f51-b830d63c0705",
   "metadata": {
    "canvas": {
     "comments": [],
     "componentType": "CodeCell",
     "copiedOriginId": "b5260f90-8b60-4b48-ae1d-2763f14ac54c",
     "diskcache": false,
     "headerColor": "inherit",
     "id": "f26efdc0-c235-4c5f-865a-e096f2c40fa9",
     "isComponent": false,
     "name": "",
     "parents": []
    },
    "tags": []
   },
   "outputs": [
    {
     "data": {
      "text/html": [
       "<div>\n",
       "<style scoped>\n",
       "    .dataframe tbody tr th:only-of-type {\n",
       "        vertical-align: middle;\n",
       "    }\n",
       "\n",
       "    .dataframe tbody tr th {\n",
       "        vertical-align: top;\n",
       "    }\n",
       "\n",
       "    .dataframe thead th {\n",
       "        text-align: right;\n",
       "    }\n",
       "</style>\n",
       "<table border=\"1\" class=\"dataframe\">\n",
       "  <thead>\n",
       "    <tr style=\"text-align: right;\">\n",
       "      <th></th>\n",
       "      <th>count</th>\n",
       "      <th>unique</th>\n",
       "      <th>top</th>\n",
       "      <th>freq</th>\n",
       "      <th>mean</th>\n",
       "      <th>std</th>\n",
       "      <th>min</th>\n",
       "      <th>25%</th>\n",
       "      <th>50%</th>\n",
       "      <th>75%</th>\n",
       "      <th>max</th>\n",
       "    </tr>\n",
       "  </thead>\n",
       "  <tbody>\n",
       "    <tr>\n",
       "      <th>Country</th>\n",
       "      <td>20819</td>\n",
       "      <td>237</td>\n",
       "      <td>Afghanistan</td>\n",
       "      <td>95</td>\n",
       "      <td>NaN</td>\n",
       "      <td>NaN</td>\n",
       "      <td>NaN</td>\n",
       "      <td>NaN</td>\n",
       "      <td>NaN</td>\n",
       "      <td>NaN</td>\n",
       "      <td>NaN</td>\n",
       "    </tr>\n",
       "    <tr>\n",
       "      <th>Granularity</th>\n",
       "      <td>20819</td>\n",
       "      <td>5</td>\n",
       "      <td>Total</td>\n",
       "      <td>4411</td>\n",
       "      <td>NaN</td>\n",
       "      <td>NaN</td>\n",
       "      <td>NaN</td>\n",
       "      <td>NaN</td>\n",
       "      <td>NaN</td>\n",
       "      <td>NaN</td>\n",
       "      <td>NaN</td>\n",
       "    </tr>\n",
       "    <tr>\n",
       "      <th>Year</th>\n",
       "      <td>20819.0</td>\n",
       "      <td>NaN</td>\n",
       "      <td>NaN</td>\n",
       "      <td>NaN</td>\n",
       "      <td>2009.046928</td>\n",
       "      <td>5.479204</td>\n",
       "      <td>2000.0</td>\n",
       "      <td>2004.0</td>\n",
       "      <td>2009.0</td>\n",
       "      <td>2014.0</td>\n",
       "      <td>2018.0</td>\n",
       "    </tr>\n",
       "    <tr>\n",
       "      <th>Population</th>\n",
       "      <td>20819.0</td>\n",
       "      <td>NaN</td>\n",
       "      <td>NaN</td>\n",
       "      <td>NaN</td>\n",
       "      <td>18917.216851</td>\n",
       "      <td>82526.486744</td>\n",
       "      <td>0.0</td>\n",
       "      <td>341.461</td>\n",
       "      <td>2981.269</td>\n",
       "      <td>10928.1945</td>\n",
       "      <td>1459377.612</td>\n",
       "    </tr>\n",
       "  </tbody>\n",
       "</table>\n",
       "</div>"
      ],
      "text/plain": [
       "               count unique          top  freq          mean           std  \\\n",
       "Country        20819    237  Afghanistan    95           NaN           NaN   \n",
       "Granularity    20819      5        Total  4411           NaN           NaN   \n",
       "Year         20819.0    NaN          NaN   NaN   2009.046928      5.479204   \n",
       "Population   20819.0    NaN          NaN   NaN  18917.216851  82526.486744   \n",
       "\n",
       "                min      25%       50%         75%          max  \n",
       "Country         NaN      NaN       NaN         NaN          NaN  \n",
       "Granularity     NaN      NaN       NaN         NaN          NaN  \n",
       "Year         2000.0   2004.0    2009.0      2014.0       2018.0  \n",
       "Population      0.0  341.461  2981.269  10928.1945  1459377.612  "
      ]
     },
     "execution_count": 30,
     "metadata": {},
     "output_type": "execute_result"
    }
   ],
   "source": [
    "# La fonction est visible dans le fichier mylib\n",
    "exploration4(pop)"
   ]
  },
  {
   "cell_type": "code",
   "execution_count": 31,
   "id": "ef885d9d",
   "metadata": {
    "canvas": {
     "comments": [],
     "componentType": "CodeCell",
     "copiedOriginId": "770a2f9d-6e00-4dab-9066-6255de82f457",
     "diskcache": false,
     "headerColor": "none",
     "id": "5182489f-6b76-4e86-bbe6-1ab8aaeb777c",
     "isComponent": false,
     "name": "",
     "parents": []
    }
   },
   "outputs": [
    {
     "data": {
      "text/html": [
       "<div>\n",
       "<style scoped>\n",
       "    .dataframe tbody tr th:only-of-type {\n",
       "        vertical-align: middle;\n",
       "    }\n",
       "\n",
       "    .dataframe tbody tr th {\n",
       "        vertical-align: top;\n",
       "    }\n",
       "\n",
       "    .dataframe thead th {\n",
       "        text-align: right;\n",
       "    }\n",
       "</style>\n",
       "<table border=\"1\" class=\"dataframe\">\n",
       "  <thead>\n",
       "    <tr style=\"text-align: right;\">\n",
       "      <th></th>\n",
       "      <th>Country</th>\n",
       "      <th>Granularity population (gender/urban/rural)</th>\n",
       "      <th>Year</th>\n",
       "      <th>Population</th>\n",
       "    </tr>\n",
       "  </thead>\n",
       "  <tbody>\n",
       "    <tr>\n",
       "      <th>1142</th>\n",
       "      <td>Azerbaijan</td>\n",
       "      <td>Male</td>\n",
       "      <td>2004</td>\n",
       "      <td>4156206.0</td>\n",
       "    </tr>\n",
       "  </tbody>\n",
       "</table>\n",
       "</div>"
      ],
      "text/plain": [
       "         Country Granularity population (gender/urban/rural)  Year  Population\n",
       "1142  Azerbaijan                                        Male  2004   4156206.0"
      ]
     },
     "execution_count": 31,
     "metadata": {},
     "output_type": "execute_result"
    }
   ],
   "source": [
    "# Mise à l'échelle de la population pour affichage réel et renommage de colonne\n",
    "pop['Population'] = pop['Population'] * 1000\n",
    "pop.rename(columns={'Granularity': 'Granularity population (gender/urban/rural)'}, inplace=True)\n",
    "pop.sample()"
   ]
  },
  {
   "cell_type": "markdown",
   "id": "ea98be28-9a6a-49e8-9304-2fd1417e2c18",
   "metadata": {
    "canvas": {
     "comments": [],
     "componentType": "CodeCell",
     "copiedOriginId": "ad77a01b-97f5-401e-8d81-45b961fd02b9",
     "diskcache": false,
     "headerColor": "inherit",
     "id": "0cdc7e17-c01d-444f-bfcb-201d6bae3ee3",
     "isComponent": false,
     "name": "",
     "parents": []
    }
   },
   "source": [
    "## Vérifions l'exactitude du nom des pays"
   ]
  },
  {
   "cell_type": "code",
   "execution_count": 32,
   "id": "acc39caa-0c80-4b2b-b8bb-8e134ded816d",
   "metadata": {
    "canvas": {
     "comments": [],
     "componentType": "CodeCell",
     "copiedOriginId": "ac1d65a1-fb55-467a-b55d-36d338359d94",
     "diskcache": false,
     "headerColor": "inherit",
     "id": "ba6f68e9-8cab-4dbe-b53e-3c70e41fec3b",
     "isComponent": false,
     "name": "",
     "parents": []
    }
   },
   "outputs": [
    {
     "name": "stdout",
     "output_type": "stream",
     "text": [
      "\u001b[1mPays communs aux deux DataFrames :\n",
      "Nombre : 237 \u001b[0;0m\n",
      "{'Belarus', 'Kyrgyzstan', 'France', 'Republic of North Macedonia', 'Fiji', 'Honduras', 'Austria', 'Portugal', 'Liberia', 'Armenia', 'Estonia', 'Georgia', 'Russian Federation', 'Anguilla', 'Malawi', 'Sri Lanka', 'Syrian Arab Republic', 'Yemen', 'Italy', 'Albania', 'China', 'United States of America', 'Puerto Rico', 'San Marino', 'Libya', 'Equatorial Guinea', 'Philippines', 'Guadeloupe', 'Latvia', 'Niue', 'Qatar', 'Samoa', 'Faroe Islands', 'Saint Pierre and Miquelon', 'Bonaire, Sint Eustatius and Saba', 'Zambia', 'Cyprus', 'Lithuania', 'Lebanon', 'Iceland', 'Viet Nam', 'Mayotte', 'Martinique', 'Indonesia', 'Thailand', 'Curaçao', 'Central African Republic', 'Djibouti', 'Channel Islands', 'Réunion', 'Senegal', 'Montserrat', 'Spain', 'French Polynesia', 'Solomon Islands', 'Denmark', 'Ecuador', 'Greece', 'Holy See', 'Namibia', 'Monaco', 'Montenegro', 'Bulgaria', \"Democratic People's Republic of Korea\", 'Turks and Caicos Islands', 'Lesotho', 'Nigeria', 'Sierra Leone', 'Saint-Martin (French part)', 'Saint Lucia', 'Iraq', 'Cambodia', 'Mexico', 'Netherlands Antilles (former)', 'Peru', 'Bahrain', 'Czechia', 'Pakistan', 'Suriname', 'Panama', 'Ukraine', 'Haiti', 'Northern Mariana Islands', 'Oman', 'Guinea-Bissau', 'Nepal', 'Republic of Moldova', 'Comoros', 'Somalia', 'Tokelau', 'Wallis and Futuna Islands', 'Japan', 'United Republic of Tanzania', 'Ireland', 'Eswatini', 'Sudan (former)', 'Dominican Republic', 'Uzbekistan', 'Guatemala', 'Mongolia', 'Eritrea', 'Guam', 'Falkland Islands (Malvinas)', 'Micronesia (Federated States of)', 'India', 'Congo', 'Malaysia', 'Kiribati', 'Democratic Republic of the Congo', \"Côte d'Ivoire\", 'Ethiopia', 'Morocco', 'Canada', 'Bermuda', 'Cuba', 'Uruguay', 'Algeria', 'Bolivia (Plurinational State of)', 'Paraguay', 'New Zealand', 'Western Sahara', 'Benin', 'Malta', 'Azerbaijan', 'Iran (Islamic Republic of)', 'Gibraltar', 'Brazil', 'Bahamas', 'Kazakhstan', 'United States Virgin Islands', 'Mozambique', 'Niger', 'Israel', 'Trinidad and Tobago', 'Belgium', 'Croatia', 'Timor-Leste', 'Burundi', 'Finland', 'Botswana', 'Australia', 'Afghanistan', 'Guyana', 'Cayman Islands', 'Sint Maarten  (Dutch part)', 'Vanuatu', 'Cameroon', 'Jamaica', 'Guinea', 'Turkey', 'Sao Tome and Principe', 'Mali', 'Uganda', 'Saint Helena, Ascension and Tristan da Cunha', 'Myanmar', 'Saint Kitts and Nevis', 'Isle of Man', 'Netherlands', 'Sweden', 'Chile', 'Taiwan', 'Argentina', 'Tonga', 'Tunisia', 'Madagascar', 'Mauritania', 'Zimbabwe', 'Colombia', 'Barbados', 'Kenya', 'Nauru', 'Andorra', 'Belize', 'Greenland', 'Saint Vincent and the Grenadines', 'Angola', 'Sudan', 'Bosnia and Herzegovina', 'Tuvalu', 'Maldives', 'Germany', 'Antigua and Barbuda', 'Palestine', 'Jordan', 'Bangladesh', 'Rwanda', 'Grenada', 'Slovakia', 'Egypt', 'Burkina Faso', 'Hong Kong', 'Palau', 'United Kingdom of Great Britain and Northern Ireland', 'Togo', 'Seychelles', 'Bhutan', \"Lao People's Democratic Republic\", 'Republic of Korea', 'Chad', 'United Arab Emirates', 'American Samoa', 'Aruba', 'Norway', 'Cook Islands', 'Slovenia', 'Saudi Arabia', 'Romania', 'Singapore', 'Kuwait', 'Mauritius', 'Dominica', 'Luxembourg', 'Papua New Guinea', 'Serbia', 'Cabo Verde', 'Venezuela (Bolivarian Republic of)', 'Costa Rica', 'Brunei Darussalam', 'Saint Barthélemy', 'Liechtenstein', 'Macao', 'Gabon', 'Hungary', 'Poland', 'Nicaragua', 'Turkmenistan', 'South Africa', 'Switzerland', 'New Caledonia', 'El Salvador', 'British Virgin Islands', 'Marshall Islands', 'South Sudan', 'Gambia', 'Ghana', 'French Guyana', 'Tajikistan'}\n",
      "\u001b[1m\n",
      "Pays uniquement dans le DataFrame pop :\n",
      "Nombre : 0 \u001b[0;0m\n",
      "set()\n",
      "\u001b[1m\n",
      "Pays uniquement dans le DataFrame country :\n",
      "Nombre : 0 \u001b[0;0m\n",
      "set()\n"
     ]
    }
   ],
   "source": [
    "pop_countries = pop['Country'].unique()\n",
    "country_countries = country['Country'].unique()\n",
    "\n",
    "# Compare les valeurs uniques des deux DataFrames\n",
    "common_countries = set(pop_countries) & set(country_countries)\n",
    "unique_countries_in_pop = set(pop_countries) - set(country_countries)\n",
    "unique_countries_in_country = set(country_countries) - set(pop_countries)\n",
    "\n",
    "# Affiche les résultats\n",
    "print(bold + \"Pays communs aux deux DataFrames :\")\n",
    "print(\"Nombre :\", len(common_countries), end)\n",
    "print(common_countries)\n",
    "print(bold + \"\\nPays uniquement dans le DataFrame pop :\")\n",
    "print(\"Nombre :\", len(unique_countries_in_pop), end)\n",
    "print(unique_countries_in_pop)\n",
    "print(bold + \"\\nPays uniquement dans le DataFrame country :\")\n",
    "print(\"Nombre :\", len(unique_countries_in_country), end)\n",
    "print(unique_countries_in_country)"
   ]
  },
  {
   "cell_type": "markdown",
   "id": "47ead514-b961-49f3-b9fa-46d3075f42b0",
   "metadata": {
    "canvas": {
     "comments": [],
     "componentType": "CodeCell",
     "copiedOriginId": "45458931-57c7-483f-9109-acfa95fe7298",
     "diskcache": false,
     "headerColor": "inherit",
     "id": "a382f0b9-5f42-4a90-8dac-8e723739553d",
     "isComponent": false,
     "name": "",
     "parents": []
    }
   },
   "source": [
    "**=> Pas de corrections à faire, pour la jointure il est important que tous les pays du DataFrame 'pop' soient présents dans le DataFrame 'country'**"
   ]
  },
  {
   "cell_type": "code",
   "execution_count": 33,
   "id": "0bcb6a23-3f24-470f-b567-d1bd1225cbbe",
   "metadata": {
    "canvas": {
     "comments": [],
     "componentType": "CodeCell",
     "copiedOriginId": "daf840df-a99b-4161-93c9-5edc35cd1611",
     "diskcache": false,
     "headerColor": "inherit",
     "id": "cc4b1e80-6ae6-40be-afc4-be3c9ea5299c",
     "isComponent": false,
     "name": "",
     "parents": []
    }
   },
   "outputs": [
    {
     "name": "stdout",
     "output_type": "stream",
     "text": [
      "\u001b[1mCorrespondances entre les noms de pays (excluant les identiques) :\u001b[0;0m\n",
      "Pop : American Samoa, Country : Samoa\n",
      "Pop : Democratic Republic of the Congo, Country : Congo\n",
      "Pop : French Guyana, Country : Guyana\n",
      "Pop : Guinea, Country : Equatorial Guinea\n",
      "Pop : Guinea-Bissau, Country : Guinea\n",
      "Pop : Netherlands Antilles (former), Country : Netherlands\n",
      "Pop : Papua New Guinea, Country : Guinea\n",
      "Pop : Republic of Korea, Country : Democratic People's Republic of Korea\n",
      "Pop : Sudan, Country : South Sudan\n",
      "Pop : Sudan (former), Country : Sudan\n",
      "Pop : United Kingdom of Great Britain and Northern Ireland, Country : Ireland\n"
     ]
    }
   ],
   "source": [
    "# Obtiens les valeurs uniques de la colonne 'Country' dans le premier DataFrame (pop)\n",
    "pop_countries = pop['Country'].unique()\n",
    "\n",
    "# Obtiens les valeurs uniques de la colonne 'Country' dans le deuxième DataFrame (country)\n",
    "country_countries = country['Country'].unique()\n",
    "\n",
    "# Définit un seuil de correspondance (score minimal pour considérer les pays comme correspondants)\n",
    "threshold = 85\n",
    "\n",
    "# Compare les noms de pays entre les deux DataFrames\n",
    "matching_countries = []\n",
    "for country_pop in pop_countries:\n",
    "    best_match = process.extractOne(country_pop, country_countries, scorer=fuzz.token_set_ratio)\n",
    "    if best_match[1] >= threshold and country_pop != best_match[0]:\n",
    "        matching_countries.append((country_pop, best_match[0]))\n",
    "\n",
    "# Affiche les résultats\n",
    "print(bold + \"Correspondances entre les noms de pays (excluant les identiques) :\" + end)\n",
    "for country_pair in matching_countries:\n",
    "    print(\"Pop : {}, Country : {}\".format(country_pair[0], country_pair[1]))"
   ]
  },
  {
   "cell_type": "markdown",
   "id": "5f6175ac-fb24-49c6-ba1a-cb87ea5cb966",
   "metadata": {
    "canvas": {
     "comments": [],
     "componentType": "CodeCell",
     "copiedOriginId": null,
     "diskcache": false,
     "headerColor": "inherit",
     "id": "45458931-57c7-483f-9109-acfa95fe7298",
     "isComponent": false,
     "name": "",
     "parents": []
    }
   },
   "source": [
    "**=> Il s'agit bien de pays différents, il n'y a pas de correction à faire**"
   ]
  },
  {
   "cell_type": "code",
   "execution_count": 34,
   "id": "cd78662e-eebe-4707-91e0-4b38ea456edf",
   "metadata": {
    "canvas": {
     "comments": [],
     "componentType": "CodeCell",
     "copiedOriginId": null,
     "diskcache": false,
     "headerColor": "inherit",
     "id": "09926d15-a313-46a7-86d0-2f55ededdea1",
     "isComponent": false,
     "name": "",
     "parents": []
    }
   },
   "outputs": [
    {
     "data": {
      "text/plain": [
       "(20819, 4)"
      ]
     },
     "execution_count": 34,
     "metadata": {},
     "output_type": "execute_result"
    }
   ],
   "source": [
    "# shape avant merging\n",
    "pop.shape"
   ]
  },
  {
   "cell_type": "code",
   "execution_count": 35,
   "id": "6cd5fdd6-f183-4504-8e98-7c43098ac53b",
   "metadata": {
    "canvas": {
     "comments": [],
     "componentType": "CodeCell",
     "copiedOriginId": "ed5b0ae0-4d16-4c35-ac83-df6bb68f9bf1",
     "diskcache": false,
     "headerColor": "inherit",
     "id": "450f46fe-15af-4aaf-9b26-5417cd572650",
     "isComponent": false,
     "name": "",
     "parents": []
    }
   },
   "outputs": [
    {
     "name": "stdout",
     "output_type": "stream",
     "text": [
      "\u001b[31mLe DataFrame contient 20819 lignes\n",
      "\u001b[31m\n",
      "La proportion de 'both' est de 100.0 % soit 20819 lignes\n",
      "\u001b[31mLa proportion de 'left_only' est de 0.0 % 0 lignes\n",
      "\u001b[31mLa proportion de 'right_only' est de 0.0 % 0 lignes\n"
     ]
    }
   ],
   "source": [
    "# la fonction est visible dans le fichier mylib\n",
    "df_merge(pop, country, ['Country'])"
   ]
  },
  {
   "cell_type": "code",
   "execution_count": 36,
   "id": "80a5403f-7a26-48dc-b675-aa99fcc0a253",
   "metadata": {
    "canvas": {
     "comments": [],
     "componentType": "CodeCell",
     "copiedOriginId": "357f4afd-ca7b-4389-b88c-098509fabcd9",
     "diskcache": false,
     "headerColor": "inherit",
     "id": "a1d58776-c78b-4136-8aac-f96a377c11a1",
     "isComponent": false,
     "name": "",
     "parents": []
    }
   },
   "outputs": [
    {
     "data": {
      "text/html": [
       "<div>\n",
       "<style scoped>\n",
       "    .dataframe tbody tr th:only-of-type {\n",
       "        vertical-align: middle;\n",
       "    }\n",
       "\n",
       "    .dataframe tbody tr th {\n",
       "        vertical-align: top;\n",
       "    }\n",
       "\n",
       "    .dataframe thead th {\n",
       "        text-align: right;\n",
       "    }\n",
       "</style>\n",
       "<table border=\"1\" class=\"dataframe\">\n",
       "  <thead>\n",
       "    <tr style=\"text-align: right;\">\n",
       "      <th></th>\n",
       "      <th>Country</th>\n",
       "      <th>Granularity population (gender/urban/rural)</th>\n",
       "      <th>Year</th>\n",
       "      <th>Population</th>\n",
       "      <th>Region</th>\n",
       "    </tr>\n",
       "  </thead>\n",
       "  <tbody>\n",
       "    <tr>\n",
       "      <th>11522</th>\n",
       "      <td>Mali</td>\n",
       "      <td>Rural</td>\n",
       "      <td>2011</td>\n",
       "      <td>9822006.0</td>\n",
       "      <td>Africa</td>\n",
       "    </tr>\n",
       "  </tbody>\n",
       "</table>\n",
       "</div>"
      ],
      "text/plain": [
       "      Country Granularity population (gender/urban/rural)  Year  Population  \\\n",
       "11522    Mali                                       Rural  2011   9822006.0   \n",
       "\n",
       "       Region  \n",
       "11522  Africa  "
      ]
     },
     "execution_count": 36,
     "metadata": {},
     "output_type": "execute_result"
    }
   ],
   "source": [
    "pop = pop.merge(country, on=['Country'], how='inner')\n",
    "pop.sample()"
   ]
  },
  {
   "cell_type": "code",
   "execution_count": 37,
   "id": "e3c82e52-59d1-4cab-9382-99968835b3a1",
   "metadata": {
    "canvas": {
     "comments": [],
     "componentType": "CodeCell",
     "copiedOriginId": null,
     "diskcache": false,
     "headerColor": "inherit",
     "id": "b1b589ce-2bb9-49fe-baa6-6a14ee03b873",
     "isComponent": false,
     "name": "",
     "parents": []
    }
   },
   "outputs": [
    {
     "data": {
      "text/plain": [
       "(20819, 5)"
      ]
     },
     "execution_count": 37,
     "metadata": {},
     "output_type": "execute_result"
    }
   ],
   "source": [
    "# shape après merging\n",
    "pop.shape"
   ]
  },
  {
   "cell_type": "markdown",
   "id": "2e0c2408-f8c8-4e34-8398-5c368f1edc20",
   "metadata": {
    "canvas": {
     "comments": [],
     "componentType": "CodeCell",
     "copiedOriginId": null,
     "diskcache": false,
     "headerColor": "inherit",
     "id": "ab26f143-0c4b-4049-a257-c45dc6f44619",
     "isComponent": false,
     "name": "",
     "parents": []
    }
   },
   "source": [
    "# **Water**"
   ]
  },
  {
   "cell_type": "markdown",
   "id": "02687ca9",
   "metadata": {
    "canvas": {
     "comments": [],
     "componentType": "CodeCell",
     "copiedOriginId": null,
     "diskcache": false,
     "headerColor": "none",
     "id": "f2e85722-9fa2-4556-a045-f2aa8da3028f",
     "isComponent": false,
     "name": "",
     "parents": []
    }
   },
   "source": [
    "## Observations uniques"
   ]
  },
  {
   "cell_type": "code",
   "execution_count": 38,
   "id": "f3bc8bfb",
   "metadata": {
    "canvas": {
     "comments": [],
     "componentType": "CodeCell",
     "copiedOriginId": null,
     "diskcache": false,
     "headerColor": "none",
     "id": "4daad7f7-adf9-423d-b296-51225b7a20fc",
     "isComponent": false,
     "name": "",
     "parents": []
    }
   },
   "outputs": [
    {
     "name": "stdout",
     "output_type": "stream",
     "text": [
      "\u001b[1mYear\u001b[0;0m \n",
      " [2000 2001 2002 2003 2004 2005 2006 2007 2008 2009 2010 2011 2012 2013\n",
      " 2014 2015 2016 2017] \n",
      "\n",
      "\u001b[1mCountry\u001b[0;0m \n",
      " ['Afghanistan' 'Albania' 'Algeria' 'Andorra' 'Angola'\n",
      " 'Antigua and Barbuda' 'Argentina' 'Armenia' 'Australia' 'Austria'\n",
      " 'Azerbaijan' 'Bahamas' 'Bahrain' 'Bangladesh' 'Barbados' 'Belarus'\n",
      " 'Belgium' 'Belize' 'Benin' 'Bhutan' 'Bolivia (Plurinational State of)'\n",
      " 'Bosnia and Herzegovina' 'Botswana' 'Brazil' 'Brunei Darussalam'] \n",
      "\n",
      "\u001b[1mGranularity\u001b[0;0m \n",
      " ['Rural' 'Total' 'Urban'] \n",
      "\n",
      "\u001b[1mPopulation using at least basic drinking-water services (%)\u001b[0;0m \n",
      " [ 21.61913  27.7719   49.48745  81.78472  87.86662  96.35529  83.32201\n",
      "  89.83726  94.19543 100.       21.15264  41.14431  61.06653       nan\n",
      "  98.25377  76.40468  96.21301  98.62579  88.56082  95.13351  98.72488\n",
      "  99.05666  99.7123   99.835    54.93393] \n",
      "\n",
      "\u001b[1mPopulation using safely managed drinking-water services (%)\u001b[0;0m \n",
      " [     nan 49.29324 90.64    29.59756 98.16657 97.71394 49.67768 98.79928\n",
      " 59.41035 55.9067  44.55809 80.62173 99.52319 21.73112 28.55129 48.56318\n",
      " 87.34998 84.02139 91.21861 96.83743 10.80921 16.87518 43.4465  98.21185\n",
      " 91.96177] \n",
      "\n"
     ]
    }
   ],
   "source": [
    "for i in water.columns:\n",
    "    print(bold + i + end, \"\\n\", water[i].unique()[0:25], \"\\n\")"
   ]
  },
  {
   "cell_type": "markdown",
   "id": "8fc4c8d8",
   "metadata": {
    "canvas": {
     "comments": [],
     "componentType": "CodeCell",
     "copiedOriginId": null,
     "diskcache": false,
     "headerColor": "none",
     "id": "766030ad-a58f-43a5-985d-ecfbb5789844",
     "isComponent": false,
     "name": "",
     "parents": []
    }
   },
   "source": [
    "## Exploration"
   ]
  },
  {
   "cell_type": "code",
   "execution_count": 39,
   "id": "5712173d-a92d-42b1-a537-07bfbd64fd9c",
   "metadata": {
    "canvas": {
     "comments": [],
     "componentType": "CodeCell",
     "copiedOriginId": null,
     "diskcache": false,
     "headerColor": "inherit",
     "id": "a7b6ac6a-3a0d-4f88-acae-7d752b843efa",
     "isComponent": false,
     "name": "",
     "parents": []
    }
   },
   "outputs": [
    {
     "data": {
      "text/html": [
       "<style type=\"text/css\">\n",
       "</style>\n",
       "<table id=\"T_2350f\" style='display:grid'>\n",
       "  <caption>__________ Head __________</caption>\n",
       "  <thead>\n",
       "    <tr>\n",
       "      <th class=\"blank level0\" >&nbsp;</th>\n",
       "      <th id=\"T_2350f_level0_col0\" class=\"col_heading level0 col0\" >Year</th>\n",
       "      <th id=\"T_2350f_level0_col1\" class=\"col_heading level0 col1\" >Country</th>\n",
       "      <th id=\"T_2350f_level0_col2\" class=\"col_heading level0 col2\" >Granularity</th>\n",
       "      <th id=\"T_2350f_level0_col3\" class=\"col_heading level0 col3\" >Population using at least basic drinking-water services (%)</th>\n",
       "      <th id=\"T_2350f_level0_col4\" class=\"col_heading level0 col4\" >Population using safely managed drinking-water services (%)</th>\n",
       "    </tr>\n",
       "  </thead>\n",
       "  <tbody>\n",
       "    <tr>\n",
       "      <th id=\"T_2350f_level0_row0\" class=\"row_heading level0 row0\" >0</th>\n",
       "      <td id=\"T_2350f_row0_col0\" class=\"data row0 col0\" >2000</td>\n",
       "      <td id=\"T_2350f_row0_col1\" class=\"data row0 col1\" >Afghanistan</td>\n",
       "      <td id=\"T_2350f_row0_col2\" class=\"data row0 col2\" >Rural</td>\n",
       "      <td id=\"T_2350f_row0_col3\" class=\"data row0 col3\" >21.619130</td>\n",
       "      <td id=\"T_2350f_row0_col4\" class=\"data row0 col4\" >nan</td>\n",
       "    </tr>\n",
       "    <tr>\n",
       "      <th id=\"T_2350f_level0_row1\" class=\"row_heading level0 row1\" >1</th>\n",
       "      <td id=\"T_2350f_row1_col0\" class=\"data row1 col0\" >2000</td>\n",
       "      <td id=\"T_2350f_row1_col1\" class=\"data row1 col1\" >Afghanistan</td>\n",
       "      <td id=\"T_2350f_row1_col2\" class=\"data row1 col2\" >Total</td>\n",
       "      <td id=\"T_2350f_row1_col3\" class=\"data row1 col3\" >27.771900</td>\n",
       "      <td id=\"T_2350f_row1_col4\" class=\"data row1 col4\" >nan</td>\n",
       "    </tr>\n",
       "    <tr>\n",
       "      <th id=\"T_2350f_level0_row2\" class=\"row_heading level0 row2\" >2</th>\n",
       "      <td id=\"T_2350f_row2_col0\" class=\"data row2 col0\" >2000</td>\n",
       "      <td id=\"T_2350f_row2_col1\" class=\"data row2 col1\" >Afghanistan</td>\n",
       "      <td id=\"T_2350f_row2_col2\" class=\"data row2 col2\" >Urban</td>\n",
       "      <td id=\"T_2350f_row2_col3\" class=\"data row2 col3\" >49.487450</td>\n",
       "      <td id=\"T_2350f_row2_col4\" class=\"data row2 col4\" >nan</td>\n",
       "    </tr>\n",
       "  </tbody>\n",
       "</table>\n",
       " <style type=\"text/css\">\n",
       "</style>\n",
       "<table id=\"T_d69ae\" style='display:grid'>\n",
       "  <caption>__________ Tail __________</caption>\n",
       "  <thead>\n",
       "    <tr>\n",
       "      <th class=\"blank level0\" >&nbsp;</th>\n",
       "      <th id=\"T_d69ae_level0_col0\" class=\"col_heading level0 col0\" >Year</th>\n",
       "      <th id=\"T_d69ae_level0_col1\" class=\"col_heading level0 col1\" >Country</th>\n",
       "      <th id=\"T_d69ae_level0_col2\" class=\"col_heading level0 col2\" >Granularity</th>\n",
       "      <th id=\"T_d69ae_level0_col3\" class=\"col_heading level0 col3\" >Population using at least basic drinking-water services (%)</th>\n",
       "      <th id=\"T_d69ae_level0_col4\" class=\"col_heading level0 col4\" >Population using safely managed drinking-water services (%)</th>\n",
       "    </tr>\n",
       "  </thead>\n",
       "  <tbody>\n",
       "    <tr>\n",
       "      <th id=\"T_d69ae_level0_row0\" class=\"row_heading level0 row0\" >10473</th>\n",
       "      <td id=\"T_d69ae_row0_col0\" class=\"data row0 col0\" >2017</td>\n",
       "      <td id=\"T_d69ae_row0_col1\" class=\"data row0 col1\" >Zimbabwe</td>\n",
       "      <td id=\"T_d69ae_row0_col2\" class=\"data row0 col2\" >Rural</td>\n",
       "      <td id=\"T_d69ae_row0_col3\" class=\"data row0 col3\" >49.804760</td>\n",
       "      <td id=\"T_d69ae_row0_col4\" class=\"data row0 col4\" >nan</td>\n",
       "    </tr>\n",
       "    <tr>\n",
       "      <th id=\"T_d69ae_level0_row1\" class=\"row_heading level0 row1\" >10474</th>\n",
       "      <td id=\"T_d69ae_row1_col0\" class=\"data row1 col0\" >2017</td>\n",
       "      <td id=\"T_d69ae_row1_col1\" class=\"data row1 col1\" >Zimbabwe</td>\n",
       "      <td id=\"T_d69ae_row1_col2\" class=\"data row1 col2\" >Total</td>\n",
       "      <td id=\"T_d69ae_row1_col3\" class=\"data row1 col3\" >64.051230</td>\n",
       "      <td id=\"T_d69ae_row1_col4\" class=\"data row1 col4\" >nan</td>\n",
       "    </tr>\n",
       "    <tr>\n",
       "      <th id=\"T_d69ae_level0_row2\" class=\"row_heading level0 row2\" >10475</th>\n",
       "      <td id=\"T_d69ae_row2_col0\" class=\"data row2 col0\" >2017</td>\n",
       "      <td id=\"T_d69ae_row2_col1\" class=\"data row2 col1\" >Zimbabwe</td>\n",
       "      <td id=\"T_d69ae_row2_col2\" class=\"data row2 col2\" >Urban</td>\n",
       "      <td id=\"T_d69ae_row2_col3\" class=\"data row2 col3\" >93.997670</td>\n",
       "      <td id=\"T_d69ae_row2_col4\" class=\"data row2 col4\" >nan</td>\n",
       "    </tr>\n",
       "  </tbody>\n",
       "</table>\n",
       " <style type=\"text/css\">\n",
       "</style>\n",
       "<table id=\"T_65a40\" style='display:grid'>\n",
       "  <caption>__________ Sample __________</caption>\n",
       "  <thead>\n",
       "    <tr>\n",
       "      <th class=\"blank level0\" >&nbsp;</th>\n",
       "      <th id=\"T_65a40_level0_col0\" class=\"col_heading level0 col0\" >Year</th>\n",
       "      <th id=\"T_65a40_level0_col1\" class=\"col_heading level0 col1\" >Country</th>\n",
       "      <th id=\"T_65a40_level0_col2\" class=\"col_heading level0 col2\" >Granularity</th>\n",
       "      <th id=\"T_65a40_level0_col3\" class=\"col_heading level0 col3\" >Population using at least basic drinking-water services (%)</th>\n",
       "      <th id=\"T_65a40_level0_col4\" class=\"col_heading level0 col4\" >Population using safely managed drinking-water services (%)</th>\n",
       "    </tr>\n",
       "  </thead>\n",
       "  <tbody>\n",
       "    <tr>\n",
       "      <th id=\"T_65a40_level0_row0\" class=\"row_heading level0 row0\" >8632</th>\n",
       "      <td id=\"T_65a40_row0_col0\" class=\"data row0 col0\" >2014</td>\n",
       "      <td id=\"T_65a40_row0_col1\" class=\"data row0 col1\" >South Africa</td>\n",
       "      <td id=\"T_65a40_row0_col2\" class=\"data row0 col2\" >Total</td>\n",
       "      <td id=\"T_65a40_row0_col3\" class=\"data row0 col3\" >91.426200</td>\n",
       "      <td id=\"T_65a40_row0_col4\" class=\"data row0 col4\" >nan</td>\n",
       "    </tr>\n",
       "    <tr>\n",
       "      <th id=\"T_65a40_level0_row1\" class=\"row_heading level0 row1\" >6341</th>\n",
       "      <td id=\"T_65a40_row1_col0\" class=\"data row1 col0\" >2010</td>\n",
       "      <td id=\"T_65a40_row1_col1\" class=\"data row1 col1\" >Togo</td>\n",
       "      <td id=\"T_65a40_row1_col2\" class=\"data row1 col2\" >Urban</td>\n",
       "      <td id=\"T_65a40_row1_col3\" class=\"data row1 col3\" >84.948230</td>\n",
       "      <td id=\"T_65a40_row1_col4\" class=\"data row1 col4\" >nan</td>\n",
       "    </tr>\n",
       "    <tr>\n",
       "      <th id=\"T_65a40_level0_row2\" class=\"row_heading level0 row2\" >6551</th>\n",
       "      <td id=\"T_65a40_row2_col0\" class=\"data row2 col0\" >2011</td>\n",
       "      <td id=\"T_65a40_row2_col1\" class=\"data row2 col1\" >Djibouti</td>\n",
       "      <td id=\"T_65a40_row2_col2\" class=\"data row2 col2\" >Urban</td>\n",
       "      <td id=\"T_65a40_row2_col3\" class=\"data row2 col3\" >83.185330</td>\n",
       "      <td id=\"T_65a40_row2_col4\" class=\"data row2 col4\" >nan</td>\n",
       "    </tr>\n",
       "  </tbody>\n",
       "</table>\n"
      ]
     },
     "metadata": {},
     "output_type": "display_data"
    }
   ],
   "source": [
    "# La fonction est visible dans le fichier mylib\n",
    "exploration1(water)"
   ]
  },
  {
   "cell_type": "code",
   "execution_count": 40,
   "id": "0e64072a-cb08-49af-a0b1-73a58565d87c",
   "metadata": {
    "canvas": {
     "comments": [],
     "componentType": "CodeCell",
     "copiedOriginId": null,
     "diskcache": false,
     "headerColor": "inherit",
     "id": "3b498dbf-1d6f-4bc3-a26a-b93338d7bcd1",
     "isComponent": false,
     "name": "",
     "parents": []
    }
   },
   "outputs": [
    {
     "data": {
      "text/html": [
       "<div>\n",
       "<style scoped>\n",
       "    .dataframe tbody tr th:only-of-type {\n",
       "        vertical-align: middle;\n",
       "    }\n",
       "\n",
       "    .dataframe tbody tr th {\n",
       "        vertical-align: top;\n",
       "    }\n",
       "\n",
       "    .dataframe thead th {\n",
       "        text-align: right;\n",
       "    }\n",
       "</style>\n",
       "<table border=\"1\" class=\"dataframe\">\n",
       "  <thead>\n",
       "    <tr style=\"text-align: right;\">\n",
       "      <th></th>\n",
       "      <th>Type des données</th>\n",
       "      <th>Nombre de valeurs totales</th>\n",
       "      <th>Nombre de NaN</th>\n",
       "      <th>NaN (%)</th>\n",
       "      <th>Nombre de valeurs uniques</th>\n",
       "      <th>Valeurs uniques (%)</th>\n",
       "    </tr>\n",
       "  </thead>\n",
       "  <tbody>\n",
       "    <tr>\n",
       "      <th>Year</th>\n",
       "      <td>int64</td>\n",
       "      <td>10476</td>\n",
       "      <td>0</td>\n",
       "      <td>0.0</td>\n",
       "      <td>18</td>\n",
       "      <td>0.171821</td>\n",
       "    </tr>\n",
       "    <tr>\n",
       "      <th>Country</th>\n",
       "      <td>object</td>\n",
       "      <td>10476</td>\n",
       "      <td>0</td>\n",
       "      <td>0.0</td>\n",
       "      <td>194</td>\n",
       "      <td>1.851852</td>\n",
       "    </tr>\n",
       "    <tr>\n",
       "      <th>Granularity</th>\n",
       "      <td>object</td>\n",
       "      <td>10476</td>\n",
       "      <td>0</td>\n",
       "      <td>0.0</td>\n",
       "      <td>3</td>\n",
       "      <td>0.028637</td>\n",
       "    </tr>\n",
       "    <tr>\n",
       "      <th>Population using at least basic drinking-water services (%)</th>\n",
       "      <td>float64</td>\n",
       "      <td>9415</td>\n",
       "      <td>1061</td>\n",
       "      <td>10.127911</td>\n",
       "      <td>7704</td>\n",
       "      <td>73.539519</td>\n",
       "    </tr>\n",
       "    <tr>\n",
       "      <th>Population using safely managed drinking-water services (%)</th>\n",
       "      <td>float64</td>\n",
       "      <td>3286</td>\n",
       "      <td>7190</td>\n",
       "      <td>68.633066</td>\n",
       "      <td>2877</td>\n",
       "      <td>27.462772</td>\n",
       "    </tr>\n",
       "  </tbody>\n",
       "</table>\n",
       "</div>"
      ],
      "text/plain": [
       "                                                   Type des données  \\\n",
       "Year                                                          int64   \n",
       "Country                                                      object   \n",
       "Granularity                                                  object   \n",
       "Population using at least basic drinking-water ...          float64   \n",
       "Population using safely managed drinking-water ...          float64   \n",
       "\n",
       "                                                   Nombre de valeurs totales  \\\n",
       "Year                                                                   10476   \n",
       "Country                                                                10476   \n",
       "Granularity                                                            10476   \n",
       "Population using at least basic drinking-water ...                      9415   \n",
       "Population using safely managed drinking-water ...                      3286   \n",
       "\n",
       "                                                   Nombre de NaN    NaN (%)  \\\n",
       "Year                                                           0        0.0   \n",
       "Country                                                        0        0.0   \n",
       "Granularity                                                    0        0.0   \n",
       "Population using at least basic drinking-water ...          1061  10.127911   \n",
       "Population using safely managed drinking-water ...          7190  68.633066   \n",
       "\n",
       "                                                   Nombre de valeurs uniques  \\\n",
       "Year                                                                      18   \n",
       "Country                                                                  194   \n",
       "Granularity                                                                3   \n",
       "Population using at least basic drinking-water ...                      7704   \n",
       "Population using safely managed drinking-water ...                      2877   \n",
       "\n",
       "                                                   Valeurs uniques (%)  \n",
       "Year                                                          0.171821  \n",
       "Country                                                       1.851852  \n",
       "Granularity                                                   0.028637  \n",
       "Population using at least basic drinking-water ...           73.539519  \n",
       "Population using safely managed drinking-water ...           27.462772  "
      ]
     },
     "execution_count": 40,
     "metadata": {},
     "output_type": "execute_result"
    }
   ],
   "source": [
    "# La fonction est visible dans le fichier mylib\n",
    "exploration2(water)"
   ]
  },
  {
   "cell_type": "code",
   "execution_count": 41,
   "id": "c06c84ca-0d5b-4fd3-9464-e8026ad55654",
   "metadata": {
    "canvas": {
     "comments": [],
     "componentType": "CodeCell",
     "copiedOriginId": null,
     "diskcache": false,
     "headerColor": "inherit",
     "id": "bc05cc31-9b30-4877-91a9-b473fc19a575",
     "isComponent": false,
     "name": "",
     "parents": []
    }
   },
   "outputs": [
    {
     "name": "stdout",
     "output_type": "stream",
     "text": [
      "\n",
      "---------------------------------------\n",
      "Nombre de lignes et de colonnes (shape)\n",
      "--------------------------------------- \n",
      "\n",
      "(10476, 5) \n",
      "\n",
      "--------------------------------------\n",
      "Affichage des NaN (isna().any(axis=1))\n",
      "-------------------------------------- \n",
      "\n",
      "       Year      Country Granularity  \\\n",
      "0      2000  Afghanistan       Rural   \n",
      "1      2000  Afghanistan       Total   \n",
      "2      2000  Afghanistan       Urban   \n",
      "3      2000      Albania       Rural   \n",
      "5      2000      Albania       Urban   \n",
      "...     ...          ...         ...   \n",
      "10470  2017       Zambia       Rural   \n",
      "10471  2017       Zambia       Total   \n",
      "10473  2017     Zimbabwe       Rural   \n",
      "10474  2017     Zimbabwe       Total   \n",
      "10475  2017     Zimbabwe       Urban   \n",
      "\n",
      "       Population using at least basic drinking-water services (%)  \\\n",
      "0                                               21.61913             \n",
      "1                                               27.77190             \n",
      "2                                               49.48745             \n",
      "3                                               81.78472             \n",
      "5                                               96.35529             \n",
      "...                                                  ...             \n",
      "10470                                           41.95206             \n",
      "10471                                           59.96376             \n",
      "10473                                           49.80476             \n",
      "10474                                           64.05123             \n",
      "10475                                           93.99767             \n",
      "\n",
      "       Population using safely managed drinking-water services (%)  \n",
      "0                                                    NaN            \n",
      "1                                                    NaN            \n",
      "2                                                    NaN            \n",
      "3                                                    NaN            \n",
      "5                                                    NaN            \n",
      "...                                                  ...            \n",
      "10470                                                NaN            \n",
      "10471                                                NaN            \n",
      "10473                                                NaN            \n",
      "10474                                                NaN            \n",
      "10475                                                NaN            \n",
      "\n",
      "[7190 rows x 5 columns] \n",
      "\n",
      "---------------------------------------\n",
      "Nombre de doublons (duplicated().sum())\n",
      "--------------------------------------- \n",
      "\n",
      "0 \n",
      "\n",
      "-----------------------------------------------------\n",
      "Affichage des doublons (df[df.duplicated()].head(10))\n",
      "----------------------------------------------------- \n",
      "\n",
      "Empty DataFrame\n",
      "Columns: [Year, Country, Granularity, Population using at least basic drinking-water services (%), Population using safely managed drinking-water services (%)]\n",
      "Index: [] \n",
      "\n"
     ]
    }
   ],
   "source": [
    "# La fonction est visible dans le fichier mylib\n",
    "exploration3(water)"
   ]
  },
  {
   "cell_type": "code",
   "execution_count": 42,
   "id": "d4358fb9-d550-4897-bc19-76b5c4701c6a",
   "metadata": {
    "canvas": {
     "comments": [],
     "componentType": "CodeCell",
     "copiedOriginId": null,
     "diskcache": false,
     "headerColor": "inherit",
     "id": "d705aa03-ecf0-42cd-8ce9-c69d18142fa5",
     "isComponent": false,
     "name": "",
     "parents": []
    }
   },
   "outputs": [
    {
     "data": {
      "text/html": [
       "<div>\n",
       "<style scoped>\n",
       "    .dataframe tbody tr th:only-of-type {\n",
       "        vertical-align: middle;\n",
       "    }\n",
       "\n",
       "    .dataframe tbody tr th {\n",
       "        vertical-align: top;\n",
       "    }\n",
       "\n",
       "    .dataframe thead th {\n",
       "        text-align: right;\n",
       "    }\n",
       "</style>\n",
       "<table border=\"1\" class=\"dataframe\">\n",
       "  <thead>\n",
       "    <tr style=\"text-align: right;\">\n",
       "      <th></th>\n",
       "      <th>count</th>\n",
       "      <th>unique</th>\n",
       "      <th>top</th>\n",
       "      <th>freq</th>\n",
       "      <th>mean</th>\n",
       "      <th>std</th>\n",
       "      <th>min</th>\n",
       "      <th>25%</th>\n",
       "      <th>50%</th>\n",
       "      <th>75%</th>\n",
       "      <th>max</th>\n",
       "    </tr>\n",
       "  </thead>\n",
       "  <tbody>\n",
       "    <tr>\n",
       "      <th>Year</th>\n",
       "      <td>10476.0</td>\n",
       "      <td>NaN</td>\n",
       "      <td>NaN</td>\n",
       "      <td>NaN</td>\n",
       "      <td>2008.5</td>\n",
       "      <td>5.188375</td>\n",
       "      <td>2000.0</td>\n",
       "      <td>2004.0</td>\n",
       "      <td>2008.5</td>\n",
       "      <td>2013.0</td>\n",
       "      <td>2017.0</td>\n",
       "    </tr>\n",
       "    <tr>\n",
       "      <th>Country</th>\n",
       "      <td>10476</td>\n",
       "      <td>194</td>\n",
       "      <td>Afghanistan</td>\n",
       "      <td>54</td>\n",
       "      <td>NaN</td>\n",
       "      <td>NaN</td>\n",
       "      <td>NaN</td>\n",
       "      <td>NaN</td>\n",
       "      <td>NaN</td>\n",
       "      <td>NaN</td>\n",
       "      <td>NaN</td>\n",
       "    </tr>\n",
       "    <tr>\n",
       "      <th>Granularity</th>\n",
       "      <td>10476</td>\n",
       "      <td>3</td>\n",
       "      <td>Rural</td>\n",
       "      <td>3492</td>\n",
       "      <td>NaN</td>\n",
       "      <td>NaN</td>\n",
       "      <td>NaN</td>\n",
       "      <td>NaN</td>\n",
       "      <td>NaN</td>\n",
       "      <td>NaN</td>\n",
       "      <td>NaN</td>\n",
       "    </tr>\n",
       "    <tr>\n",
       "      <th>Population using at least basic drinking-water services (%)</th>\n",
       "      <td>9415.0</td>\n",
       "      <td>NaN</td>\n",
       "      <td>NaN</td>\n",
       "      <td>NaN</td>\n",
       "      <td>83.96212</td>\n",
       "      <td>19.968269</td>\n",
       "      <td>4.08262</td>\n",
       "      <td>75.928395</td>\n",
       "      <td>93.1154</td>\n",
       "      <td>98.95424</td>\n",
       "      <td>100.00001</td>\n",
       "    </tr>\n",
       "    <tr>\n",
       "      <th>Population using safely managed drinking-water services (%)</th>\n",
       "      <td>3286.0</td>\n",
       "      <td>NaN</td>\n",
       "      <td>NaN</td>\n",
       "      <td>NaN</td>\n",
       "      <td>66.070856</td>\n",
       "      <td>30.383942</td>\n",
       "      <td>0.0</td>\n",
       "      <td>41.895583</td>\n",
       "      <td>73.966655</td>\n",
       "      <td>94.77664</td>\n",
       "      <td>100.0</td>\n",
       "    </tr>\n",
       "  </tbody>\n",
       "</table>\n",
       "</div>"
      ],
      "text/plain": [
       "                                                      count unique  \\\n",
       "Year                                                10476.0    NaN   \n",
       "Country                                               10476    194   \n",
       "Granularity                                           10476      3   \n",
       "Population using at least basic drinking-water ...   9415.0    NaN   \n",
       "Population using safely managed drinking-water ...   3286.0    NaN   \n",
       "\n",
       "                                                            top  freq  \\\n",
       "Year                                                        NaN   NaN   \n",
       "Country                                             Afghanistan    54   \n",
       "Granularity                                               Rural  3492   \n",
       "Population using at least basic drinking-water ...          NaN   NaN   \n",
       "Population using safely managed drinking-water ...          NaN   NaN   \n",
       "\n",
       "                                                         mean        std  \\\n",
       "Year                                                   2008.5   5.188375   \n",
       "Country                                                   NaN        NaN   \n",
       "Granularity                                               NaN        NaN   \n",
       "Population using at least basic drinking-water ...   83.96212  19.968269   \n",
       "Population using safely managed drinking-water ...  66.070856  30.383942   \n",
       "\n",
       "                                                        min        25%  \\\n",
       "Year                                                 2000.0     2004.0   \n",
       "Country                                                 NaN        NaN   \n",
       "Granularity                                             NaN        NaN   \n",
       "Population using at least basic drinking-water ...  4.08262  75.928395   \n",
       "Population using safely managed drinking-water ...      0.0  41.895583   \n",
       "\n",
       "                                                          50%       75%  \\\n",
       "Year                                                   2008.5    2013.0   \n",
       "Country                                                   NaN       NaN   \n",
       "Granularity                                               NaN       NaN   \n",
       "Population using at least basic drinking-water ...    93.1154  98.95424   \n",
       "Population using safely managed drinking-water ...  73.966655  94.77664   \n",
       "\n",
       "                                                          max  \n",
       "Year                                                   2017.0  \n",
       "Country                                                   NaN  \n",
       "Granularity                                               NaN  \n",
       "Population using at least basic drinking-water ...  100.00001  \n",
       "Population using safely managed drinking-water ...      100.0  "
      ]
     },
     "execution_count": 42,
     "metadata": {},
     "output_type": "execute_result"
    }
   ],
   "source": [
    "# La fonction est visible dans le fichier mylib\n",
    "exploration4(water)"
   ]
  },
  {
   "cell_type": "code",
   "execution_count": 43,
   "id": "c209ee16",
   "metadata": {
    "canvas": {
     "comments": [],
     "componentType": "CodeCell",
     "copiedOriginId": null,
     "diskcache": false,
     "headerColor": "none",
     "id": "9a32ba07-75ab-4c4e-9803-8ebf78aeb0f4",
     "isComponent": false,
     "name": "",
     "parents": []
    }
   },
   "outputs": [],
   "source": [
    "# Renommage de colonne\n",
    "water.rename(columns={'Granularity': 'Granularity water service'}, inplace=True)"
   ]
  },
  {
   "cell_type": "code",
   "execution_count": 44,
   "id": "bf316203-8aab-426e-a071-4216da468334",
   "metadata": {
    "canvas": {
     "comments": [],
     "componentType": "CodeCell",
     "copiedOriginId": null,
     "diskcache": false,
     "headerColor": "inherit",
     "id": "b2e71463-9908-4ed6-8191-8aa659514d9b",
     "isComponent": false,
     "name": "",
     "parents": []
    }
   },
   "outputs": [
    {
     "data": {
      "text/html": [
       "<div>\n",
       "<style scoped>\n",
       "    .dataframe tbody tr th:only-of-type {\n",
       "        vertical-align: middle;\n",
       "    }\n",
       "\n",
       "    .dataframe tbody tr th {\n",
       "        vertical-align: top;\n",
       "    }\n",
       "\n",
       "    .dataframe thead th {\n",
       "        text-align: right;\n",
       "    }\n",
       "</style>\n",
       "<table border=\"1\" class=\"dataframe\">\n",
       "  <thead>\n",
       "    <tr style=\"text-align: right;\">\n",
       "      <th></th>\n",
       "      <th>Year</th>\n",
       "      <th>Country</th>\n",
       "      <th>Granularity water service</th>\n",
       "      <th>Population using at least basic drinking-water services (%)</th>\n",
       "      <th>Population using safely managed drinking-water services (%)</th>\n",
       "    </tr>\n",
       "  </thead>\n",
       "  <tbody>\n",
       "    <tr>\n",
       "      <th>2880</th>\n",
       "      <td>2004</td>\n",
       "      <td>United Republic of Tanzania</td>\n",
       "      <td>Rural</td>\n",
       "      <td>21.87435</td>\n",
       "      <td>NaN</td>\n",
       "    </tr>\n",
       "  </tbody>\n",
       "</table>\n",
       "</div>"
      ],
      "text/plain": [
       "      Year                      Country Granularity water service  \\\n",
       "2880  2004  United Republic of Tanzania                     Rural   \n",
       "\n",
       "      Population using at least basic drinking-water services (%)  \\\n",
       "2880                                           21.87435             \n",
       "\n",
       "      Population using safely managed drinking-water services (%)  \n",
       "2880                                                NaN            "
      ]
     },
     "execution_count": 44,
     "metadata": {},
     "output_type": "execute_result"
    }
   ],
   "source": [
    "water.sample()"
   ]
  },
  {
   "cell_type": "markdown",
   "id": "936c294d-2f72-4b9d-8c5f-64101655a582",
   "metadata": {
    "canvas": {
     "comments": [],
     "componentType": "CodeCell",
     "copiedOriginId": null,
     "diskcache": false,
     "headerColor": "inherit",
     "id": "4c12d0a7-0b91-4292-87f4-b66bf1be5d86",
     "isComponent": false,
     "name": "",
     "parents": []
    }
   },
   "source": [
    "## Vérifions l'exactitude du nom des pays"
   ]
  },
  {
   "cell_type": "code",
   "execution_count": 45,
   "id": "f6cc2fa4-1737-4af0-a953-04bdcbd329ae",
   "metadata": {
    "canvas": {
     "comments": [],
     "componentType": "CodeCell",
     "copiedOriginId": "ac1d65a1-fb55-467a-b55d-36d338359d94",
     "diskcache": false,
     "headerColor": "inherit",
     "id": "110cf0ca-1df4-45ff-a976-742e84afb5af",
     "isComponent": false,
     "name": "",
     "parents": []
    }
   },
   "outputs": [
    {
     "name": "stdout",
     "output_type": "stream",
     "text": [
      "\u001b[1mPays communs aux deux DataFrames :\n",
      "Nombre : 194 \u001b[0;0m\n",
      "{'Belarus', 'Kyrgyzstan', 'France', 'Republic of North Macedonia', 'Fiji', 'Honduras', 'Austria', 'Portugal', 'Liberia', 'Armenia', 'Estonia', 'Georgia', 'Russian Federation', 'Malawi', 'Sri Lanka', 'Syrian Arab Republic', 'Yemen', 'Italy', 'Albania', 'China', 'United States of America', 'San Marino', 'Libya', 'Equatorial Guinea', 'Philippines', 'Latvia', 'Niue', 'Qatar', 'Samoa', 'Zambia', 'Cyprus', 'Lithuania', 'Lebanon', 'Iceland', 'Viet Nam', 'Indonesia', 'Thailand', 'Central African Republic', 'Djibouti', 'Senegal', 'Spain', 'Solomon Islands', 'Denmark', 'Ecuador', 'Greece', 'Namibia', 'Monaco', 'Montenegro', 'Bulgaria', \"Democratic People's Republic of Korea\", 'Lesotho', 'Nigeria', 'Sierra Leone', 'Saint Lucia', 'Iraq', 'Cambodia', 'Mexico', 'Peru', 'Bahrain', 'Czechia', 'Pakistan', 'Suriname', 'Panama', 'Ukraine', 'Haiti', 'Guinea-Bissau', 'Oman', 'Nepal', 'Republic of Moldova', 'Comoros', 'Somalia', 'Japan', 'United Republic of Tanzania', 'Ireland', 'Eswatini', 'Dominican Republic', 'Uzbekistan', 'Guatemala', 'Mongolia', 'Eritrea', 'Micronesia (Federated States of)', 'India', 'Congo', 'Kiribati', 'Malaysia', 'Democratic Republic of the Congo', \"Côte d'Ivoire\", 'Ethiopia', 'Morocco', 'Canada', 'Cuba', 'Bolivia (Plurinational State of)', 'Algeria', 'Uruguay', 'Paraguay', 'New Zealand', 'Benin', 'Malta', 'Azerbaijan', 'Iran (Islamic Republic of)', 'Bahamas', 'Brazil', 'Kazakhstan', 'Mozambique', 'Niger', 'Israel', 'Trinidad and Tobago', 'Belgium', 'Croatia', 'Timor-Leste', 'Burundi', 'Finland', 'Afghanistan', 'Australia', 'Botswana', 'Guyana', 'Vanuatu', 'Cameroon', 'Jamaica', 'Guinea', 'Turkey', 'Sao Tome and Principe', 'Mali', 'Uganda', 'Myanmar', 'Saint Kitts and Nevis', 'Netherlands', 'Sweden', 'Chile', 'Argentina', 'Tonga', 'Tunisia', 'Madagascar', 'Mauritania', 'Zimbabwe', 'Barbados', 'Colombia', 'Kenya', 'Nauru', 'Andorra', 'Belize', 'Saint Vincent and the Grenadines', 'Sudan', 'Tajikistan', 'Bosnia and Herzegovina', 'Maldives', 'Tuvalu', 'Antigua and Barbuda', 'Germany', 'Egypt', 'Bangladesh', 'Jordan', 'Grenada', 'Rwanda', 'Slovakia', 'Burkina Faso', 'Palau', 'United Kingdom of Great Britain and Northern Ireland', 'Togo', 'Seychelles', 'Bhutan', \"Lao People's Democratic Republic\", 'Chad', 'Republic of Korea', 'United Arab Emirates', 'Norway', 'Cook Islands', 'Saudi Arabia', 'Slovenia', 'Romania', 'Singapore', 'Kuwait', 'Mauritius', 'Dominica', 'Luxembourg', 'Papua New Guinea', 'Serbia', 'Cabo Verde', 'Venezuela (Bolivarian Republic of)', 'Costa Rica', 'Brunei Darussalam', 'Gabon', 'Hungary', 'Poland', 'Nicaragua', 'Turkmenistan', 'South Africa', 'Switzerland', 'El Salvador', 'Marshall Islands', 'South Sudan', 'Gambia', 'Ghana', 'Angola'}\n",
      "\u001b[1m\n",
      "Pays uniquement dans le DataFrame water :\n",
      "Nombre : 0 \u001b[0;0m\n",
      "set()\n",
      "\u001b[1m\n",
      "Pays uniquement dans le DataFrame country :\n",
      "Nombre : 43 \u001b[0;0m\n",
      "{'Turks and Caicos Islands', 'Gibraltar', 'Hong Kong', 'Saint-Martin (French part)', 'United States Virgin Islands', 'Anguilla', 'American Samoa', 'Aruba', 'Puerto Rico', 'Netherlands Antilles (former)', 'Sint Maarten  (Dutch part)', 'Cayman Islands', 'Guadeloupe', 'Northern Mariana Islands', 'Tokelau', 'Faroe Islands', 'Saint Pierre and Miquelon', 'Wallis and Futuna Islands', 'Bonaire, Sint Eustatius and Saba', 'Saint Helena, Ascension and Tristan da Cunha', 'Sudan (former)', 'Isle of Man', 'Mayotte', 'Martinique', 'Guam', 'Taiwan', 'Saint Barthélemy', 'Curaçao', 'Réunion', 'Channel Islands', 'Falkland Islands (Malvinas)', 'Liechtenstein', 'Macao', 'Montserrat', 'French Polynesia', 'New Caledonia', 'Greenland', 'British Virgin Islands', 'Bermuda', 'Palestine', 'Holy See', 'Western Sahara', 'French Guyana'}\n"
     ]
    }
   ],
   "source": [
    "water_countries = water['Country'].unique()\n",
    "country_countries = country['Country'].unique()\n",
    "\n",
    "# Compare les valeurs uniques des deux DataFrames\n",
    "common_countries = set(water_countries) & set(country_countries)\n",
    "unique_countries_in_water = set(water_countries) - set(country_countries)\n",
    "unique_countries_in_country = set(country_countries) - set(water_countries)\n",
    "\n",
    "# Affiche les résultats\n",
    "print(bold + \"Pays communs aux deux DataFrames :\")\n",
    "print(\"Nombre :\", len(common_countries), end)\n",
    "print(common_countries)\n",
    "print(bold + \"\\nPays uniquement dans le DataFrame water :\")\n",
    "print(\"Nombre :\", len(unique_countries_in_water), end)\n",
    "print(unique_countries_in_water)\n",
    "print(bold + \"\\nPays uniquement dans le DataFrame country :\")\n",
    "print(\"Nombre :\", len(unique_countries_in_country), end)\n",
    "print(unique_countries_in_country)"
   ]
  },
  {
   "cell_type": "markdown",
   "id": "f198ba0a-8c97-4825-8080-0a6ef203b0fd",
   "metadata": {
    "canvas": {
     "comments": [],
     "componentType": "CodeCell",
     "copiedOriginId": "45458931-57c7-483f-9109-acfa95fe7298",
     "diskcache": false,
     "headerColor": "inherit",
     "id": "a48315bf-cec0-4879-b015-5aef1544d859",
     "isComponent": false,
     "name": "",
     "parents": []
    }
   },
   "source": [
    "**=> Pas de corrections à faire, pour la jointure il est important que tous les pays du DataFrame 'water' soient présents dans le DataFrame 'country'**"
   ]
  },
  {
   "cell_type": "code",
   "execution_count": 46,
   "id": "addaec43-894c-4308-9cf5-5faa7f3a1a76",
   "metadata": {
    "canvas": {
     "comments": [],
     "componentType": "CodeCell",
     "copiedOriginId": "daf840df-a99b-4161-93c9-5edc35cd1611",
     "diskcache": false,
     "headerColor": "inherit",
     "id": "5b3c859b-0bee-44b7-9f16-4eb383ce8c89",
     "isComponent": false,
     "name": "",
     "parents": []
    }
   },
   "outputs": [
    {
     "name": "stdout",
     "output_type": "stream",
     "text": [
      "\u001b[1mCorrespondances entre les noms de pays (excluant les identiques) :\u001b[0;0m\n",
      "Pop : Democratic Republic of the Congo, Country : Congo\n",
      "Pop : Guinea, Country : Equatorial Guinea\n",
      "Pop : Guinea-Bissau, Country : Guinea\n",
      "Pop : Papua New Guinea, Country : Guinea\n",
      "Pop : Republic of Korea, Country : Democratic People's Republic of Korea\n",
      "Pop : Sudan, Country : South Sudan\n",
      "Pop : United Kingdom of Great Britain and Northern Ireland, Country : Ireland\n"
     ]
    }
   ],
   "source": [
    "# Obtiens les valeurs uniques de la colonne 'Country' dans le premier DataFrame (pop)\n",
    "water_countries = water['Country'].unique()\n",
    "\n",
    "# Obtiens les valeurs uniques de la colonne 'Country' dans le deuxième DataFrame (country)\n",
    "country_countries = country['Country'].unique()\n",
    "\n",
    "# Définit un seuil de correspondance (score minimal pour considérer les pays comme correspondants)\n",
    "threshold = 80\n",
    "\n",
    "# Compare les noms de pays entre les deux DataFrames\n",
    "matching_countries = []\n",
    "for country_water in water_countries:\n",
    "    best_match = process.extractOne(country_water, country_countries, scorer=fuzz.token_set_ratio)\n",
    "    if best_match[1] >= threshold and country_water != best_match[0]:\n",
    "        matching_countries.append((country_water, best_match[0]))\n",
    "\n",
    "# Affiche les résultats\n",
    "print(bold + \"Correspondances entre les noms de pays (excluant les identiques) :\" + end)\n",
    "for country_pair in matching_countries:\n",
    "    print(\"Pop : {}, Country : {}\".format(country_pair[0], country_pair[1]))"
   ]
  },
  {
   "cell_type": "markdown",
   "id": "7db7f0ca-9734-40b3-8cc3-544289bcb05b",
   "metadata": {
    "canvas": {
     "comments": [],
     "componentType": "CodeCell",
     "copiedOriginId": "45458931-57c7-483f-9109-acfa95fe7298",
     "diskcache": false,
     "headerColor": "inherit",
     "id": "091c0072-6d68-4d57-868b-aedc2ab044d3",
     "isComponent": false,
     "name": "",
     "parents": []
    }
   },
   "source": [
    "**=> Il s'agit bien de pays différents, il n'y a pas de correction à faire**"
   ]
  },
  {
   "cell_type": "markdown",
   "id": "63d92903-c0b6-4a88-b3b5-10b5d6fbcbb9",
   "metadata": {
    "canvas": {
     "comments": [],
     "componentType": "CodeCell",
     "copiedOriginId": null,
     "diskcache": false,
     "headerColor": "inherit",
     "id": "1e2f2211-dfd0-42bf-9153-ebe54a851d37",
     "isComponent": false,
     "name": "",
     "parents": []
    }
   },
   "source": [
    "# **Mortality due to water**"
   ]
  },
  {
   "cell_type": "markdown",
   "id": "b7310107",
   "metadata": {
    "canvas": {
     "comments": [],
     "componentType": "CodeCell",
     "copiedOriginId": null,
     "diskcache": false,
     "headerColor": "none",
     "id": "32c9972a-7c61-4786-9bc3-e52aeda97003",
     "isComponent": false,
     "name": "",
     "parents": []
    }
   },
   "source": [
    "## Observations uniques"
   ]
  },
  {
   "cell_type": "code",
   "execution_count": 47,
   "id": "8268c719",
   "metadata": {
    "canvas": {
     "comments": [],
     "componentType": "CodeCell",
     "copiedOriginId": null,
     "diskcache": false,
     "headerColor": "none",
     "id": "e5b96175-cbdf-4ebd-a2a4-710ff1b2cb05",
     "isComponent": false,
     "name": "",
     "parents": []
    }
   },
   "outputs": [
    {
     "name": "stdout",
     "output_type": "stream",
     "text": [
      "\u001b[1mYear\u001b[0;0m \n",
      " [2016] \n",
      "\n",
      "\u001b[1mCountry\u001b[0;0m \n",
      " ['Afghanistan' 'Albania' 'Algeria' 'Angola' 'Antigua and Barbuda'\n",
      " 'Argentina' 'Armenia' 'Australia' 'Austria' 'Azerbaijan' 'Bahamas'\n",
      " 'Bahrain' 'Bangladesh' 'Barbados' 'Belarus' 'Belgium' 'Belize' 'Benin'\n",
      " 'Bhutan' 'Bolivia (Plurinational State of)' 'Bosnia and Herzegovina'\n",
      " 'Botswana' 'Brazil' 'Brunei Darussalam' 'Bulgaria'] \n",
      "\n",
      "\u001b[1mGranularity\u001b[0;0m \n",
      " ['Female' 'Male' 'Total'] \n",
      "\n",
      "\u001b[1mMortality rate attributed to exposure to unsafe WASH services\u001b[0;0m \n",
      " [15.31193 12.61297 13.92067  0.12552  0.2065   0.16641  2.1989   1.72837\n",
      "  1.86723 45.15024 52.62506 48.81467  0.10419  0.12469  0.11403  0.40251\n",
      "  0.32166  0.36294  0.16495  0.19032  0.17688  0.11958  0.07103  0.09539\n",
      "  0.15099] \n",
      "\n",
      "\u001b[1mWASH deaths\u001b[0;0m \n",
      " [         nan 4.824353e+03 4.869750e+00 7.582100e+02 1.406520e+04\n",
      " 1.151300e-01 1.591411e+02 5.173360e+00 2.301346e+01 1.078108e+01\n",
      " 1.089128e+02 2.681100e-01 5.643500e-01 1.946403e+04 4.691500e-01\n",
      " 4.896670e+00 3.200647e+01 3.541880e+00 6.494034e+03 3.150916e+01\n",
      " 6.072645e+02 2.768530e+00 2.647807e+02 2.174623e+03 1.912800e-01] \n",
      "\n"
     ]
    }
   ],
   "source": [
    "for i in mortal.columns:\n",
    "    print(bold + i + end, \"\\n\", mortal[i].unique()[0:25], \"\\n\")"
   ]
  },
  {
   "cell_type": "markdown",
   "id": "8255177f",
   "metadata": {
    "canvas": {
     "comments": [],
     "componentType": "CodeCell",
     "copiedOriginId": null,
     "diskcache": false,
     "headerColor": "none",
     "id": "6143e852-91f8-4a71-94b0-c13f6dbe1132",
     "isComponent": false,
     "name": "",
     "parents": []
    }
   },
   "source": [
    "## Exploration"
   ]
  },
  {
   "cell_type": "code",
   "execution_count": 48,
   "id": "db573f45-9e19-4f1c-9e4b-8b880c035d7d",
   "metadata": {
    "canvas": {
     "comments": [],
     "componentType": "CodeCell",
     "copiedOriginId": null,
     "diskcache": false,
     "headerColor": "inherit",
     "id": "89cbb9cd-00d0-45a2-99eb-806f5d286f3d",
     "isComponent": false,
     "name": "",
     "parents": []
    }
   },
   "outputs": [
    {
     "data": {
      "text/html": [
       "<style type=\"text/css\">\n",
       "</style>\n",
       "<table id=\"T_8154d\" style='display:grid'>\n",
       "  <caption>__________ Head __________</caption>\n",
       "  <thead>\n",
       "    <tr>\n",
       "      <th class=\"blank level0\" >&nbsp;</th>\n",
       "      <th id=\"T_8154d_level0_col0\" class=\"col_heading level0 col0\" >Year</th>\n",
       "      <th id=\"T_8154d_level0_col1\" class=\"col_heading level0 col1\" >Country</th>\n",
       "      <th id=\"T_8154d_level0_col2\" class=\"col_heading level0 col2\" >Granularity</th>\n",
       "      <th id=\"T_8154d_level0_col3\" class=\"col_heading level0 col3\" >Mortality rate attributed to exposure to unsafe WASH services</th>\n",
       "      <th id=\"T_8154d_level0_col4\" class=\"col_heading level0 col4\" >WASH deaths</th>\n",
       "    </tr>\n",
       "  </thead>\n",
       "  <tbody>\n",
       "    <tr>\n",
       "      <th id=\"T_8154d_level0_row0\" class=\"row_heading level0 row0\" >0</th>\n",
       "      <td id=\"T_8154d_row0_col0\" class=\"data row0 col0\" >2016</td>\n",
       "      <td id=\"T_8154d_row0_col1\" class=\"data row0 col1\" >Afghanistan</td>\n",
       "      <td id=\"T_8154d_row0_col2\" class=\"data row0 col2\" >Female</td>\n",
       "      <td id=\"T_8154d_row0_col3\" class=\"data row0 col3\" >15.311930</td>\n",
       "      <td id=\"T_8154d_row0_col4\" class=\"data row0 col4\" >nan</td>\n",
       "    </tr>\n",
       "    <tr>\n",
       "      <th id=\"T_8154d_level0_row1\" class=\"row_heading level0 row1\" >1</th>\n",
       "      <td id=\"T_8154d_row1_col0\" class=\"data row1 col0\" >2016</td>\n",
       "      <td id=\"T_8154d_row1_col1\" class=\"data row1 col1\" >Afghanistan</td>\n",
       "      <td id=\"T_8154d_row1_col2\" class=\"data row1 col2\" >Male</td>\n",
       "      <td id=\"T_8154d_row1_col3\" class=\"data row1 col3\" >12.612970</td>\n",
       "      <td id=\"T_8154d_row1_col4\" class=\"data row1 col4\" >nan</td>\n",
       "    </tr>\n",
       "    <tr>\n",
       "      <th id=\"T_8154d_level0_row2\" class=\"row_heading level0 row2\" >2</th>\n",
       "      <td id=\"T_8154d_row2_col0\" class=\"data row2 col0\" >2016</td>\n",
       "      <td id=\"T_8154d_row2_col1\" class=\"data row2 col1\" >Afghanistan</td>\n",
       "      <td id=\"T_8154d_row2_col2\" class=\"data row2 col2\" >Total</td>\n",
       "      <td id=\"T_8154d_row2_col3\" class=\"data row2 col3\" >13.920670</td>\n",
       "      <td id=\"T_8154d_row2_col4\" class=\"data row2 col4\" >4824.353000</td>\n",
       "    </tr>\n",
       "  </tbody>\n",
       "</table>\n",
       " <style type=\"text/css\">\n",
       "</style>\n",
       "<table id=\"T_ca585\" style='display:grid'>\n",
       "  <caption>__________ Tail __________</caption>\n",
       "  <thead>\n",
       "    <tr>\n",
       "      <th class=\"blank level0\" >&nbsp;</th>\n",
       "      <th id=\"T_ca585_level0_col0\" class=\"col_heading level0 col0\" >Year</th>\n",
       "      <th id=\"T_ca585_level0_col1\" class=\"col_heading level0 col1\" >Country</th>\n",
       "      <th id=\"T_ca585_level0_col2\" class=\"col_heading level0 col2\" >Granularity</th>\n",
       "      <th id=\"T_ca585_level0_col3\" class=\"col_heading level0 col3\" >Mortality rate attributed to exposure to unsafe WASH services</th>\n",
       "      <th id=\"T_ca585_level0_col4\" class=\"col_heading level0 col4\" >WASH deaths</th>\n",
       "    </tr>\n",
       "  </thead>\n",
       "  <tbody>\n",
       "    <tr>\n",
       "      <th id=\"T_ca585_level0_row0\" class=\"row_heading level0 row0\" >546</th>\n",
       "      <td id=\"T_ca585_row0_col0\" class=\"data row0 col0\" >2016</td>\n",
       "      <td id=\"T_ca585_row0_col1\" class=\"data row0 col1\" >Zimbabwe</td>\n",
       "      <td id=\"T_ca585_row0_col2\" class=\"data row0 col2\" >Female</td>\n",
       "      <td id=\"T_ca585_row0_col3\" class=\"data row0 col3\" >22.163880</td>\n",
       "      <td id=\"T_ca585_row0_col4\" class=\"data row0 col4\" >nan</td>\n",
       "    </tr>\n",
       "    <tr>\n",
       "      <th id=\"T_ca585_level0_row1\" class=\"row_heading level0 row1\" >547</th>\n",
       "      <td id=\"T_ca585_row1_col0\" class=\"data row1 col0\" >2016</td>\n",
       "      <td id=\"T_ca585_row1_col1\" class=\"data row1 col1\" >Zimbabwe</td>\n",
       "      <td id=\"T_ca585_row1_col2\" class=\"data row1 col2\" >Male</td>\n",
       "      <td id=\"T_ca585_row1_col3\" class=\"data row1 col3\" >27.066880</td>\n",
       "      <td id=\"T_ca585_row1_col4\" class=\"data row1 col4\" >nan</td>\n",
       "    </tr>\n",
       "    <tr>\n",
       "      <th id=\"T_ca585_level0_row2\" class=\"row_heading level0 row2\" >548</th>\n",
       "      <td id=\"T_ca585_row2_col0\" class=\"data row2 col0\" >2016</td>\n",
       "      <td id=\"T_ca585_row2_col1\" class=\"data row2 col1\" >Zimbabwe</td>\n",
       "      <td id=\"T_ca585_row2_col2\" class=\"data row2 col2\" >Total</td>\n",
       "      <td id=\"T_ca585_row2_col3\" class=\"data row2 col3\" >24.550740</td>\n",
       "      <td id=\"T_ca585_row2_col4\" class=\"data row2 col4\" >3965.033000</td>\n",
       "    </tr>\n",
       "  </tbody>\n",
       "</table>\n",
       " <style type=\"text/css\">\n",
       "</style>\n",
       "<table id=\"T_6d820\" style='display:grid'>\n",
       "  <caption>__________ Sample __________</caption>\n",
       "  <thead>\n",
       "    <tr>\n",
       "      <th class=\"blank level0\" >&nbsp;</th>\n",
       "      <th id=\"T_6d820_level0_col0\" class=\"col_heading level0 col0\" >Year</th>\n",
       "      <th id=\"T_6d820_level0_col1\" class=\"col_heading level0 col1\" >Country</th>\n",
       "      <th id=\"T_6d820_level0_col2\" class=\"col_heading level0 col2\" >Granularity</th>\n",
       "      <th id=\"T_6d820_level0_col3\" class=\"col_heading level0 col3\" >Mortality rate attributed to exposure to unsafe WASH services</th>\n",
       "      <th id=\"T_6d820_level0_col4\" class=\"col_heading level0 col4\" >WASH deaths</th>\n",
       "    </tr>\n",
       "  </thead>\n",
       "  <tbody>\n",
       "    <tr>\n",
       "      <th id=\"T_6d820_level0_row0\" class=\"row_heading level0 row0\" >462</th>\n",
       "      <td id=\"T_6d820_row0_col0\" class=\"data row0 col0\" >2016</td>\n",
       "      <td id=\"T_6d820_row0_col1\" class=\"data row0 col1\" >Sri Lanka</td>\n",
       "      <td id=\"T_6d820_row0_col2\" class=\"data row0 col2\" >Female</td>\n",
       "      <td id=\"T_6d820_row0_col3\" class=\"data row0 col3\" >1.199320</td>\n",
       "      <td id=\"T_6d820_row0_col4\" class=\"data row0 col4\" >nan</td>\n",
       "    </tr>\n",
       "    <tr>\n",
       "      <th id=\"T_6d820_level0_row1\" class=\"row_heading level0 row1\" >391</th>\n",
       "      <td id=\"T_6d820_row1_col0\" class=\"data row1 col0\" >2016</td>\n",
       "      <td id=\"T_6d820_row1_col1\" class=\"data row1 col1\" >Qatar</td>\n",
       "      <td id=\"T_6d820_row1_col2\" class=\"data row1 col2\" >Male</td>\n",
       "      <td id=\"T_6d820_row1_col3\" class=\"data row1 col3\" >0.006290</td>\n",
       "      <td id=\"T_6d820_row1_col4\" class=\"data row1 col4\" >nan</td>\n",
       "    </tr>\n",
       "    <tr>\n",
       "      <th id=\"T_6d820_level0_row2\" class=\"row_heading level0 row2\" >354</th>\n",
       "      <td id=\"T_6d820_row2_col0\" class=\"data row2 col0\" >2016</td>\n",
       "      <td id=\"T_6d820_row2_col1\" class=\"data row2 col1\" >Niger</td>\n",
       "      <td id=\"T_6d820_row2_col2\" class=\"data row2 col2\" >Female</td>\n",
       "      <td id=\"T_6d820_row2_col3\" class=\"data row2 col3\" >66.947400</td>\n",
       "      <td id=\"T_6d820_row2_col4\" class=\"data row2 col4\" >nan</td>\n",
       "    </tr>\n",
       "  </tbody>\n",
       "</table>\n"
      ]
     },
     "metadata": {},
     "output_type": "display_data"
    }
   ],
   "source": [
    "# La fonction est visible dans le fichier mylib\n",
    "exploration1(mortal)"
   ]
  },
  {
   "cell_type": "code",
   "execution_count": 49,
   "id": "e2e446ab-194c-427e-bf3c-79450afd2bf7",
   "metadata": {
    "canvas": {
     "comments": [],
     "componentType": "CodeCell",
     "copiedOriginId": null,
     "diskcache": false,
     "headerColor": "inherit",
     "id": "d83bc236-5774-437d-8e1b-e3f4ee912e98",
     "isComponent": false,
     "name": "",
     "parents": []
    }
   },
   "outputs": [
    {
     "data": {
      "text/html": [
       "<div>\n",
       "<style scoped>\n",
       "    .dataframe tbody tr th:only-of-type {\n",
       "        vertical-align: middle;\n",
       "    }\n",
       "\n",
       "    .dataframe tbody tr th {\n",
       "        vertical-align: top;\n",
       "    }\n",
       "\n",
       "    .dataframe thead th {\n",
       "        text-align: right;\n",
       "    }\n",
       "</style>\n",
       "<table border=\"1\" class=\"dataframe\">\n",
       "  <thead>\n",
       "    <tr style=\"text-align: right;\">\n",
       "      <th></th>\n",
       "      <th>Type des données</th>\n",
       "      <th>Nombre de valeurs totales</th>\n",
       "      <th>Nombre de NaN</th>\n",
       "      <th>NaN (%)</th>\n",
       "      <th>Nombre de valeurs uniques</th>\n",
       "      <th>Valeurs uniques (%)</th>\n",
       "    </tr>\n",
       "  </thead>\n",
       "  <tbody>\n",
       "    <tr>\n",
       "      <th>Year</th>\n",
       "      <td>int64</td>\n",
       "      <td>549</td>\n",
       "      <td>0</td>\n",
       "      <td>0.0</td>\n",
       "      <td>1</td>\n",
       "      <td>0.182149</td>\n",
       "    </tr>\n",
       "    <tr>\n",
       "      <th>Country</th>\n",
       "      <td>object</td>\n",
       "      <td>549</td>\n",
       "      <td>0</td>\n",
       "      <td>0.0</td>\n",
       "      <td>183</td>\n",
       "      <td>33.333333</td>\n",
       "    </tr>\n",
       "    <tr>\n",
       "      <th>Granularity</th>\n",
       "      <td>object</td>\n",
       "      <td>549</td>\n",
       "      <td>0</td>\n",
       "      <td>0.0</td>\n",
       "      <td>3</td>\n",
       "      <td>0.546448</td>\n",
       "    </tr>\n",
       "    <tr>\n",
       "      <th>Mortality rate attributed to exposure to unsafe WASH services</th>\n",
       "      <td>float64</td>\n",
       "      <td>549</td>\n",
       "      <td>0</td>\n",
       "      <td>0.0</td>\n",
       "      <td>548</td>\n",
       "      <td>99.817851</td>\n",
       "    </tr>\n",
       "    <tr>\n",
       "      <th>WASH deaths</th>\n",
       "      <td>float64</td>\n",
       "      <td>183</td>\n",
       "      <td>366</td>\n",
       "      <td>66.666667</td>\n",
       "      <td>183</td>\n",
       "      <td>33.333333</td>\n",
       "    </tr>\n",
       "  </tbody>\n",
       "</table>\n",
       "</div>"
      ],
      "text/plain": [
       "                                                   Type des données  \\\n",
       "Year                                                          int64   \n",
       "Country                                                      object   \n",
       "Granularity                                                  object   \n",
       "Mortality rate attributed to exposure to unsafe...          float64   \n",
       "WASH deaths                                                 float64   \n",
       "\n",
       "                                                   Nombre de valeurs totales  \\\n",
       "Year                                                                     549   \n",
       "Country                                                                  549   \n",
       "Granularity                                                              549   \n",
       "Mortality rate attributed to exposure to unsafe...                       549   \n",
       "WASH deaths                                                              183   \n",
       "\n",
       "                                                   Nombre de NaN    NaN (%)  \\\n",
       "Year                                                           0        0.0   \n",
       "Country                                                        0        0.0   \n",
       "Granularity                                                    0        0.0   \n",
       "Mortality rate attributed to exposure to unsafe...             0        0.0   \n",
       "WASH deaths                                                  366  66.666667   \n",
       "\n",
       "                                                   Nombre de valeurs uniques  \\\n",
       "Year                                                                       1   \n",
       "Country                                                                  183   \n",
       "Granularity                                                                3   \n",
       "Mortality rate attributed to exposure to unsafe...                       548   \n",
       "WASH deaths                                                              183   \n",
       "\n",
       "                                                   Valeurs uniques (%)  \n",
       "Year                                                          0.182149  \n",
       "Country                                                      33.333333  \n",
       "Granularity                                                   0.546448  \n",
       "Mortality rate attributed to exposure to unsafe...           99.817851  \n",
       "WASH deaths                                                  33.333333  "
      ]
     },
     "execution_count": 49,
     "metadata": {},
     "output_type": "execute_result"
    }
   ],
   "source": [
    "# La fonction est visible dans le fichier mylib\n",
    "exploration2(mortal)"
   ]
  },
  {
   "cell_type": "code",
   "execution_count": 50,
   "id": "fe972740-035a-4d3c-9e83-270b16f48f8f",
   "metadata": {
    "canvas": {
     "comments": [],
     "componentType": "CodeCell",
     "copiedOriginId": null,
     "diskcache": false,
     "headerColor": "inherit",
     "id": "45545cae-90b6-4463-b250-35def461db5b",
     "isComponent": false,
     "name": "",
     "parents": []
    }
   },
   "outputs": [
    {
     "name": "stdout",
     "output_type": "stream",
     "text": [
      "\n",
      "---------------------------------------\n",
      "Nombre de lignes et de colonnes (shape)\n",
      "--------------------------------------- \n",
      "\n",
      "(549, 5) \n",
      "\n",
      "--------------------------------------\n",
      "Affichage des NaN (isna().any(axis=1))\n",
      "-------------------------------------- \n",
      "\n",
      "     Year      Country Granularity  \\\n",
      "0    2016  Afghanistan      Female   \n",
      "1    2016  Afghanistan        Male   \n",
      "3    2016      Albania      Female   \n",
      "4    2016      Albania        Male   \n",
      "6    2016      Algeria      Female   \n",
      "..    ...          ...         ...   \n",
      "541  2016        Yemen        Male   \n",
      "543  2016       Zambia      Female   \n",
      "544  2016       Zambia        Male   \n",
      "546  2016     Zimbabwe      Female   \n",
      "547  2016     Zimbabwe        Male   \n",
      "\n",
      "     Mortality rate attributed to exposure to unsafe WASH services  \\\n",
      "0                                             15.31193               \n",
      "1                                             12.61297               \n",
      "3                                              0.12552               \n",
      "4                                              0.20650               \n",
      "6                                              2.19890               \n",
      "..                                                 ...               \n",
      "541                                            8.66892               \n",
      "543                                           33.23213               \n",
      "544                                           36.61913               \n",
      "546                                           22.16388               \n",
      "547                                           27.06688               \n",
      "\n",
      "     WASH deaths  \n",
      "0            NaN  \n",
      "1            NaN  \n",
      "3            NaN  \n",
      "4            NaN  \n",
      "6            NaN  \n",
      "..           ...  \n",
      "541          NaN  \n",
      "543          NaN  \n",
      "544          NaN  \n",
      "546          NaN  \n",
      "547          NaN  \n",
      "\n",
      "[366 rows x 5 columns] \n",
      "\n",
      "---------------------------------------\n",
      "Nombre de doublons (duplicated().sum())\n",
      "--------------------------------------- \n",
      "\n",
      "0 \n",
      "\n",
      "-----------------------------------------------------\n",
      "Affichage des doublons (df[df.duplicated()].head(10))\n",
      "----------------------------------------------------- \n",
      "\n",
      "Empty DataFrame\n",
      "Columns: [Year, Country, Granularity, Mortality rate attributed to exposure to unsafe WASH services, WASH deaths]\n",
      "Index: [] \n",
      "\n"
     ]
    }
   ],
   "source": [
    "# La fonction est visible dans le fichier mylib\n",
    "exploration3(mortal)"
   ]
  },
  {
   "cell_type": "code",
   "execution_count": 51,
   "id": "ce298127-d176-4c05-8b9f-732df7c23568",
   "metadata": {
    "canvas": {
     "comments": [],
     "componentType": "CodeCell",
     "copiedOriginId": null,
     "diskcache": false,
     "headerColor": "inherit",
     "id": "cbb81e62-674b-4e84-838f-2ff2c90f1e93",
     "isComponent": false,
     "name": "",
     "parents": []
    },
    "scrolled": true
   },
   "outputs": [
    {
     "data": {
      "text/html": [
       "<div>\n",
       "<style scoped>\n",
       "    .dataframe tbody tr th:only-of-type {\n",
       "        vertical-align: middle;\n",
       "    }\n",
       "\n",
       "    .dataframe tbody tr th {\n",
       "        vertical-align: top;\n",
       "    }\n",
       "\n",
       "    .dataframe thead th {\n",
       "        text-align: right;\n",
       "    }\n",
       "</style>\n",
       "<table border=\"1\" class=\"dataframe\">\n",
       "  <thead>\n",
       "    <tr style=\"text-align: right;\">\n",
       "      <th></th>\n",
       "      <th>count</th>\n",
       "      <th>unique</th>\n",
       "      <th>top</th>\n",
       "      <th>freq</th>\n",
       "      <th>mean</th>\n",
       "      <th>std</th>\n",
       "      <th>min</th>\n",
       "      <th>25%</th>\n",
       "      <th>50%</th>\n",
       "      <th>75%</th>\n",
       "      <th>max</th>\n",
       "    </tr>\n",
       "  </thead>\n",
       "  <tbody>\n",
       "    <tr>\n",
       "      <th>Year</th>\n",
       "      <td>549.0</td>\n",
       "      <td>NaN</td>\n",
       "      <td>NaN</td>\n",
       "      <td>NaN</td>\n",
       "      <td>2016.0</td>\n",
       "      <td>0.0</td>\n",
       "      <td>2016.0</td>\n",
       "      <td>2016.0</td>\n",
       "      <td>2016.0</td>\n",
       "      <td>2016.0</td>\n",
       "      <td>2016.0</td>\n",
       "    </tr>\n",
       "    <tr>\n",
       "      <th>Country</th>\n",
       "      <td>549</td>\n",
       "      <td>183</td>\n",
       "      <td>Afghanistan</td>\n",
       "      <td>3</td>\n",
       "      <td>NaN</td>\n",
       "      <td>NaN</td>\n",
       "      <td>NaN</td>\n",
       "      <td>NaN</td>\n",
       "      <td>NaN</td>\n",
       "      <td>NaN</td>\n",
       "      <td>NaN</td>\n",
       "    </tr>\n",
       "    <tr>\n",
       "      <th>Granularity</th>\n",
       "      <td>549</td>\n",
       "      <td>3</td>\n",
       "      <td>Female</td>\n",
       "      <td>183</td>\n",
       "      <td>NaN</td>\n",
       "      <td>NaN</td>\n",
       "      <td>NaN</td>\n",
       "      <td>NaN</td>\n",
       "      <td>NaN</td>\n",
       "      <td>NaN</td>\n",
       "      <td>NaN</td>\n",
       "    </tr>\n",
       "    <tr>\n",
       "      <th>Mortality rate attributed to exposure to unsafe WASH services</th>\n",
       "      <td>549.0</td>\n",
       "      <td>NaN</td>\n",
       "      <td>NaN</td>\n",
       "      <td>NaN</td>\n",
       "      <td>12.493876</td>\n",
       "      <td>20.830508</td>\n",
       "      <td>0.00396</td>\n",
       "      <td>0.19296</td>\n",
       "      <td>1.28871</td>\n",
       "      <td>18.05478</td>\n",
       "      <td>107.04802</td>\n",
       "    </tr>\n",
       "    <tr>\n",
       "      <th>WASH deaths</th>\n",
       "      <td>183.0</td>\n",
       "      <td>NaN</td>\n",
       "      <td>NaN</td>\n",
       "      <td>NaN</td>\n",
       "      <td>4756.097706</td>\n",
       "      <td>21280.125369</td>\n",
       "      <td>0.08229</td>\n",
       "      <td>11.163275</td>\n",
       "      <td>130.9834</td>\n",
       "      <td>1950.4335</td>\n",
       "      <td>246087.9</td>\n",
       "    </tr>\n",
       "  </tbody>\n",
       "</table>\n",
       "</div>"
      ],
      "text/plain": [
       "                                                    count unique          top  \\\n",
       "Year                                                549.0    NaN          NaN   \n",
       "Country                                               549    183  Afghanistan   \n",
       "Granularity                                           549      3       Female   \n",
       "Mortality rate attributed to exposure to unsafe...  549.0    NaN          NaN   \n",
       "WASH deaths                                         183.0    NaN          NaN   \n",
       "\n",
       "                                                   freq         mean  \\\n",
       "Year                                                NaN       2016.0   \n",
       "Country                                               3          NaN   \n",
       "Granularity                                         183          NaN   \n",
       "Mortality rate attributed to exposure to unsafe...  NaN    12.493876   \n",
       "WASH deaths                                         NaN  4756.097706   \n",
       "\n",
       "                                                             std      min  \\\n",
       "Year                                                         0.0   2016.0   \n",
       "Country                                                      NaN      NaN   \n",
       "Granularity                                                  NaN      NaN   \n",
       "Mortality rate attributed to exposure to unsafe...     20.830508  0.00396   \n",
       "WASH deaths                                         21280.125369  0.08229   \n",
       "\n",
       "                                                          25%       50%  \\\n",
       "Year                                                   2016.0    2016.0   \n",
       "Country                                                   NaN       NaN   \n",
       "Granularity                                               NaN       NaN   \n",
       "Mortality rate attributed to exposure to unsafe...    0.19296   1.28871   \n",
       "WASH deaths                                         11.163275  130.9834   \n",
       "\n",
       "                                                          75%        max  \n",
       "Year                                                   2016.0     2016.0  \n",
       "Country                                                   NaN        NaN  \n",
       "Granularity                                               NaN        NaN  \n",
       "Mortality rate attributed to exposure to unsafe...   18.05478  107.04802  \n",
       "WASH deaths                                         1950.4335   246087.9  "
      ]
     },
     "execution_count": 51,
     "metadata": {},
     "output_type": "execute_result"
    }
   ],
   "source": [
    "# La fonction est visible dans le fichier mylib\n",
    "exploration4(mortal)"
   ]
  },
  {
   "cell_type": "code",
   "execution_count": 52,
   "id": "600ac505",
   "metadata": {
    "canvas": {
     "comments": [],
     "componentType": "CodeCell",
     "copiedOriginId": null,
     "diskcache": false,
     "headerColor": "none",
     "id": "f102cd11-06a1-41cf-9e04-88219977c5a7",
     "isComponent": false,
     "name": "",
     "parents": []
    }
   },
   "outputs": [],
   "source": [
    "# Renommage de colonne\n",
    "mortal.rename(columns={'Granularity': 'Granularity mortality gender'}, inplace=True)"
   ]
  },
  {
   "cell_type": "markdown",
   "id": "077b65e5-4e2b-4151-9b59-c511819318c5",
   "metadata": {
    "canvas": {
     "comments": [],
     "componentType": "CodeCell",
     "copiedOriginId": null,
     "diskcache": false,
     "headerColor": "inherit",
     "id": "ad77a01b-97f5-401e-8d81-45b961fd02b9",
     "isComponent": false,
     "name": "",
     "parents": []
    }
   },
   "source": [
    "## Vérifions l'exactitude du nom des pays"
   ]
  },
  {
   "cell_type": "code",
   "execution_count": 53,
   "id": "95092a5d-307e-436e-ba9c-66019e159e37",
   "metadata": {
    "canvas": {
     "comments": [],
     "componentType": "CodeCell",
     "copiedOriginId": null,
     "diskcache": false,
     "headerColor": "inherit",
     "id": "125d8bb0-6f83-4f0c-a020-1f0b4768949c",
     "isComponent": false,
     "name": "",
     "parents": []
    }
   },
   "outputs": [
    {
     "name": "stdout",
     "output_type": "stream",
     "text": [
      "\u001b[1mPays communs aux deux DataFrames :\n",
      "Nombre : 183 \u001b[0;0m\n",
      "{'Belarus', 'Kyrgyzstan', 'France', 'Republic of North Macedonia', 'Fiji', 'Honduras', 'Austria', 'Portugal', 'Liberia', 'Armenia', 'Estonia', 'Georgia', 'Russian Federation', 'Malawi', 'Sri Lanka', 'Syrian Arab Republic', 'Yemen', 'Italy', 'Albania', 'China', 'United States of America', 'Libya', 'Equatorial Guinea', 'Philippines', 'Latvia', 'Qatar', 'Samoa', 'Zambia', 'Cyprus', 'Lithuania', 'Lebanon', 'Iceland', 'Viet Nam', 'Indonesia', 'Thailand', 'Central African Republic', 'Djibouti', 'Senegal', 'Spain', 'Solomon Islands', 'Denmark', 'Ecuador', 'Greece', 'Namibia', 'Montenegro', 'Bulgaria', \"Democratic People's Republic of Korea\", 'Lesotho', 'Nigeria', 'Sierra Leone', 'Saint Lucia', 'Iraq', 'Cambodia', 'Mexico', 'Peru', 'Bahrain', 'Czechia', 'Pakistan', 'Suriname', 'Panama', 'Ukraine', 'Haiti', 'Guinea-Bissau', 'Oman', 'Nepal', 'Republic of Moldova', 'Comoros', 'Somalia', 'Japan', 'United Republic of Tanzania', 'Ireland', 'Eswatini', 'Dominican Republic', 'Uzbekistan', 'Guatemala', 'Mongolia', 'Eritrea', 'Micronesia (Federated States of)', 'India', 'Congo', 'Kiribati', 'Malaysia', 'Democratic Republic of the Congo', \"Côte d'Ivoire\", 'Ethiopia', 'Morocco', 'Canada', 'Cuba', 'Bolivia (Plurinational State of)', 'Algeria', 'Uruguay', 'Paraguay', 'New Zealand', 'Benin', 'Malta', 'Azerbaijan', 'Iran (Islamic Republic of)', 'Bahamas', 'Brazil', 'Kazakhstan', 'Mozambique', 'Niger', 'Israel', 'Trinidad and Tobago', 'Belgium', 'Croatia', 'Timor-Leste', 'Burundi', 'Finland', 'Afghanistan', 'Australia', 'Botswana', 'Guyana', 'Vanuatu', 'Cameroon', 'Jamaica', 'Guinea', 'Turkey', 'Sao Tome and Principe', 'Mali', 'Uganda', 'Myanmar', 'Netherlands', 'Sweden', 'Chile', 'Argentina', 'Tonga', 'Tunisia', 'Madagascar', 'Mauritania', 'Zimbabwe', 'Barbados', 'Colombia', 'Kenya', 'Belize', 'Saint Vincent and the Grenadines', 'Sudan', 'Tajikistan', 'Bosnia and Herzegovina', 'Maldives', 'Antigua and Barbuda', 'Germany', 'Egypt', 'Bangladesh', 'Jordan', 'Grenada', 'Rwanda', 'Slovakia', 'Burkina Faso', 'United Kingdom of Great Britain and Northern Ireland', 'Togo', 'Seychelles', 'Bhutan', \"Lao People's Democratic Republic\", 'Chad', 'Republic of Korea', 'United Arab Emirates', 'Norway', 'Saudi Arabia', 'Slovenia', 'Romania', 'Singapore', 'Kuwait', 'Mauritius', 'Luxembourg', 'Papua New Guinea', 'Serbia', 'Cabo Verde', 'Venezuela (Bolivarian Republic of)', 'Costa Rica', 'Brunei Darussalam', 'Gabon', 'Hungary', 'Poland', 'Nicaragua', 'Turkmenistan', 'South Africa', 'Switzerland', 'El Salvador', 'South Sudan', 'Gambia', 'Ghana', 'Angola'}\n",
      "\u001b[1m\n",
      "Pays uniquement dans le DataFrame mortal :\n",
      "Nombre : 0 \u001b[0;0m\n",
      "set()\n",
      "\u001b[1m\n",
      "Pays uniquement dans le DataFrame country :\n",
      "Nombre : 54 \u001b[0;0m\n",
      "{'Turks and Caicos Islands', 'Gibraltar', 'Hong Kong', 'Palau', 'Saint-Martin (French part)', 'United States Virgin Islands', 'Anguilla', 'American Samoa', 'Aruba', 'Puerto Rico', 'Netherlands Antilles (former)', 'San Marino', 'Cook Islands', 'Sint Maarten  (Dutch part)', 'Cayman Islands', 'Guadeloupe', 'Northern Mariana Islands', 'Niue', 'Dominica', 'Tokelau', 'Faroe Islands', 'Saint Pierre and Miquelon', 'Wallis and Futuna Islands', 'Bonaire, Sint Eustatius and Saba', 'Saint Helena, Ascension and Tristan da Cunha', 'Sudan (former)', 'Saint Kitts and Nevis', 'Isle of Man', 'Mayotte', 'Martinique', 'Guam', 'Taiwan', 'Saint Barthélemy', 'Curaçao', 'Réunion', 'Channel Islands', 'Falkland Islands (Malvinas)', 'Liechtenstein', 'Macao', 'Montserrat', 'French Polynesia', 'Nauru', 'New Caledonia', 'Andorra', 'Greenland', 'British Virgin Islands', 'Bermuda', 'Marshall Islands', 'Tuvalu', 'Palestine', 'Holy See', 'Western Sahara', 'Monaco', 'French Guyana'}\n"
     ]
    }
   ],
   "source": [
    "mortal_countries = mortal['Country'].unique()\n",
    "country_countries = country['Country'].unique()\n",
    "\n",
    "# Compare les valeurs uniques des deux DataFrames\n",
    "common_countries = set(mortal_countries) & set(country_countries)\n",
    "unique_countries_in_mortal = set(mortal_countries) - set(country_countries)\n",
    "unique_countries_in_country = set(country_countries) - set(mortal_countries)\n",
    "\n",
    "# Affiche les résultats\n",
    "print(bold + \"Pays communs aux deux DataFrames :\")\n",
    "print(\"Nombre :\", len(common_countries), end)\n",
    "print(common_countries)\n",
    "print(bold + \"\\nPays uniquement dans le DataFrame mortal :\")\n",
    "print(\"Nombre :\", len(unique_countries_in_mortal), end)\n",
    "print(unique_countries_in_mortal)\n",
    "print(bold + \"\\nPays uniquement dans le DataFrame country :\")\n",
    "print(\"Nombre :\", len(unique_countries_in_country), end)\n",
    "print(unique_countries_in_country)"
   ]
  },
  {
   "cell_type": "markdown",
   "id": "772be46f-d745-4ab4-9b6e-831a13e0927c",
   "metadata": {
    "canvas": {
     "comments": [],
     "componentType": "CodeCell",
     "copiedOriginId": "45458931-57c7-483f-9109-acfa95fe7298",
     "diskcache": false,
     "headerColor": "inherit",
     "id": "e1e3ed1c-f60e-4650-90a9-530911f431ea",
     "isComponent": false,
     "name": "",
     "parents": []
    }
   },
   "source": [
    "**=> Pas de corrections à faire, pour la jointure il est important que tous les pays du DataFrame 'mortal' soient présents dans le DataFrame 'country'**"
   ]
  },
  {
   "cell_type": "code",
   "execution_count": 54,
   "id": "699ff998-c7e9-433f-81f9-00069fe66aad",
   "metadata": {
    "canvas": {
     "comments": [],
     "componentType": "CodeCell",
     "copiedOriginId": "daf840df-a99b-4161-93c9-5edc35cd1611",
     "diskcache": false,
     "headerColor": "inherit",
     "id": "0ecb9c72-2288-4f21-bfd8-66ead70d736c",
     "isComponent": false,
     "name": "",
     "parents": []
    }
   },
   "outputs": [
    {
     "name": "stdout",
     "output_type": "stream",
     "text": [
      "\u001b[1mCorrespondances entre les noms de pays (excluant les identiques) :\u001b[0;0m\n",
      "Pop : Democratic Republic of the Congo, Country : Congo\n",
      "Pop : Guinea, Country : Equatorial Guinea\n",
      "Pop : Guinea-Bissau, Country : Guinea\n",
      "Pop : Papua New Guinea, Country : Guinea\n",
      "Pop : Republic of Korea, Country : Democratic People's Republic of Korea\n",
      "Pop : Sudan, Country : South Sudan\n",
      "Pop : United Kingdom of Great Britain and Northern Ireland, Country : Ireland\n"
     ]
    }
   ],
   "source": [
    "# Obtiens les valeurs uniques de la colonne 'Country' dans le premier DataFrame (pop)\n",
    "mortal_countries = mortal['Country'].unique()\n",
    "\n",
    "# Obtiens les valeurs uniques de la colonne 'Country' dans le deuxième DataFrame (country)\n",
    "country_countries = country['Country'].unique()\n",
    "\n",
    "# Définit un seuil de correspondance (score minimal pour considérer les pays comme correspondants)\n",
    "threshold = 80\n",
    "\n",
    "# Compare les noms de pays entre les deux DataFrames\n",
    "matching_countries = []\n",
    "for country_mortal in mortal_countries:\n",
    "    best_match = process.extractOne(country_mortal, country_countries, scorer=fuzz.token_set_ratio)\n",
    "    if best_match[1] >= threshold and country_mortal != best_match[0]:\n",
    "        matching_countries.append((country_mortal, best_match[0]))\n",
    "\n",
    "# Affiche les résultats\n",
    "print(bold + \"Correspondances entre les noms de pays (excluant les identiques) :\" + end)\n",
    "for country_pair in matching_countries:\n",
    "    print(\"Pop : {}, Country : {}\".format(country_pair[0], country_pair[1]))"
   ]
  },
  {
   "cell_type": "markdown",
   "id": "8742ea64-9985-45f5-b5fc-d43745d41f1e",
   "metadata": {
    "canvas": {
     "comments": [],
     "componentType": "CodeCell",
     "copiedOriginId": "45458931-57c7-483f-9109-acfa95fe7298",
     "diskcache": false,
     "headerColor": "inherit",
     "id": "26d21124-1bf4-4e0d-a628-dc2393b6582a",
     "isComponent": false,
     "name": "",
     "parents": []
    }
   },
   "source": [
    "**=> Il s'agit bien de pays différents, il n'y a pas de correction à faire**"
   ]
  },
  {
   "cell_type": "markdown",
   "id": "4b505355-1bda-4a77-a4b0-a734f6b691c3",
   "metadata": {
    "canvas": {
     "comments": [],
     "componentType": "CodeCell",
     "copiedOriginId": null,
     "diskcache": false,
     "headerColor": "inherit",
     "id": "c90cc79c-f654-4379-942b-1ceba167aeca",
     "isComponent": false,
     "name": "",
     "parents": []
    }
   },
   "source": [
    "# **Political stabillity**"
   ]
  },
  {
   "cell_type": "markdown",
   "id": "77c96dd7",
   "metadata": {
    "canvas": {
     "comments": [],
     "componentType": "CodeCell",
     "copiedOriginId": null,
     "diskcache": false,
     "headerColor": "none",
     "id": "f4c66332-3729-408e-8ae2-3d731c53e068",
     "isComponent": false,
     "name": "",
     "parents": []
    }
   },
   "source": [
    "## Observations uniques"
   ]
  },
  {
   "cell_type": "code",
   "execution_count": 55,
   "id": "e7126b67",
   "metadata": {
    "canvas": {
     "comments": [],
     "componentType": "CodeCell",
     "copiedOriginId": null,
     "diskcache": false,
     "headerColor": "none",
     "id": "d40605a1-80a7-495e-a10e-82e65a67b116",
     "isComponent": false,
     "name": "",
     "parents": []
    }
   },
   "outputs": [
    {
     "name": "stdout",
     "output_type": "stream",
     "text": [
      "\u001b[1mCountry\u001b[0;0m \n",
      " ['Afghanistan' 'Albania' 'Algeria' 'American Samoa' 'Andorra' 'Angola'\n",
      " 'Antigua and Barbuda' 'Argentina' 'Armenia' 'Australia' 'Austria'\n",
      " 'Azerbaijan' 'Bahamas' 'Bahrain' 'Bangladesh' 'Barbados' 'Belarus'\n",
      " 'Belgium' 'Belize' 'Benin' 'Bermuda' 'Bhutan'\n",
      " 'Bolivia (Plurinational State of)' 'Bosnia and Herzegovina' 'Botswana'] \n",
      "\n",
      "\u001b[1mYear\u001b[0;0m \n",
      " [2000 2002 2003 2004 2005 2006 2007 2008 2009 2010 2011 2012 2013 2014\n",
      " 2015 2016 2017 2018] \n",
      "\n",
      "\u001b[1mPolitical_Stability\u001b[0;0m \n",
      " [-2.44 -2.04 -2.2  -2.3  -2.07 -2.22 -2.41 -2.69 -2.71 -2.58 -2.5  -2.42\n",
      " -2.52 -2.57 -2.67 -2.8  -2.75 -0.54 -0.29 -0.31 -0.43 -0.51 -0.2  -0.03\n",
      " -0.05] \n",
      "\n",
      "\u001b[1mGranularity\u001b[0;0m \n",
      " ['Total'] \n",
      "\n"
     ]
    }
   ],
   "source": [
    "for i in stab.columns:\n",
    "    print(bold + i + end, \"\\n\", stab[i].unique()[0:25], \"\\n\")"
   ]
  },
  {
   "cell_type": "markdown",
   "id": "22b4408a",
   "metadata": {
    "canvas": {
     "comments": [],
     "componentType": "CodeCell",
     "copiedOriginId": null,
     "diskcache": false,
     "headerColor": "none",
     "id": "c1692e51-b1da-4421-b7ae-f1fe23c07e42",
     "isComponent": false,
     "name": "",
     "parents": []
    }
   },
   "source": [
    "## Exploration"
   ]
  },
  {
   "cell_type": "code",
   "execution_count": 56,
   "id": "63bc5ab0-c8b1-4020-98c4-06caec9f9054",
   "metadata": {
    "canvas": {
     "comments": [],
     "componentType": "CodeCell",
     "copiedOriginId": null,
     "diskcache": false,
     "headerColor": "inherit",
     "id": "c21c4bbd-6a61-4246-b9aa-e7d8494e25b8",
     "isComponent": false,
     "name": "",
     "parents": []
    }
   },
   "outputs": [
    {
     "data": {
      "text/html": [
       "<style type=\"text/css\">\n",
       "</style>\n",
       "<table id=\"T_f7708\" style='display:grid'>\n",
       "  <caption>__________ Head __________</caption>\n",
       "  <thead>\n",
       "    <tr>\n",
       "      <th class=\"blank level0\" >&nbsp;</th>\n",
       "      <th id=\"T_f7708_level0_col0\" class=\"col_heading level0 col0\" >Country</th>\n",
       "      <th id=\"T_f7708_level0_col1\" class=\"col_heading level0 col1\" >Year</th>\n",
       "      <th id=\"T_f7708_level0_col2\" class=\"col_heading level0 col2\" >Political_Stability</th>\n",
       "      <th id=\"T_f7708_level0_col3\" class=\"col_heading level0 col3\" >Granularity</th>\n",
       "    </tr>\n",
       "  </thead>\n",
       "  <tbody>\n",
       "    <tr>\n",
       "      <th id=\"T_f7708_level0_row0\" class=\"row_heading level0 row0\" >0</th>\n",
       "      <td id=\"T_f7708_row0_col0\" class=\"data row0 col0\" >Afghanistan</td>\n",
       "      <td id=\"T_f7708_row0_col1\" class=\"data row0 col1\" >2000</td>\n",
       "      <td id=\"T_f7708_row0_col2\" class=\"data row0 col2\" >-2.440000</td>\n",
       "      <td id=\"T_f7708_row0_col3\" class=\"data row0 col3\" >Total</td>\n",
       "    </tr>\n",
       "    <tr>\n",
       "      <th id=\"T_f7708_level0_row1\" class=\"row_heading level0 row1\" >1</th>\n",
       "      <td id=\"T_f7708_row1_col0\" class=\"data row1 col0\" >Afghanistan</td>\n",
       "      <td id=\"T_f7708_row1_col1\" class=\"data row1 col1\" >2002</td>\n",
       "      <td id=\"T_f7708_row1_col2\" class=\"data row1 col2\" >-2.040000</td>\n",
       "      <td id=\"T_f7708_row1_col3\" class=\"data row1 col3\" >Total</td>\n",
       "    </tr>\n",
       "    <tr>\n",
       "      <th id=\"T_f7708_level0_row2\" class=\"row_heading level0 row2\" >2</th>\n",
       "      <td id=\"T_f7708_row2_col0\" class=\"data row2 col0\" >Afghanistan</td>\n",
       "      <td id=\"T_f7708_row2_col1\" class=\"data row2 col1\" >2003</td>\n",
       "      <td id=\"T_f7708_row2_col2\" class=\"data row2 col2\" >-2.200000</td>\n",
       "      <td id=\"T_f7708_row2_col3\" class=\"data row2 col3\" >Total</td>\n",
       "    </tr>\n",
       "  </tbody>\n",
       "</table>\n",
       " <style type=\"text/css\">\n",
       "</style>\n",
       "<table id=\"T_52df4\" style='display:grid'>\n",
       "  <caption>__________ Tail __________</caption>\n",
       "  <thead>\n",
       "    <tr>\n",
       "      <th class=\"blank level0\" >&nbsp;</th>\n",
       "      <th id=\"T_52df4_level0_col0\" class=\"col_heading level0 col0\" >Country</th>\n",
       "      <th id=\"T_52df4_level0_col1\" class=\"col_heading level0 col1\" >Year</th>\n",
       "      <th id=\"T_52df4_level0_col2\" class=\"col_heading level0 col2\" >Political_Stability</th>\n",
       "      <th id=\"T_52df4_level0_col3\" class=\"col_heading level0 col3\" >Granularity</th>\n",
       "    </tr>\n",
       "  </thead>\n",
       "  <tbody>\n",
       "    <tr>\n",
       "      <th id=\"T_52df4_level0_row0\" class=\"row_heading level0 row0\" >3523</th>\n",
       "      <td id=\"T_52df4_row0_col0\" class=\"data row0 col0\" >Zimbabwe</td>\n",
       "      <td id=\"T_52df4_row0_col1\" class=\"data row0 col1\" >2016</td>\n",
       "      <td id=\"T_52df4_row0_col2\" class=\"data row0 col2\" >-0.620000</td>\n",
       "      <td id=\"T_52df4_row0_col3\" class=\"data row0 col3\" >Total</td>\n",
       "    </tr>\n",
       "    <tr>\n",
       "      <th id=\"T_52df4_level0_row1\" class=\"row_heading level0 row1\" >3524</th>\n",
       "      <td id=\"T_52df4_row1_col0\" class=\"data row1 col0\" >Zimbabwe</td>\n",
       "      <td id=\"T_52df4_row1_col1\" class=\"data row1 col1\" >2017</td>\n",
       "      <td id=\"T_52df4_row1_col2\" class=\"data row1 col2\" >-0.710000</td>\n",
       "      <td id=\"T_52df4_row1_col3\" class=\"data row1 col3\" >Total</td>\n",
       "    </tr>\n",
       "    <tr>\n",
       "      <th id=\"T_52df4_level0_row2\" class=\"row_heading level0 row2\" >3525</th>\n",
       "      <td id=\"T_52df4_row2_col0\" class=\"data row2 col0\" >Zimbabwe</td>\n",
       "      <td id=\"T_52df4_row2_col1\" class=\"data row2 col1\" >2018</td>\n",
       "      <td id=\"T_52df4_row2_col2\" class=\"data row2 col2\" >-0.710000</td>\n",
       "      <td id=\"T_52df4_row2_col3\" class=\"data row2 col3\" >Total</td>\n",
       "    </tr>\n",
       "  </tbody>\n",
       "</table>\n",
       " <style type=\"text/css\">\n",
       "</style>\n",
       "<table id=\"T_fa696\" style='display:grid'>\n",
       "  <caption>__________ Sample __________</caption>\n",
       "  <thead>\n",
       "    <tr>\n",
       "      <th class=\"blank level0\" >&nbsp;</th>\n",
       "      <th id=\"T_fa696_level0_col0\" class=\"col_heading level0 col0\" >Country</th>\n",
       "      <th id=\"T_fa696_level0_col1\" class=\"col_heading level0 col1\" >Year</th>\n",
       "      <th id=\"T_fa696_level0_col2\" class=\"col_heading level0 col2\" >Political_Stability</th>\n",
       "      <th id=\"T_fa696_level0_col3\" class=\"col_heading level0 col3\" >Granularity</th>\n",
       "    </tr>\n",
       "  </thead>\n",
       "  <tbody>\n",
       "    <tr>\n",
       "      <th id=\"T_fa696_level0_row0\" class=\"row_heading level0 row0\" >1316</th>\n",
       "      <td id=\"T_fa696_row0_col0\" class=\"data row0 col0\" >Greenland</td>\n",
       "      <td id=\"T_fa696_row0_col1\" class=\"data row0 col1\" >2012</td>\n",
       "      <td id=\"T_fa696_row0_col2\" class=\"data row0 col2\" >1.930000</td>\n",
       "      <td id=\"T_fa696_row0_col3\" class=\"data row0 col3\" >Total</td>\n",
       "    </tr>\n",
       "    <tr>\n",
       "      <th id=\"T_fa696_level0_row1\" class=\"row_heading level0 row1\" >1159</th>\n",
       "      <td id=\"T_fa696_row1_col0\" class=\"data row1 col0\" >Fiji</td>\n",
       "      <td id=\"T_fa696_row1_col1\" class=\"data row1 col1\" >2009</td>\n",
       "      <td id=\"T_fa696_row1_col2\" class=\"data row1 col2\" >-0.270000</td>\n",
       "      <td id=\"T_fa696_row1_col3\" class=\"data row1 col3\" >Total</td>\n",
       "    </tr>\n",
       "    <tr>\n",
       "      <th id=\"T_fa696_level0_row2\" class=\"row_heading level0 row2\" >2038</th>\n",
       "      <td id=\"T_fa696_row2_col0\" class=\"data row2 col0\" >Mauritania</td>\n",
       "      <td id=\"T_fa696_row2_col1\" class=\"data row2 col1\" >2018</td>\n",
       "      <td id=\"T_fa696_row2_col2\" class=\"data row2 col2\" >-0.670000</td>\n",
       "      <td id=\"T_fa696_row2_col3\" class=\"data row2 col3\" >Total</td>\n",
       "    </tr>\n",
       "  </tbody>\n",
       "</table>\n"
      ]
     },
     "metadata": {},
     "output_type": "display_data"
    }
   ],
   "source": [
    "# La fonction est visible dans le fichier mylib\n",
    "exploration1(stab)"
   ]
  },
  {
   "cell_type": "code",
   "execution_count": 57,
   "id": "bd5f2fde-ae84-47cf-8106-b7f349e1b39d",
   "metadata": {
    "canvas": {
     "comments": [],
     "componentType": "CodeCell",
     "copiedOriginId": "c21c4bbd-6a61-4246-b9aa-e7d8494e25b8",
     "diskcache": false,
     "headerColor": "inherit",
     "id": "017aa9f1-1e42-453d-95db-1f7c3a421274",
     "isComponent": false,
     "name": "",
     "parents": []
    }
   },
   "outputs": [
    {
     "data": {
      "text/html": [
       "<div>\n",
       "<style scoped>\n",
       "    .dataframe tbody tr th:only-of-type {\n",
       "        vertical-align: middle;\n",
       "    }\n",
       "\n",
       "    .dataframe tbody tr th {\n",
       "        vertical-align: top;\n",
       "    }\n",
       "\n",
       "    .dataframe thead th {\n",
       "        text-align: right;\n",
       "    }\n",
       "</style>\n",
       "<table border=\"1\" class=\"dataframe\">\n",
       "  <thead>\n",
       "    <tr style=\"text-align: right;\">\n",
       "      <th></th>\n",
       "      <th>Type des données</th>\n",
       "      <th>Nombre de valeurs totales</th>\n",
       "      <th>Nombre de NaN</th>\n",
       "      <th>NaN (%)</th>\n",
       "      <th>Nombre de valeurs uniques</th>\n",
       "      <th>Valeurs uniques (%)</th>\n",
       "    </tr>\n",
       "  </thead>\n",
       "  <tbody>\n",
       "    <tr>\n",
       "      <th>Country</th>\n",
       "      <td>object</td>\n",
       "      <td>3526</td>\n",
       "      <td>0</td>\n",
       "      <td>0.0</td>\n",
       "      <td>200</td>\n",
       "      <td>5.67215</td>\n",
       "    </tr>\n",
       "    <tr>\n",
       "      <th>Year</th>\n",
       "      <td>int64</td>\n",
       "      <td>3526</td>\n",
       "      <td>0</td>\n",
       "      <td>0.0</td>\n",
       "      <td>18</td>\n",
       "      <td>0.510493</td>\n",
       "    </tr>\n",
       "    <tr>\n",
       "      <th>Political_Stability</th>\n",
       "      <td>float64</td>\n",
       "      <td>3526</td>\n",
       "      <td>0</td>\n",
       "      <td>0.0</td>\n",
       "      <td>444</td>\n",
       "      <td>12.592172</td>\n",
       "    </tr>\n",
       "    <tr>\n",
       "      <th>Granularity</th>\n",
       "      <td>object</td>\n",
       "      <td>3526</td>\n",
       "      <td>0</td>\n",
       "      <td>0.0</td>\n",
       "      <td>1</td>\n",
       "      <td>0.028361</td>\n",
       "    </tr>\n",
       "  </tbody>\n",
       "</table>\n",
       "</div>"
      ],
      "text/plain": [
       "                    Type des données Nombre de valeurs totales Nombre de NaN  \\\n",
       "Country                       object                      3526             0   \n",
       "Year                           int64                      3526             0   \n",
       "Political_Stability          float64                      3526             0   \n",
       "Granularity                   object                      3526             0   \n",
       "\n",
       "                    NaN (%) Nombre de valeurs uniques Valeurs uniques (%)  \n",
       "Country                 0.0                       200             5.67215  \n",
       "Year                    0.0                        18            0.510493  \n",
       "Political_Stability     0.0                       444           12.592172  \n",
       "Granularity             0.0                         1            0.028361  "
      ]
     },
     "execution_count": 57,
     "metadata": {},
     "output_type": "execute_result"
    }
   ],
   "source": [
    "# La fonction est visible dans le fichier mylib\n",
    "exploration2(stab)"
   ]
  },
  {
   "cell_type": "code",
   "execution_count": 58,
   "id": "d7a1f916-3a34-4277-83d6-66736a77ca54",
   "metadata": {
    "canvas": {
     "comments": [],
     "componentType": "CodeCell",
     "copiedOriginId": "c21c4bbd-6a61-4246-b9aa-e7d8494e25b8",
     "diskcache": false,
     "headerColor": "inherit",
     "id": "02a1c6ec-7576-4e0f-bed2-098a05aa5e1e",
     "isComponent": false,
     "name": "",
     "parents": []
    }
   },
   "outputs": [
    {
     "name": "stdout",
     "output_type": "stream",
     "text": [
      "\n",
      "---------------------------------------\n",
      "Nombre de lignes et de colonnes (shape)\n",
      "--------------------------------------- \n",
      "\n",
      "(3526, 4) \n",
      "\n",
      "--------------------------------------\n",
      "Affichage des NaN (isna().any(axis=1))\n",
      "-------------------------------------- \n",
      "\n",
      "Empty DataFrame\n",
      "Columns: [Country, Year, Political_Stability, Granularity]\n",
      "Index: [] \n",
      "\n",
      "---------------------------------------\n",
      "Nombre de doublons (duplicated().sum())\n",
      "--------------------------------------- \n",
      "\n",
      "0 \n",
      "\n",
      "-----------------------------------------------------\n",
      "Affichage des doublons (df[df.duplicated()].head(10))\n",
      "----------------------------------------------------- \n",
      "\n",
      "Empty DataFrame\n",
      "Columns: [Country, Year, Political_Stability, Granularity]\n",
      "Index: [] \n",
      "\n"
     ]
    }
   ],
   "source": [
    "# La fonction est visible dans le fichier mylib\n",
    "exploration3(stab)"
   ]
  },
  {
   "cell_type": "code",
   "execution_count": 59,
   "id": "38c140b6-c276-432c-8abc-3229c17b0030",
   "metadata": {
    "canvas": {
     "comments": [],
     "componentType": "CodeCell",
     "copiedOriginId": "c21c4bbd-6a61-4246-b9aa-e7d8494e25b8",
     "diskcache": false,
     "headerColor": "inherit",
     "id": "831cc60f-103b-47c9-b2e6-1fa5f9be6777",
     "isComponent": false,
     "name": "",
     "parents": []
    },
    "scrolled": true
   },
   "outputs": [
    {
     "data": {
      "text/html": [
       "<div>\n",
       "<style scoped>\n",
       "    .dataframe tbody tr th:only-of-type {\n",
       "        vertical-align: middle;\n",
       "    }\n",
       "\n",
       "    .dataframe tbody tr th {\n",
       "        vertical-align: top;\n",
       "    }\n",
       "\n",
       "    .dataframe thead th {\n",
       "        text-align: right;\n",
       "    }\n",
       "</style>\n",
       "<table border=\"1\" class=\"dataframe\">\n",
       "  <thead>\n",
       "    <tr style=\"text-align: right;\">\n",
       "      <th></th>\n",
       "      <th>count</th>\n",
       "      <th>unique</th>\n",
       "      <th>top</th>\n",
       "      <th>freq</th>\n",
       "      <th>mean</th>\n",
       "      <th>std</th>\n",
       "      <th>min</th>\n",
       "      <th>25%</th>\n",
       "      <th>50%</th>\n",
       "      <th>75%</th>\n",
       "      <th>max</th>\n",
       "    </tr>\n",
       "  </thead>\n",
       "  <tbody>\n",
       "    <tr>\n",
       "      <th>Country</th>\n",
       "      <td>3526</td>\n",
       "      <td>200</td>\n",
       "      <td>Afghanistan</td>\n",
       "      <td>18</td>\n",
       "      <td>NaN</td>\n",
       "      <td>NaN</td>\n",
       "      <td>NaN</td>\n",
       "      <td>NaN</td>\n",
       "      <td>NaN</td>\n",
       "      <td>NaN</td>\n",
       "      <td>NaN</td>\n",
       "    </tr>\n",
       "    <tr>\n",
       "      <th>Year</th>\n",
       "      <td>3526.0</td>\n",
       "      <td>NaN</td>\n",
       "      <td>NaN</td>\n",
       "      <td>NaN</td>\n",
       "      <td>2009.521838</td>\n",
       "      <td>5.255833</td>\n",
       "      <td>2000.0</td>\n",
       "      <td>2005.0</td>\n",
       "      <td>2010.0</td>\n",
       "      <td>2014.0</td>\n",
       "      <td>2018.0</td>\n",
       "    </tr>\n",
       "    <tr>\n",
       "      <th>Political_Stability</th>\n",
       "      <td>3526.0</td>\n",
       "      <td>NaN</td>\n",
       "      <td>NaN</td>\n",
       "      <td>NaN</td>\n",
       "      <td>-0.051044</td>\n",
       "      <td>0.996039</td>\n",
       "      <td>-3.31</td>\n",
       "      <td>-0.71</td>\n",
       "      <td>0.05</td>\n",
       "      <td>0.7975</td>\n",
       "      <td>1.97</td>\n",
       "    </tr>\n",
       "    <tr>\n",
       "      <th>Granularity</th>\n",
       "      <td>3526</td>\n",
       "      <td>1</td>\n",
       "      <td>Total</td>\n",
       "      <td>3526</td>\n",
       "      <td>NaN</td>\n",
       "      <td>NaN</td>\n",
       "      <td>NaN</td>\n",
       "      <td>NaN</td>\n",
       "      <td>NaN</td>\n",
       "      <td>NaN</td>\n",
       "      <td>NaN</td>\n",
       "    </tr>\n",
       "  </tbody>\n",
       "</table>\n",
       "</div>"
      ],
      "text/plain": [
       "                      count unique          top  freq         mean       std  \\\n",
       "Country                3526    200  Afghanistan    18          NaN       NaN   \n",
       "Year                 3526.0    NaN          NaN   NaN  2009.521838  5.255833   \n",
       "Political_Stability  3526.0    NaN          NaN   NaN    -0.051044  0.996039   \n",
       "Granularity            3526      1        Total  3526          NaN       NaN   \n",
       "\n",
       "                        min     25%     50%     75%     max  \n",
       "Country                 NaN     NaN     NaN     NaN     NaN  \n",
       "Year                 2000.0  2005.0  2010.0  2014.0  2018.0  \n",
       "Political_Stability   -3.31   -0.71    0.05  0.7975    1.97  \n",
       "Granularity             NaN     NaN     NaN     NaN     NaN  "
      ]
     },
     "execution_count": 59,
     "metadata": {},
     "output_type": "execute_result"
    }
   ],
   "source": [
    "# La fonction est visible dans le fichier mylib\n",
    "exploration4(stab)"
   ]
  },
  {
   "cell_type": "code",
   "execution_count": 60,
   "id": "19338191",
   "metadata": {
    "canvas": {
     "comments": [],
     "componentType": "CodeCell",
     "copiedOriginId": null,
     "diskcache": false,
     "headerColor": "none",
     "id": "2b16508e-ca00-49c2-b1a7-b216fd7535b8",
     "isComponent": false,
     "name": "",
     "parents": []
    }
   },
   "outputs": [],
   "source": [
    "# Suppression de colonne non pertinente pour la suite de l'étude\n",
    "stab.drop(columns='Granularity', inplace=True)"
   ]
  },
  {
   "cell_type": "code",
   "execution_count": 61,
   "id": "7f4de303",
   "metadata": {
    "canvas": {
     "comments": [],
     "componentType": "CodeCell",
     "copiedOriginId": null,
     "diskcache": false,
     "headerColor": "none",
     "id": "58c04329-7f01-452a-8131-8ef4c7838d0d",
     "isComponent": false,
     "name": "",
     "parents": []
    }
   },
   "outputs": [
    {
     "data": {
      "text/html": [
       "<div>\n",
       "<style scoped>\n",
       "    .dataframe tbody tr th:only-of-type {\n",
       "        vertical-align: middle;\n",
       "    }\n",
       "\n",
       "    .dataframe tbody tr th {\n",
       "        vertical-align: top;\n",
       "    }\n",
       "\n",
       "    .dataframe thead th {\n",
       "        text-align: right;\n",
       "    }\n",
       "</style>\n",
       "<table border=\"1\" class=\"dataframe\">\n",
       "  <thead>\n",
       "    <tr style=\"text-align: right;\">\n",
       "      <th></th>\n",
       "      <th>Country</th>\n",
       "      <th>Year</th>\n",
       "      <th>Political_Stability</th>\n",
       "    </tr>\n",
       "  </thead>\n",
       "  <tbody>\n",
       "    <tr>\n",
       "      <th>2100</th>\n",
       "      <td>Mongolia</td>\n",
       "      <td>2010</td>\n",
       "      <td>0.6</td>\n",
       "    </tr>\n",
       "  </tbody>\n",
       "</table>\n",
       "</div>"
      ],
      "text/plain": [
       "       Country  Year  Political_Stability\n",
       "2100  Mongolia  2010                  0.6"
      ]
     },
     "execution_count": 61,
     "metadata": {},
     "output_type": "execute_result"
    }
   ],
   "source": [
    "stab.sample()"
   ]
  },
  {
   "cell_type": "markdown",
   "id": "df3d78fc-d6ed-4bd8-a79d-640d99a7e2be",
   "metadata": {
    "canvas": {
     "comments": [],
     "componentType": "CodeCell",
     "copiedOriginId": "4c12d0a7-0b91-4292-87f4-b66bf1be5d86",
     "diskcache": false,
     "headerColor": "inherit",
     "id": "b167dd0c-e32a-47ed-ab2d-86c8cf7faefd",
     "isComponent": false,
     "name": "",
     "parents": []
    }
   },
   "source": [
    "## Vérifions l'exactitude du nom des pays"
   ]
  },
  {
   "cell_type": "code",
   "execution_count": 62,
   "id": "e5a5bc35-d483-4226-8e93-3d772da2fe08",
   "metadata": {
    "canvas": {
     "comments": [],
     "componentType": "CodeCell",
     "copiedOriginId": "ac1d65a1-fb55-467a-b55d-36d338359d94",
     "diskcache": false,
     "headerColor": "inherit",
     "id": "b7edb4a0-dd89-4937-a486-006a5ebe3ec4",
     "isComponent": false,
     "name": "",
     "parents": []
    }
   },
   "outputs": [
    {
     "name": "stdout",
     "output_type": "stream",
     "text": [
      "\u001b[1mPays communs aux deux DataFrames :\n",
      "Nombre : 200 \u001b[0;0m\n",
      "{'Belarus', 'Kyrgyzstan', 'France', 'Republic of North Macedonia', 'Fiji', 'Honduras', 'Austria', 'Portugal', 'Liberia', 'Armenia', 'Estonia', 'Georgia', 'Russian Federation', 'Malawi', 'Sri Lanka', 'Syrian Arab Republic', 'Yemen', 'Italy', 'Albania', 'China', 'Puerto Rico', 'United States of America', 'Libya', 'Equatorial Guinea', 'Philippines', 'Latvia', 'Niue', 'Qatar', 'Samoa', 'Zambia', 'Cyprus', 'Lithuania', 'Lebanon', 'Iceland', 'Viet Nam', 'Indonesia', 'Thailand', 'Central African Republic', 'Djibouti', 'Senegal', 'Spain', 'Solomon Islands', 'Denmark', 'Ecuador', 'Greece', 'Namibia', 'Montenegro', 'Bulgaria', \"Democratic People's Republic of Korea\", 'Lesotho', 'Nigeria', 'Sierra Leone', 'Saint Lucia', 'Iraq', 'Cambodia', 'Mexico', 'Peru', 'Bahrain', 'Czechia', 'Pakistan', 'Suriname', 'Panama', 'Ukraine', 'Haiti', 'Guinea-Bissau', 'Oman', 'Nepal', 'Republic of Moldova', 'Comoros', 'Somalia', 'Japan', 'United Republic of Tanzania', 'Ireland', 'Eswatini', 'Dominican Republic', 'Uzbekistan', 'Guatemala', 'Mongolia', 'Eritrea', 'Micronesia (Federated States of)', 'India', 'Congo', 'Kiribati', 'Malaysia', 'Democratic Republic of the Congo', \"Côte d'Ivoire\", 'Ethiopia', 'Morocco', 'Canada', 'Bermuda', 'Cuba', 'Bolivia (Plurinational State of)', 'Algeria', 'Uruguay', 'Paraguay', 'New Zealand', 'Benin', 'Malta', 'Azerbaijan', 'Iran (Islamic Republic of)', 'Bahamas', 'Brazil', 'Kazakhstan', 'Mozambique', 'Niger', 'Israel', 'Trinidad and Tobago', 'Belgium', 'Croatia', 'Timor-Leste', 'Burundi', 'Finland', 'Afghanistan', 'Australia', 'Botswana', 'Guyana', 'Vanuatu', 'Cameroon', 'Jamaica', 'Guinea', 'Turkey', 'Sao Tome and Principe', 'Mali', 'Uganda', 'Myanmar', 'Saint Kitts and Nevis', 'Netherlands', 'Sweden', 'Chile', 'Taiwan', 'Argentina', 'Tonga', 'Tunisia', 'Madagascar', 'Mauritania', 'Zimbabwe', 'Barbados', 'Colombia', 'Kenya', 'Nauru', 'Andorra', 'Belize', 'Greenland', 'Saint Vincent and the Grenadines', 'Sudan', 'Tajikistan', 'Bosnia and Herzegovina', 'Maldives', 'Palestine', 'Antigua and Barbuda', 'Germany', 'Tuvalu', 'Egypt', 'Bangladesh', 'Jordan', 'Grenada', 'Rwanda', 'Slovakia', 'Burkina Faso', 'Hong Kong', 'Palau', 'United Kingdom of Great Britain and Northern Ireland', 'Togo', 'Seychelles', 'Bhutan', \"Lao People's Democratic Republic\", 'American Samoa', 'Chad', 'Republic of Korea', 'United Arab Emirates', 'Norway', 'Cook Islands', 'Saudi Arabia', 'Slovenia', 'Romania', 'Singapore', 'Kuwait', 'Mauritius', 'Dominica', 'Luxembourg', 'Papua New Guinea', 'Serbia', 'Cabo Verde', 'Venezuela (Bolivarian Republic of)', 'Costa Rica', 'Brunei Darussalam', 'Macao', 'Gabon', 'Hungary', 'Poland', 'Nicaragua', 'Turkmenistan', 'South Africa', 'Switzerland', 'El Salvador', 'Marshall Islands', 'South Sudan', 'Gambia', 'Ghana', 'Angola'}\n",
      "\u001b[1m\n",
      "Pays uniquement dans le DataFrame stab :\n",
      "Nombre : 0 \u001b[0;0m\n",
      "set()\n",
      "\u001b[1m\n",
      "Pays uniquement dans le DataFrame country :\n",
      "Nombre : 37 \u001b[0;0m\n",
      "{'Turks and Caicos Islands', 'Gibraltar', 'Saint-Martin (French part)', 'United States Virgin Islands', 'Anguilla', 'Aruba', 'Netherlands Antilles (former)', 'San Marino', 'Sint Maarten  (Dutch part)', 'Cayman Islands', 'Guadeloupe', 'Northern Mariana Islands', 'Tokelau', 'Faroe Islands', 'Saint Pierre and Miquelon', 'Wallis and Futuna Islands', 'Bonaire, Sint Eustatius and Saba', 'Saint Helena, Ascension and Tristan da Cunha', 'Sudan (former)', 'Isle of Man', 'Mayotte', 'Martinique', 'Guam', 'Saint Barthélemy', 'Liechtenstein', 'Curaçao', 'Réunion', 'Channel Islands', 'Falkland Islands (Malvinas)', 'Montserrat', 'French Polynesia', 'New Caledonia', 'British Virgin Islands', 'Holy See', 'Western Sahara', 'Monaco', 'French Guyana'}\n"
     ]
    }
   ],
   "source": [
    "stab_countries = stab['Country'].unique()\n",
    "country_countries = country['Country'].unique()\n",
    "\n",
    "# Compare les valeurs uniques des deux DataFrames\n",
    "common_countries = set(stab_countries) & set(country_countries)\n",
    "unique_countries_in_stab = set(stab_countries) - set(country_countries)\n",
    "unique_countries_in_country = set(country_countries) - set(stab_countries)\n",
    "\n",
    "# Affiche les résultats\n",
    "print(bold + \"Pays communs aux deux DataFrames :\")\n",
    "print(\"Nombre :\", len(common_countries), end)\n",
    "print(common_countries)\n",
    "print(bold + \"\\nPays uniquement dans le DataFrame stab :\")\n",
    "print(\"Nombre :\", len(unique_countries_in_stab), end)\n",
    "print(unique_countries_in_stab)\n",
    "print(bold + \"\\nPays uniquement dans le DataFrame country :\")\n",
    "print(\"Nombre :\", len(unique_countries_in_country), end)\n",
    "print(unique_countries_in_country)"
   ]
  },
  {
   "cell_type": "markdown",
   "id": "abb7f349-1111-4602-aa6e-509977fc335b",
   "metadata": {
    "canvas": {
     "comments": [],
     "componentType": "CodeCell",
     "copiedOriginId": "45458931-57c7-483f-9109-acfa95fe7298",
     "diskcache": false,
     "headerColor": "inherit",
     "id": "46341af2-6922-4c74-aa69-ea93876aca4f",
     "isComponent": false,
     "name": "",
     "parents": []
    }
   },
   "source": [
    "**=> Pas de corrections à faire, pour la jointure il est important que tous les pays du DataFrame 'stab' soient présents dans le DataFrame 'country'**"
   ]
  },
  {
   "cell_type": "code",
   "execution_count": 63,
   "id": "d43f4989-dad3-41de-9dd8-74402b198893",
   "metadata": {
    "canvas": {
     "comments": [],
     "componentType": "CodeCell",
     "copiedOriginId": "daf840df-a99b-4161-93c9-5edc35cd1611",
     "diskcache": false,
     "headerColor": "inherit",
     "id": "55575236-645b-4317-8f35-1b162ea26d0c",
     "isComponent": false,
     "name": "",
     "parents": []
    }
   },
   "outputs": [
    {
     "name": "stdout",
     "output_type": "stream",
     "text": [
      "\u001b[1mCorrespondances entre les noms de pays (excluant les identiques) :\u001b[0;0m\n",
      "Pop : American Samoa, Country : Samoa\n",
      "Pop : Democratic Republic of the Congo, Country : Congo\n",
      "Pop : Guinea, Country : Equatorial Guinea\n",
      "Pop : Guinea-Bissau, Country : Guinea\n",
      "Pop : Papua New Guinea, Country : Guinea\n",
      "Pop : Republic of Korea, Country : Democratic People's Republic of Korea\n",
      "Pop : Sudan, Country : South Sudan\n",
      "Pop : United Kingdom of Great Britain and Northern Ireland, Country : Ireland\n"
     ]
    }
   ],
   "source": [
    "# Obtiens les valeurs uniques de la colonne 'Country' dans le premier DataFrame (pop)\n",
    "stab_countries = stab['Country'].unique()\n",
    "\n",
    "# Obtiens les valeurs uniques de la colonne 'Country' dans le deuxième DataFrame (country)\n",
    "country_countries = country['Country'].unique()\n",
    "\n",
    "# Définit un seuil de correspondance (score minimal pour considérer les pays comme correspondants)\n",
    "threshold = 80\n",
    "\n",
    "# Compare les noms de pays entre les deux DataFrames\n",
    "matching_countries = []\n",
    "for country_stab in stab_countries:\n",
    "    best_match = process.extractOne(country_stab, country_countries, scorer=fuzz.token_set_ratio)\n",
    "    if best_match[1] >= threshold and country_stab != best_match[0]:\n",
    "        matching_countries.append((country_stab, best_match[0]))\n",
    "\n",
    "# Affiche les résultats\n",
    "print(bold + \"Correspondances entre les noms de pays (excluant les identiques) :\" + end)\n",
    "for country_pair in matching_countries:\n",
    "    print(\"Pop : {}, Country : {}\".format(country_pair[0], country_pair[1]))"
   ]
  },
  {
   "cell_type": "markdown",
   "id": "9655a638-3548-4a99-90c8-585adc53c452",
   "metadata": {
    "canvas": {
     "comments": [],
     "componentType": "CodeCell",
     "copiedOriginId": "45458931-57c7-483f-9109-acfa95fe7298",
     "diskcache": false,
     "headerColor": "inherit",
     "id": "3e56de2a-564c-4e06-90a0-e1c1c8303e3b",
     "isComponent": false,
     "name": "",
     "parents": []
    }
   },
   "source": [
    "**=> Il s'agit bien de pays différents, il n'y a pas de correction à faire**"
   ]
  },
  {
   "cell_type": "markdown",
   "id": "a78cce43-29d5-498f-a887-d94a101c8e25",
   "metadata": {
    "canvas": {
     "comments": [],
     "componentType": "CodeCell",
     "copiedOriginId": null,
     "diskcache": false,
     "headerColor": "inherit",
     "id": "400f147a-aa8e-4cae-a009-f946e4dff82f",
     "isComponent": false,
     "name": "",
     "parents": []
    }
   },
   "source": [
    "# **Exportation des fichiers**"
   ]
  },
  {
   "cell_type": "code",
   "execution_count": 64,
   "id": "2e9d13e8-4a7c-468b-9e26-3a7678b21337",
   "metadata": {
    "canvas": {
     "comments": [],
     "componentType": "CodeCell",
     "copiedOriginId": "732c5e78-fffe-4ff5-8a54-bf32a3836426",
     "diskcache": false,
     "headerColor": "inherit",
     "id": "6b8a1bb8-f4b6-4ddc-97ac-339033ee4efe",
     "isComponent": false,
     "name": "",
     "parents": []
    }
   },
   "outputs": [],
   "source": [
    "country.to_excel('src/country_cleaned.xlsx')\n",
    "pop.to_excel('src/pop_cleaned.xlsx')\n",
    "water.to_excel('src/water_cleaned.xlsx')\n",
    "stab.to_excel('src/stab_cleaned.xlsx')\n",
    "mortal.to_excel('src/mortal_cleaned.xlsx')"
   ]
  }
 ],
 "metadata": {
  "canvas": {
   "colorPalette": [
    "inherit",
    "inherit",
    "inherit",
    "inherit",
    "inherit",
    "inherit",
    "inherit",
    "inherit",
    "inherit",
    "inherit"
   ],
   "parameters": [],
   "version": "1.0"
  },
  "kernelspec": {
   "display_name": "Python 3 (ipykernel)",
   "language": "python",
   "name": "python3"
  },
  "language_info": {
   "codemirror_mode": {
    "name": "ipython",
    "version": 3
   },
   "file_extension": ".py",
   "mimetype": "text/x-python",
   "name": "python",
   "nbconvert_exporter": "python",
   "pygments_lexer": "ipython3",
   "version": "3.9.13"
  },
  "toc": {
   "base_numbering": 1,
   "nav_menu": {},
   "number_sections": true,
   "sideBar": true,
   "skip_h1_title": false,
   "title_cell": "Table of Contents",
   "title_sidebar": "Contents",
   "toc_cell": false,
   "toc_position": {
    "height": "calc(100% - 180px)",
    "left": "10px",
    "top": "150px",
    "width": "409.59375px"
   },
   "toc_section_display": true,
   "toc_window_display": true
  },
  "varInspector": {
   "cols": {
    "lenName": 16,
    "lenType": 16,
    "lenVar": 40
   },
   "kernels_config": {
    "python": {
     "delete_cmd_postfix": "",
     "delete_cmd_prefix": "del ",
     "library": "var_list.py",
     "varRefreshCmd": "print(var_dic_list())"
    },
    "r": {
     "delete_cmd_postfix": ") ",
     "delete_cmd_prefix": "rm(",
     "library": "var_list.r",
     "varRefreshCmd": "cat(var_dic_list()) "
    }
   },
   "types_to_exclude": [
    "module",
    "function",
    "builtin_function_or_method",
    "instance",
    "_Feature"
   ],
   "window_display": false
  }
 },
 "nbformat": 4,
 "nbformat_minor": 5
}
